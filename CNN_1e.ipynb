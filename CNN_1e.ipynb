{
  "nbformat": 4,
  "nbformat_minor": 0,
  "metadata": {
    "colab": {
      "name": "CNN_1e.ipynb",
      "provenance": [],
      "collapsed_sections": [],
      "authorship_tag": "ABX9TyPVbCLha5728lQUc6cop1TY",
      "include_colab_link": true
    },
    "kernelspec": {
      "name": "python3",
      "display_name": "Python 3"
    },
    "accelerator": "GPU"
  },
  "cells": [
    {
      "cell_type": "markdown",
      "metadata": {
        "id": "view-in-github",
        "colab_type": "text"
      },
      "source": [
        "<a href=\"https://colab.research.google.com/github/japeshmethuku17/imagenette_6class/blob/master/CNN_1e.ipynb\" target=\"_parent\"><img src=\"https://colab.research.google.com/assets/colab-badge.svg\" alt=\"Open In Colab\"/></a>"
      ]
    },
    {
      "cell_type": "markdown",
      "metadata": {
        "id": "kE6VJZBiKfNb",
        "colab_type": "text"
      },
      "source": [
        "## **Development of a VGG-Baseline Convolutional Neural Network Model to classify images from Imagenette_6class dataset.**\n",
        "\n",
        "\n",
        "\n"
      ]
    },
    {
      "cell_type": "markdown",
      "metadata": {
        "id": "Vk1NOGck8mbo",
        "colab_type": "text"
      },
      "source": [
        "# **Step 1: Import the required libraries**"
      ]
    },
    {
      "cell_type": "code",
      "metadata": {
        "id": "zO81wA3gKVj6",
        "colab_type": "code",
        "outputId": "a7822274-527b-49f8-f81f-897041af9aba",
        "colab": {
          "base_uri": "https://localhost:8080/",
          "height": 67
        }
      },
      "source": [
        "import tensorflow as tf\n",
        "from tensorflow import keras\n",
        "from sklearn.model_selection import train_test_split\n",
        "from tensorflow.keras import utils\n",
        "from tensorflow.keras import datasets, layers, models, callbacks\n",
        "from tensorflow.keras.layers import Conv2D, MaxPooling2D, Dense, Dropout, Flatten, Activation, BatchNormalization\n",
        "from tensorflow.keras.preprocessing.image import ImageDataGenerator, img_to_array, load_img\n",
        "from tensorflow.keras import optimizers\n",
        "from tensorflow.python.keras.models import Sequential, Model, load_model\n",
        "from tensorflow.keras.callbacks import TensorBoard, ReduceLROnPlateau, ModelCheckpoint, EarlyStopping, CSVLogger\n",
        "from tensorflow.keras.layers import Input, Add, AveragePooling2D, GlobalMaxPooling2D\n",
        "from tensorflow.keras.initializers import glorot_uniform\n",
        "from tensorflow.keras.utils import to_categorical\n",
        "from tensorflow.keras.models import model_from_json\n",
        "import pydot\n",
        "from matplotlib.pyplot import imshow\n",
        "import scipy.misc\n",
        "import os \n",
        "import glob\n",
        "import gc\n",
        "import numpy as np\n",
        "import pandas as pd\n",
        "from joblib import Parallel, delayed\n",
        "import matplotlib.pyplot as plt\n",
        "import sklearn.metrics as metrics\n",
        "import os\n",
        "import zipfile\n",
        "from google.colab import drive\n",
        "import seaborn as sns\n",
        "from time import time\n",
        "print(\"tensorflow version:\",tf.__version__)"
      ],
      "execution_count": 0,
      "outputs": [
        {
          "output_type": "stream",
          "text": [
            "tensorflow version: 2.2.0-rc2\n"
          ],
          "name": "stdout"
        },
        {
          "output_type": "stream",
          "text": [
            "/usr/local/lib/python3.6/dist-packages/statsmodels/tools/_testing.py:19: FutureWarning: pandas.util.testing is deprecated. Use the functions in the public API at pandas.testing instead.\n",
            "  import pandas.util.testing as tm\n"
          ],
          "name": "stderr"
        }
      ]
    },
    {
      "cell_type": "markdown",
      "metadata": {
        "id": "FAQDH4qQ8bQ6",
        "colab_type": "text"
      },
      "source": [
        "# **Step 2: Mount Google Drive and load the data**"
      ]
    },
    {
      "cell_type": "code",
      "metadata": {
        "id": "hZ0C6SbaMpYZ",
        "colab_type": "code",
        "outputId": "2632533c-135a-4584-8138-1fa9f2fc9cf8",
        "colab": {
          "base_uri": "https://localhost:8080/",
          "height": 33
        }
      },
      "source": [
        "drive.mount('/content/drive/', force_remount=True)\n",
        "\n",
        "zip_ref = zipfile.ZipFile(\"/content/drive/My Drive/imagenette_6class.zip\", 'r')\n",
        "zip_ref.extractall(\"/tmp\")\n",
        "zip_ref.close()"
      ],
      "execution_count": 0,
      "outputs": [
        {
          "output_type": "stream",
          "text": [
            "Mounted at /content/drive/\n"
          ],
          "name": "stdout"
        }
      ]
    },
    {
      "cell_type": "markdown",
      "metadata": {
        "id": "42B5ohfXPs-D",
        "colab_type": "text"
      },
      "source": [
        "**Checking the availability of GPU for computing**"
      ]
    },
    {
      "cell_type": "code",
      "metadata": {
        "id": "3iuMP2lAMv2f",
        "colab_type": "code",
        "outputId": "340ab6f4-6878-404d-e135-55c21219b590",
        "colab": {
          "base_uri": "https://localhost:8080/",
          "height": 33
        }
      },
      "source": [
        "device_name = tf.test.gpu_device_name()\n",
        "if device_name != '/device:GPU:0':\n",
        "  raise SystemError('GPU device not found')\n",
        "print('Found GPU at: {}'.format(device_name))"
      ],
      "execution_count": 0,
      "outputs": [
        {
          "output_type": "stream",
          "text": [
            "Found GPU at: /device:GPU:0\n"
          ],
          "name": "stdout"
        }
      ]
    },
    {
      "cell_type": "markdown",
      "metadata": {
        "id": "ArCs0trlP0RC",
        "colab_type": "text"
      },
      "source": [
        "# **Step 3: Using ImageDataGenerator to feed the images into the neural network**"
      ]
    },
    {
      "cell_type": "code",
      "metadata": {
        "id": "VRrqiaM-M3nb",
        "colab_type": "code",
        "outputId": "41cf9392-8682-4c77-823b-4ed5e6fc4714",
        "colab": {
          "base_uri": "https://localhost:8080/",
          "height": 67
        }
      },
      "source": [
        "train_datagen = ImageDataGenerator(rescale=1./255)\n",
        "test_datagen = ImageDataGenerator(rescale=1./255)\n",
        "valid_datagen = ImageDataGenerator(rescale = 1./255)\n",
        "train_data = train_datagen.flow_from_directory('/tmp/train/', class_mode='categorical', target_size=(224,224), batch_size=32)\n",
        "test_data = test_datagen.flow_from_directory('/tmp/test/', class_mode='categorical', target_size=(224,224), batch_size=32,shuffle=False)\n",
        "valid_data = valid_datagen.flow_from_directory('/tmp/validation/', class_mode='categorical', target_size=(224,224), batch_size=32,shuffle=False)"
      ],
      "execution_count": 0,
      "outputs": [
        {
          "output_type": "stream",
          "text": [
            "Found 7200 images belonging to 6 classes.\n",
            "Found 300 images belonging to 6 classes.\n",
            "Found 600 images belonging to 6 classes.\n"
          ],
          "name": "stdout"
        }
      ]
    },
    {
      "cell_type": "markdown",
      "metadata": {
        "id": "Ox4DKksEQFVG",
        "colab_type": "text"
      },
      "source": [
        "**Displaying the number of classes**"
      ]
    },
    {
      "cell_type": "code",
      "metadata": {
        "id": "N_uRHHRcNRf9",
        "colab_type": "code",
        "outputId": "5feca1cc-62b0-4af8-c95d-6b4c9406ab76",
        "colab": {
          "base_uri": "https://localhost:8080/",
          "height": 67
        }
      },
      "source": [
        "for data_batch, labels_batch in train_data:\n",
        "    print('Data batch:', data_batch.shape)\n",
        "    print('Labels batch:', labels_batch.shape)\n",
        "    print('Number of classes:',labels_batch.shape[1])\n",
        "    break"
      ],
      "execution_count": 0,
      "outputs": [
        {
          "output_type": "stream",
          "text": [
            "Data batch: (32, 224, 224, 3)\n",
            "Labels batch: (32, 6)\n",
            "Number of classes: 6\n"
          ],
          "name": "stdout"
        }
      ]
    },
    {
      "cell_type": "markdown",
      "metadata": {
        "id": "jIpQ0mSEQKqK",
        "colab_type": "text"
      },
      "source": [
        "**Displaying a sample image from one of the classes in Test Data**"
      ]
    },
    {
      "cell_type": "code",
      "metadata": {
        "id": "Xbs32hSsNaQp",
        "colab_type": "code",
        "outputId": "46756977-0709-4be8-8d2a-32aed96a2e6e",
        "colab": {
          "base_uri": "https://localhost:8080/",
          "height": 286
        }
      },
      "source": [
        "#Loading the image by passing image filepath\n",
        "img = load_img(\"/tmp/test/church/ILSVRC2012_val_00034021.JPEG\")\n",
        "x = img_to_array(img)  \n",
        "plt.imshow(img)\n",
        "print('This is just a sample image from the test data.')"
      ],
      "execution_count": 0,
      "outputs": [
        {
          "output_type": "stream",
          "text": [
            "This is just a sample image from the test data.\n"
          ],
          "name": "stdout"
        },
        {
          "output_type": "display_data",
          "data": {
            "image/png": "[encoded data removed]",
            "text/plain": [
              "<Figure size 432x288 with 1 Axes>"
            ]
          },
          "metadata": {
            "tags": [],
            "needs_background": "light"
          }
        }
      ]
    },
    {
      "cell_type": "markdown",
      "metadata": {
        "id": "HS2XE0edemJz",
        "colab_type": "text"
      },
      "source": [
        "# **Step 4: Design the Convolutional Neural Network model**\n",
        "\n",
        "> Finding a suitable combination of Dropout, BatchNormalization and Data Augmentation for enhancing the performance of the CNN model.\n",
        "Dropout added in Convolutional block and as well as Classification block.\n",
        "BatchNorm added\n",
        "\n"
      ]
    },
    {
      "cell_type": "code",
      "metadata": {
        "id": "bFuCj6g9NnLO",
        "colab_type": "code",
        "outputId": "40e065b6-1b48-42b1-a31b-c9bb5a33763a",
        "colab": {
          "base_uri": "https://localhost:8080/",
          "height": 517
        }
      },
      "source": [
        "print('Build the CNN model')\n",
        "model =models.Sequential()\n",
        "#Block 1\n",
        "model.add(layers.Conv2D(32, kernel_size=(3, 3), dilation_rate=(1,1), padding = 'same', strides=(1,1), kernel_initializer='glorot_uniform', activation='relu', input_shape=(224, 224, 3)))\n",
        "model.add(layers.Conv2D(32, kernel_size=(3, 3), dilation_rate=(1,1), padding = 'same', strides=(1,1), kernel_initializer='glorot_uniform', activation='relu'))\n",
        "model.add(layers.MaxPooling2D(pool_size=(2, 2), strides=(2, 2)))\n",
        "#Block 2\n",
        "model.add(layers.Conv2D(64, kernel_size=(3, 3), dilation_rate=(1,1), padding = 'same', strides=(1,1), kernel_initializer='glorot_uniform', activation='relu'))\n",
        "model.add(layers.Conv2D(64, kernel_size=(3, 3), dilation_rate=(1,1), padding = 'same', strides=(1,1), kernel_initializer='glorot_uniform', activation='relu'))\n",
        "model.add(layers.MaxPooling2D(pool_size=(2, 2), strides=(2, 2)))\n",
        "#Classification block\n",
        "model.add(layers.Flatten())\n",
        "model.add(layers.Dropout(0.5))\n",
        "model.add(layers.Dense(512, kernel_initializer='glorot_uniform',activation='relu'))\n",
        "model.add(layers.Dense(6,activation='softmax'))\n",
        "model.summary()\n",
        "print('The CNN model is now ready for training the images. Go ahead and compile the model')"
      ],
      "execution_count": 0,
      "outputs": [
        {
          "output_type": "stream",
          "text": [
            "Build the CNN model\n",
            "Model: \"sequential\"\n",
            "_________________________________________________________________\n",
            "Layer (type)                 Output Shape              Param #   \n",
            "=================================================================\n",
            "conv2d (Conv2D)              (None, 224, 224, 32)      896       \n",
            "_________________________________________________________________\n",
            "conv2d_1 (Conv2D)            (None, 224, 224, 32)      9248      \n",
            "_________________________________________________________________\n",
            "max_pooling2d (MaxPooling2D) (None, 112, 112, 32)      0         \n",
            "_________________________________________________________________\n",
            "conv2d_2 (Conv2D)            (None, 112, 112, 64)      18496     \n",
            "_________________________________________________________________\n",
            "conv2d_3 (Conv2D)            (None, 112, 112, 64)      36928     \n",
            "_________________________________________________________________\n",
            "max_pooling2d_1 (MaxPooling2 (None, 56, 56, 64)        0         \n",
            "_________________________________________________________________\n",
            "flatten (Flatten)            (None, 200704)            0         \n",
            "_________________________________________________________________\n",
            "dropout (Dropout)            (None, 200704)            0         \n",
            "_________________________________________________________________\n",
            "dense (Dense)                (None, 512)               102760960 \n",
            "_________________________________________________________________\n",
            "dense_1 (Dense)              (None, 6)                 3078      \n",
            "=================================================================\n",
            "Total params: 102,829,606\n",
            "Trainable params: 102,829,606\n",
            "Non-trainable params: 0\n",
            "_________________________________________________________________\n",
            "The CNN model is now ready for training the images. Go ahead and compile the model\n"
          ],
          "name": "stdout"
        }
      ]
    },
    {
      "cell_type": "markdown",
      "metadata": {
        "id": "2sLKZDkZe0Zn",
        "colab_type": "text"
      },
      "source": [
        "**Compile the designed CNN model**"
      ]
    },
    {
      "cell_type": "code",
      "metadata": {
        "id": "2TsGY2i7NrWj",
        "colab_type": "code",
        "outputId": "2bf61cc3-f1f9-44bd-e3bb-234a3f5ab9d2",
        "colab": {
          "base_uri": "https://localhost:8080/",
          "height": 33
        }
      },
      "source": [
        "LR= 5e-4\n",
        "model.compile(loss='categorical_crossentropy',\n",
        "    optimizer=optimizers.RMSprop(learning_rate=LR),\n",
        "    metrics=['accuracy'])\n",
        "print('Model compiled')"
      ],
      "execution_count": 0,
      "outputs": [
        {
          "output_type": "stream",
          "text": [
            "Model compiled\n"
          ],
          "name": "stdout"
        }
      ]
    },
    {
      "cell_type": "code",
      "metadata": {
        "id": "MMGxgmH4OGdW",
        "colab_type": "code",
        "colab": {}
      },
      "source": [
        "callbacks_list = [callbacks.ModelCheckpoint(\n",
        "        filepath = 'vgg-final-model.h5',\n",
        "        monitor = 'val_loss',\n",
        "        save_best_only = True),\n",
        "        callbacks.ReduceLROnPlateau(\n",
        "            monitor='val_loss',\n",
        "            factor=0.1,\n",
        "            patience=5,\n",
        "            mode='min',\n",
        "            min_lr=1e-7),\n",
        "        callbacks.CSVLogger(\n",
        "            filename='vgg-final-model.csv',\n",
        "            separator = ',',\n",
        "            append = False)\n",
        "]"
      ],
      "execution_count": 0,
      "outputs": []
    },
    {
      "cell_type": "markdown",
      "metadata": {
        "id": "ZX_L4XeZe6Vk",
        "colab_type": "text"
      },
      "source": [
        "# **Step 5: Train the model**\n",
        "\n",
        "> Feed the training data and evaluate the model on validation data.\n",
        "\n",
        "> Choose the number of epochs and calculate the time it takes for the model to learn the data.\n",
        "\n",
        "> Augment the training data before fitting the model.\n",
        "\n",
        "\n",
        "\n",
        "\n"
      ]
    },
    {
      "cell_type": "code",
      "metadata": {
        "id": "_tGC4LqjOkBO",
        "colab_type": "code",
        "outputId": "c941fbf7-04b6-4f17-c07b-0251ac569eb5",
        "colab": {
          "base_uri": "https://localhost:8080/",
          "height": 50
        }
      },
      "source": [
        "augment_data = ImageDataGenerator(\n",
        "    rescale=1./255,\n",
        "    rotation_range=40,\n",
        "    width_shift_range=0.2,\n",
        "    height_shift_range=0.2,\n",
        "    shear_range=0.2,\n",
        "    zoom_range=0.2,\n",
        "    horizontal_flip=True\n",
        ")\n",
        "training_dir = '/tmp/train/'\n",
        "testing_dir = '/tmp/test/'\n",
        "validation_dir = '/tmp/validation/'\n",
        "augmented_train_data = augment_data.flow_from_directory(\n",
        "    training_dir,\n",
        "    target_size = (224,224),\n",
        "    batch_size = 32,\n",
        "    class_mode = 'categorical')\n",
        "print('Training data has been augmented!!')"
      ],
      "execution_count": 0,
      "outputs": [
        {
          "output_type": "stream",
          "text": [
            "Found 7200 images belonging to 6 classes.\n",
            "Training data has been augmented!!\n"
          ],
          "name": "stdout"
        }
      ]
    },
    {
      "cell_type": "code",
      "metadata": {
        "id": "C3z-LlejNv6N",
        "colab_type": "code",
        "outputId": "c307b55a-a933-4ecf-d752-f9b63ca9c880",
        "colab": {
          "base_uri": "https://localhost:8080/",
          "height": 1000
        }
      },
      "source": [
        "print('Fit the model...')\n",
        "t0 = time() #timing counter starts\n",
        "print('The model has started learning...')\n",
        "nepochs=30\n",
        "print('The model will be trained on',nepochs,'epochs')\n",
        "batch_size=32\n",
        "history=model.fit(augmented_train_data, #Learning process starts\n",
        "                  steps_per_epoch=7200//batch_size,\n",
        "                  epochs=nepochs,\n",
        "                  validation_data=valid_data,\n",
        "                  validation_steps=600//batch_size,\n",
        "                  callbacks=callbacks_list)\n",
        "print('Fit model took', int(time() - t0),'s') #time is calculated with the help of counter"
      ],
      "execution_count": 0,
      "outputs": [
        {
          "output_type": "stream",
          "text": [
            "Fit the model...\n",
            "The model has started learning...\n",
            "The model will be trained on 30 epochs\n",
            "Epoch 1/30\n",
            "225/225 [==============================] - 99s 440ms/step - loss: 1.7463 - accuracy: 0.4272 - val_loss: 1.0451 - val_accuracy: 0.6215 - lr: 5.0000e-04\n",
            "Epoch 2/30\n",
            "225/225 [==============================] - 98s 435ms/step - loss: 1.1166 - accuracy: 0.5985 - val_loss: 1.0027 - val_accuracy: 0.6597 - lr: 5.0000e-04\n",
            "Epoch 3/30\n",
            "225/225 [==============================] - 98s 436ms/step - loss: 0.9918 - accuracy: 0.6510 - val_loss: 0.7903 - val_accuracy: 0.7188 - lr: 5.0000e-04\n",
            "Epoch 4/30\n",
            "225/225 [==============================] - 98s 435ms/step - loss: 0.9200 - accuracy: 0.6785 - val_loss: 0.7384 - val_accuracy: 0.7465 - lr: 5.0000e-04\n",
            "Epoch 5/30\n",
            "225/225 [==============================] - 95s 424ms/step - loss: 0.8561 - accuracy: 0.6999 - val_loss: 0.8363 - val_accuracy: 0.7031 - lr: 5.0000e-04\n",
            "Epoch 6/30\n",
            "225/225 [==============================] - 94s 419ms/step - loss: 0.8222 - accuracy: 0.7142 - val_loss: 1.0640 - val_accuracy: 0.6406 - lr: 5.0000e-04\n",
            "Epoch 7/30\n",
            "225/225 [==============================] - 96s 427ms/step - loss: 0.7899 - accuracy: 0.7219 - val_loss: 0.7297 - val_accuracy: 0.7517 - lr: 5.0000e-04\n",
            "Epoch 8/30\n",
            "225/225 [==============================] - 94s 420ms/step - loss: 0.7812 - accuracy: 0.7304 - val_loss: 0.7335 - val_accuracy: 0.7413 - lr: 5.0000e-04\n",
            "Epoch 9/30\n",
            "225/225 [==============================] - 98s 435ms/step - loss: 0.7743 - accuracy: 0.7362 - val_loss: 0.6707 - val_accuracy: 0.7552 - lr: 5.0000e-04\n",
            "Epoch 10/30\n",
            "225/225 [==============================] - 95s 423ms/step - loss: 0.7530 - accuracy: 0.7432 - val_loss: 0.7694 - val_accuracy: 0.7292 - lr: 5.0000e-04\n",
            "Epoch 11/30\n",
            "225/225 [==============================] - 95s 422ms/step - loss: 0.7219 - accuracy: 0.7522 - val_loss: 0.7450 - val_accuracy: 0.7500 - lr: 5.0000e-04\n",
            "Epoch 12/30\n",
            "225/225 [==============================] - 95s 421ms/step - loss: 0.7226 - accuracy: 0.7535 - val_loss: 0.7697 - val_accuracy: 0.7413 - lr: 5.0000e-04\n",
            "Epoch 13/30\n",
            "225/225 [==============================] - 95s 421ms/step - loss: 0.7170 - accuracy: 0.7582 - val_loss: 0.7982 - val_accuracy: 0.7205 - lr: 5.0000e-04\n",
            "Epoch 14/30\n",
            "225/225 [==============================] - 94s 418ms/step - loss: 0.7058 - accuracy: 0.7590 - val_loss: 0.7256 - val_accuracy: 0.7535 - lr: 5.0000e-04\n",
            "Epoch 15/30\n",
            "225/225 [==============================] - 96s 427ms/step - loss: 0.5776 - accuracy: 0.8036 - val_loss: 0.5633 - val_accuracy: 0.7969 - lr: 5.0000e-05\n",
            "Epoch 16/30\n",
            "225/225 [==============================] - 94s 419ms/step - loss: 0.5493 - accuracy: 0.8168 - val_loss: 0.6260 - val_accuracy: 0.7847 - lr: 5.0000e-05\n",
            "Epoch 17/30\n",
            "225/225 [==============================] - 96s 427ms/step - loss: 0.5393 - accuracy: 0.8133 - val_loss: 0.5231 - val_accuracy: 0.8299 - lr: 5.0000e-05\n",
            "Epoch 18/30\n",
            "225/225 [==============================] - 93s 415ms/step - loss: 0.5307 - accuracy: 0.8189 - val_loss: 0.5770 - val_accuracy: 0.7986 - lr: 5.0000e-05\n",
            "Epoch 19/30\n",
            "225/225 [==============================] - 95s 421ms/step - loss: 0.5306 - accuracy: 0.8168 - val_loss: 0.5456 - val_accuracy: 0.8194 - lr: 5.0000e-05\n",
            "Epoch 20/30\n",
            "225/225 [==============================] - 97s 433ms/step - loss: 0.5223 - accuracy: 0.8226 - val_loss: 0.5167 - val_accuracy: 0.8247 - lr: 5.0000e-05\n",
            "Epoch 21/30\n",
            "225/225 [==============================] - 94s 419ms/step - loss: 0.5201 - accuracy: 0.8246 - val_loss: 0.5658 - val_accuracy: 0.7934 - lr: 5.0000e-05\n",
            "Epoch 22/30\n",
            "225/225 [==============================] - 97s 430ms/step - loss: 0.5165 - accuracy: 0.8240 - val_loss: 0.5083 - val_accuracy: 0.8247 - lr: 5.0000e-05\n",
            "Epoch 23/30\n",
            "225/225 [==============================] - 94s 420ms/step - loss: 0.5100 - accuracy: 0.8265 - val_loss: 0.5109 - val_accuracy: 0.8351 - lr: 5.0000e-05\n",
            "Epoch 24/30\n",
            "225/225 [==============================] - 94s 416ms/step - loss: 0.5082 - accuracy: 0.8232 - val_loss: 0.5382 - val_accuracy: 0.8212 - lr: 5.0000e-05\n",
            "Epoch 25/30\n",
            "225/225 [==============================] - 94s 417ms/step - loss: 0.5033 - accuracy: 0.8326 - val_loss: 0.5289 - val_accuracy: 0.8281 - lr: 5.0000e-05\n",
            "Epoch 26/30\n",
            "225/225 [==============================] - 94s 418ms/step - loss: 0.5021 - accuracy: 0.8244 - val_loss: 0.5142 - val_accuracy: 0.8299 - lr: 5.0000e-05\n",
            "Epoch 27/30\n",
            "225/225 [==============================] - 94s 416ms/step - loss: 0.4939 - accuracy: 0.8351 - val_loss: 0.5295 - val_accuracy: 0.8194 - lr: 5.0000e-05\n",
            "Epoch 28/30\n",
            "225/225 [==============================] - 94s 416ms/step - loss: 0.4823 - accuracy: 0.8368 - val_loss: 0.5243 - val_accuracy: 0.8247 - lr: 5.0000e-06\n",
            "Epoch 29/30\n",
            "225/225 [==============================] - 95s 420ms/step - loss: 0.4725 - accuracy: 0.8381 - val_loss: 0.5270 - val_accuracy: 0.8229 - lr: 5.0000e-06\n",
            "Epoch 30/30\n",
            "225/225 [==============================] - 94s 418ms/step - loss: 0.4825 - accuracy: 0.8317 - val_loss: 0.5250 - val_accuracy: 0.8281 - lr: 5.0000e-06\n",
            "Fit model took 2865 s\n"
          ],
          "name": "stdout"
        }
      ]
    },
    {
      "cell_type": "markdown",
      "metadata": {
        "id": "ROF2LTUMfqWL",
        "colab_type": "text"
      },
      "source": [
        "# **Step 6: Evaluate the model**\n",
        "\n",
        "> Plot the learning curves.\n",
        "\n",
        "> Produce a classification report that explains the performance of the model.\n",
        "\n",
        "\n",
        "\n"
      ]
    },
    {
      "cell_type": "code",
      "metadata": {
        "id": "e3eW73Z3fuS3",
        "colab_type": "code",
        "outputId": "6b8bf99b-0beb-4352-9516-550472c98560",
        "colab": {
          "base_uri": "https://localhost:8080/",
          "height": 573
        }
      },
      "source": [
        "plt.plot(history.history['accuracy'])\n",
        "plt.plot(history.history['val_accuracy'])\n",
        "plt.title('Training and validation accuracy')\n",
        "plt.ylabel('accuracy')\n",
        "plt.xlabel('epoch')\n",
        "plt.minorticks_on()\n",
        "plt.grid(True)\n",
        "plt.legend(['train', 'validation'], loc='upper left')\n",
        "# save image to disk\n",
        "plt.savefig('VGG Final Model Accuracy', dpi=250)\n",
        "plt.show()\n",
        "\n",
        "# summarize history for loss\n",
        "plt.plot(history.history['loss'])\n",
        "plt.plot(history.history['val_loss'])\n",
        "plt.title('Training and validation loss')\n",
        "plt.ylabel('loss')\n",
        "plt.xlabel('epoch')\n",
        "plt.minorticks_on()\n",
        "plt.grid(True)\n",
        "plt.legend(['train', 'validation'], loc='upper left')\n",
        "# save image to disk\n",
        "plt.savefig('VGG Final Model Loss', dpi=250)\n",
        "plt.show()"
      ],
      "execution_count": 0,
      "outputs": [
        {
          "output_type": "display_data",
          "data": {
            "image/png": "[encoded data removed]",
            "text/plain": [
              "<Figure size 432x288 with 1 Axes>"
            ]
          },
          "metadata": {
            "tags": [],
            "needs_background": "light"
          }
        },
        {
          "output_type": "display_data",
          "data": {
            "image/png": "[encoded data removed]",
            "text/plain": [
              "<Figure size 432x288 with 1 Axes>"
            ]
          },
          "metadata": {
            "tags": [],
            "needs_background": "light"
          }
        }
      ]
    },
    {
      "cell_type": "markdown",
      "metadata": {
        "id": "cmenGP_vgUbh",
        "colab_type": "text"
      },
      "source": [
        "**Evaluating the model.**"
      ]
    },
    {
      "cell_type": "code",
      "metadata": {
        "id": "VmvM18L_gYef",
        "colab_type": "code",
        "outputId": "e5a4ff19-7e27-4f8f-ed0d-a1ed292aaa96",
        "colab": {
          "base_uri": "https://localhost:8080/",
          "height": 33
        }
      },
      "source": [
        "validation_datagen = ImageDataGenerator(rescale = 1./255)\n",
        "evaluate_datagen = validation_datagen.flow_from_directory(validation_dir, class_mode='categorical', target_size=(224,224), batch_size=1,shuffle=False)"
      ],
      "execution_count": 0,
      "outputs": [
        {
          "output_type": "stream",
          "text": [
            "Found 600 images belonging to 6 classes.\n"
          ],
          "name": "stdout"
        }
      ]
    },
    {
      "cell_type": "code",
      "metadata": {
        "id": "BcX-XlcEvvBx",
        "colab_type": "code",
        "outputId": "297f5b19-43fa-4c62-f6f1-187bc3f5b519",
        "colab": {
          "base_uri": "https://localhost:8080/",
          "height": 50
        }
      },
      "source": [
        "print('Validate the model')\n",
        "final_result = model.evaluate(\n",
        "    evaluate_datagen,\n",
        "    steps = 300)"
      ],
      "execution_count": 0,
      "outputs": [
        {
          "output_type": "stream",
          "text": [
            "Validate the model\n",
            "300/300 [==============================] - 2s 6ms/step - loss: 0.5824 - accuracy: 0.8067\n"
          ],
          "name": "stdout"
        }
      ]
    },
    {
      "cell_type": "code",
      "metadata": {
        "id": "7ZPdsb9XguDx",
        "colab_type": "code",
        "outputId": "9cc2a555-fa94-4c1f-82b9-adc5be9ba727",
        "colab": {
          "base_uri": "https://localhost:8080/",
          "height": 50
        }
      },
      "source": [
        "t0 = time()\n",
        "evaluate_datagen.reset()\n",
        "val_predict = model.predict(\n",
        "    evaluate_datagen,\n",
        "    steps = 600,\n",
        "    verbose = 1)\n",
        "print('Time taken to evaluate the model:',int(time()-t0),'seconds')"
      ],
      "execution_count": 0,
      "outputs": [
        {
          "output_type": "stream",
          "text": [
            "600/600 [==============================] - 3s 6ms/step\n",
            "Time taken to evaluate the model: 3 seconds\n"
          ],
          "name": "stdout"
        }
      ]
    },
    {
      "cell_type": "code",
      "metadata": {
        "id": "SOsDampKjtu3",
        "colab_type": "code",
        "outputId": "c01b711b-b1d9-4f1c-af68-8315798def6a",
        "colab": {
          "base_uri": "https://localhost:8080/",
          "height": 33
        }
      },
      "source": [
        "validation_samples = val_predict.shape[0]\n",
        "print('Number of data points in validation set:',validation_samples)"
      ],
      "execution_count": 0,
      "outputs": [
        {
          "output_type": "stream",
          "text": [
            "Number of data points in validation set: 600\n"
          ],
          "name": "stdout"
        }
      ]
    },
    {
      "cell_type": "code",
      "metadata": {
        "id": "5kTPDVitkHXx",
        "colab_type": "code",
        "colab": {}
      },
      "source": [
        "val_predicted_classes = np.argmax(val_predict, axis = 1)\n",
        "val_true_classes = evaluate_datagen.classes\n",
        "val_class_labels = list(evaluate_datagen.class_indices.keys())"
      ],
      "execution_count": 0,
      "outputs": []
    },
    {
      "cell_type": "markdown",
      "metadata": {
        "id": "4dDFPKnvl61e",
        "colab_type": "text"
      },
      "source": [
        "**Validation Data Classification Report**"
      ]
    },
    {
      "cell_type": "code",
      "metadata": {
        "id": "Li_p2vcckNTR",
        "colab_type": "code",
        "outputId": "513b36f4-14d4-465b-d3aa-61543aa6f62f",
        "colab": {
          "base_uri": "https://localhost:8080/",
          "height": 250
        }
      },
      "source": [
        "validation_report = metrics.classification_report(val_true_classes, val_predicted_classes, target_names=val_class_labels)\n",
        "print('The validation report is as follows:')\n",
        "print(validation_report)"
      ],
      "execution_count": 0,
      "outputs": [
        {
          "output_type": "stream",
          "text": [
            "The validation report is as follows:\n",
            "                  precision    recall  f1-score   support\n",
            "\n",
            "English_springer       0.99      0.82      0.90       100\n",
            "          church       0.62      0.90      0.74       100\n",
            "   garbage_truck       0.91      0.70      0.79       100\n",
            "        gas_pump       0.75      0.78      0.76       100\n",
            "       parachute       0.94      0.87      0.90       100\n",
            "           tench       0.95      0.94      0.94       100\n",
            "\n",
            "        accuracy                           0.83       600\n",
            "       macro avg       0.86      0.83      0.84       600\n",
            "    weighted avg       0.86      0.83      0.84       600\n",
            "\n"
          ],
          "name": "stdout"
        }
      ]
    },
    {
      "cell_type": "code",
      "metadata": {
        "id": "dzlBJFEskaNN",
        "colab_type": "code",
        "colab": {}
      },
      "source": [
        "val_conf_matrix = tf.math.confusion_matrix(labels=val_true_classes, predictions=val_predicted_classes).numpy()"
      ],
      "execution_count": 0,
      "outputs": []
    },
    {
      "cell_type": "code",
      "metadata": {
        "id": "QD-C6hf0kpv2",
        "colab_type": "code",
        "outputId": "115163c7-cb3e-4545-bb6b-94fa4306dd5d",
        "colab": {
          "base_uri": "https://localhost:8080/",
          "height": 311
        }
      },
      "source": [
        "import seaborn as sns\n",
        "figure1 = plt.figure()\n",
        "sns.heatmap(val_conf_matrix, annot = True, cmap=plt.cm.Greens)\n",
        "plt.tight_layout()\n",
        "plt.ylabel('True Label')\n",
        "plt.xlabel('Predicted label')\n",
        "plt.savefig('Validation data Confusion Matrix_v5', dpi=250)\n",
        "plt.show()"
      ],
      "execution_count": 0,
      "outputs": [
        {
          "output_type": "display_data",
          "data": {
            "image/png": "[encoded data removed]",
            "text/plain": [
              "<Figure size 432x288 with 2 Axes>"
            ]
          },
          "metadata": {
            "tags": [],
            "needs_background": "light"
          }
        }
      ]
    },
    {
      "cell_type": "markdown",
      "metadata": {
        "id": "Pf92yNTPmagq",
        "colab_type": "text"
      },
      "source": [
        "# **Step 7: Performance measurement on Test data**"
      ]
    },
    {
      "cell_type": "code",
      "metadata": {
        "id": "TOROpYvrlfKG",
        "colab_type": "code",
        "outputId": "5504629f-30e6-4563-9806-73f25e7b73f0",
        "colab": {
          "base_uri": "https://localhost:8080/",
          "height": 33
        }
      },
      "source": [
        "testing_datagen = ImageDataGenerator(rescale = 1./255)\n",
        "test_data_datagen = testing_datagen.flow_from_directory(testing_dir, class_mode='categorical', target_size=(224,224), batch_size=1,shuffle=False)"
      ],
      "execution_count": 0,
      "outputs": [
        {
          "output_type": "stream",
          "text": [
            "Found 300 images belonging to 6 classes.\n"
          ],
          "name": "stdout"
        }
      ]
    },
    {
      "cell_type": "code",
      "metadata": {
        "id": "7LsvsAjInBAN",
        "colab_type": "code",
        "outputId": "9c899a0c-a5c8-4e81-b945-4662961a8c89",
        "colab": {
          "base_uri": "https://localhost:8080/",
          "height": 50
        }
      },
      "source": [
        "print('Testing the model')\n",
        "final_result = model.evaluate(\n",
        "    test_data_datagen,\n",
        "    steps = 300)"
      ],
      "execution_count": 0,
      "outputs": [
        {
          "output_type": "stream",
          "text": [
            "Testing the model\n",
            "300/300 [==============================] - 2s 6ms/step - loss: 0.4083 - accuracy: 0.8600\n"
          ],
          "name": "stdout"
        }
      ]
    },
    {
      "cell_type": "code",
      "metadata": {
        "id": "IPBSFefpnlZ7",
        "colab_type": "code",
        "outputId": "76e03f83-10e6-4d59-9a46-eb6e6b980d39",
        "colab": {
          "base_uri": "https://localhost:8080/",
          "height": 33
        }
      },
      "source": [
        "test_data_datagen.reset()\n",
        "predict_on_test_data = model.predict(\n",
        "    test_data_datagen,\n",
        "    steps = 300,\n",
        "    verbose = 1\n",
        ")"
      ],
      "execution_count": 0,
      "outputs": [
        {
          "output_type": "stream",
          "text": [
            "300/300 [==============================] - 2s 6ms/step\n"
          ],
          "name": "stdout"
        }
      ]
    },
    {
      "cell_type": "code",
      "metadata": {
        "id": "q92LM-biozxE",
        "colab_type": "code",
        "outputId": "f00b0919-21cc-456a-9c52-895b5b07ff4d",
        "colab": {
          "base_uri": "https://localhost:8080/",
          "height": 33
        }
      },
      "source": [
        "print('Number of data points in test set:',predict_on_test_data.shape[0])"
      ],
      "execution_count": 0,
      "outputs": [
        {
          "output_type": "stream",
          "text": [
            "Number of data points in test set: 300\n"
          ],
          "name": "stdout"
        }
      ]
    },
    {
      "cell_type": "code",
      "metadata": {
        "id": "EtL3lZUepX9N",
        "colab_type": "code",
        "colab": {}
      },
      "source": [
        "predicted_classes = np.argmax(predict_on_test_data,axis=1)\n",
        "predict_true_classes = test_data_datagen.classes\n",
        "predict_class_labels = list(test_data_datagen.class_indices.keys())"
      ],
      "execution_count": 0,
      "outputs": []
    },
    {
      "cell_type": "code",
      "metadata": {
        "id": "qvHwlp46p7Tf",
        "colab_type": "code",
        "outputId": "c079a4a6-d523-4f3b-dd85-fa0f3a703f69",
        "colab": {
          "base_uri": "https://localhost:8080/",
          "height": 233
        }
      },
      "source": [
        "test_report = metrics.classification_report(predict_true_classes, predicted_classes, target_names = predict_class_labels)\n",
        "print(test_report)"
      ],
      "execution_count": 0,
      "outputs": [
        {
          "output_type": "stream",
          "text": [
            "                  precision    recall  f1-score   support\n",
            "\n",
            "English_springer       0.93      0.84      0.88        50\n",
            "          church       0.66      0.86      0.75        50\n",
            "   garbage_truck       0.90      0.76      0.83        50\n",
            "        gas_pump       0.84      0.86      0.85        50\n",
            "       parachute       0.94      0.90      0.92        50\n",
            "           tench       0.96      0.94      0.95        50\n",
            "\n",
            "        accuracy                           0.86       300\n",
            "       macro avg       0.87      0.86      0.86       300\n",
            "    weighted avg       0.87      0.86      0.86       300\n",
            "\n"
          ],
          "name": "stdout"
        }
      ]
    },
    {
      "cell_type": "code",
      "metadata": {
        "id": "hrWpSzHbroQ6",
        "colab_type": "code",
        "colab": {}
      },
      "source": [
        "test_confusion_matrix = tf.math.confusion_matrix(labels=predict_true_classes,predictions = predicted_classes).numpy()"
      ],
      "execution_count": 0,
      "outputs": []
    },
    {
      "cell_type": "code",
      "metadata": {
        "id": "W8TNTo-Tr9NG",
        "colab_type": "code",
        "outputId": "301e6d00-d714-4c98-a691-5c6926f1f6d1",
        "colab": {
          "base_uri": "https://localhost:8080/",
          "height": 311
        }
      },
      "source": [
        "figure1 = plt.figure()\n",
        "sns.heatmap(test_confusion_matrix, annot = True, cmap=plt.cm.Greens)\n",
        "plt.tight_layout()\n",
        "plt.ylabel('True Label')\n",
        "plt.xlabel('Predicted label')\n",
        "plt.savefig('Test data Confusion Matrix_v5', dpi=250)\n",
        "plt.show()"
      ],
      "execution_count": 0,
      "outputs": [
        {
          "output_type": "display_data",
          "data": {
            "image/png": "[encoded data removed]",
            "text/plain": [
              "<Figure size 432x288 with 2 Axes>"
            ]
          },
          "metadata": {
            "tags": [],
            "needs_background": "light"
          }
        }
      ]
    },
    {
      "cell_type": "markdown",
      "metadata": {
        "id": "UEthKiRDxvSg",
        "colab_type": "text"
      },
      "source": [
        "# **Step 8: Save and load the model**"
      ]
    },
    {
      "cell_type": "code",
      "metadata": {
        "id": "Olo9uAKZsP4a",
        "colab_type": "code",
        "outputId": "15f04ec8-84aa-4299-9a96-d8492a558faf",
        "colab": {
          "base_uri": "https://localhost:8080/",
          "height": 33
        }
      },
      "source": [
        "model_json = model.to_json()\n",
        "with open(\"model.json\",\"w\") as json_file:\n",
        "  json_file.write(model_json)\n",
        "  #serializing the weights to HDF5\n",
        "model.save('VGG-Final-Model.h5')\n",
        "print('Model saved to the disk')"
      ],
      "execution_count": 0,
      "outputs": [
        {
          "output_type": "stream",
          "text": [
            "Model saved to the disk\n"
          ],
          "name": "stdout"
        }
      ]
    },
    {
      "cell_type": "code",
      "metadata": {
        "id": "tfwX42YnsXnO",
        "colab_type": "code",
        "outputId": "5a0bb95a-6ccf-4704-86e3-13f4ecc805ea",
        "colab": {
          "base_uri": "https://localhost:8080/",
          "height": 33
        }
      },
      "source": [
        "json_file = open('model.json','r')\n",
        "loaded_json_model = json_file.read()\n",
        "json_file.close()\n",
        "loaded_model=model_from_json(loaded_json_model)\n",
        "loaded_model.load_weights(\"VGG-Final-Model.h5\")\n",
        "print(\"Loaded the model from disk\")"
      ],
      "execution_count": 0,
      "outputs": [
        {
          "output_type": "stream",
          "text": [
            "Loaded the model from disk\n"
          ],
          "name": "stdout"
        }
      ]
    },
    {
      "cell_type": "markdown",
      "metadata": {
        "id": "pYdp9MIikO08",
        "colab_type": "text"
      },
      "source": [
        "# **Author: Japesh Methuku**"
      ]
    }
  ]
}
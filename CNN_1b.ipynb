{
  "nbformat": 4,
  "nbformat_minor": 0,
  "metadata": {
    "colab": {
      "name": "CNN_1b.ipynb",
      "provenance": [],
      "collapsed_sections": [],
      "authorship_tag": "ABX9TyOLibhrmqEM6bT58xZJ0QjZ",
      "include_colab_link": true
    },
    "kernelspec": {
      "name": "python3",
      "display_name": "Python 3"
    },
    "accelerator": "GPU"
  },
  "cells": [
    {
      "cell_type": "markdown",
      "metadata": {
        "id": "view-in-github",
        "colab_type": "text"
      },
      "source": [
        "<a href=\"https://colab.research.google.com/github/japeshmethuku17/imagenette_6class/blob/master/CNN_1b.ipynb\" target=\"_parent\"><img src=\"https://colab.research.google.com/assets/colab-badge.svg\" alt=\"Open In Colab\"/></a>"
      ]
    },
    {
      "cell_type": "markdown",
      "metadata": {
        "id": "kE6VJZBiKfNb",
        "colab_type": "text"
      },
      "source": [
        "## **Development of a VGG-Baseline Convolutional Neural Network Model to classify images from Imagenette_6class dataset.**\n",
        "\n",
        "\n",
        "\n"
      ]
    },
    {
      "cell_type": "markdown",
      "metadata": {
        "id": "Vk1NOGck8mbo",
        "colab_type": "text"
      },
      "source": [
        "# **Step 1: Import the required libraries**"
      ]
    },
    {
      "cell_type": "code",
      "metadata": {
        "id": "zO81wA3gKVj6",
        "colab_type": "code",
        "outputId": "4de9e684-0216-40be-cf92-c5faa24f20c4",
        "colab": {
          "base_uri": "https://localhost:8080/",
          "height": 67
        }
      },
      "source": [
        "import tensorflow as tf\n",
        "from tensorflow import keras\n",
        "from sklearn.model_selection import train_test_split\n",
        "from tensorflow.keras import utils\n",
        "from tensorflow.keras import datasets, layers, models, callbacks\n",
        "from tensorflow.keras.layers import Conv2D, MaxPooling2D, Dense, Dropout, Flatten, Activation, BatchNormalization\n",
        "from tensorflow.keras.preprocessing.image import ImageDataGenerator, img_to_array, load_img\n",
        "from tensorflow.keras import optimizers\n",
        "from tensorflow.python.keras.models import Sequential, Model, load_model\n",
        "from tensorflow.keras.callbacks import TensorBoard, ReduceLROnPlateau, ModelCheckpoint, EarlyStopping, CSVLogger\n",
        "from tensorflow.keras.layers import Input, Add, AveragePooling2D, GlobalMaxPooling2D\n",
        "from tensorflow.keras.initializers import glorot_uniform\n",
        "from tensorflow.keras.utils import to_categorical\n",
        "from tensorflow.keras.models import model_from_json\n",
        "import pydot\n",
        "from matplotlib.pyplot import imshow\n",
        "import scipy.misc\n",
        "import os \n",
        "import glob\n",
        "import gc\n",
        "import numpy as np\n",
        "import pandas as pd\n",
        "from joblib import Parallel, delayed\n",
        "import matplotlib.pyplot as plt\n",
        "import sklearn.metrics as metrics\n",
        "import os\n",
        "import zipfile\n",
        "from google.colab import drive\n",
        "import seaborn as sns\n",
        "from time import time\n",
        "print(\"tensorflow version:\",tf.__version__)"
      ],
      "execution_count": 0,
      "outputs": [
        {
          "output_type": "stream",
          "text": [
            "tensorflow version: 2.2.0-rc2\n"
          ],
          "name": "stdout"
        },
        {
          "output_type": "stream",
          "text": [
            "/usr/local/lib/python3.6/dist-packages/statsmodels/tools/_testing.py:19: FutureWarning: pandas.util.testing is deprecated. Use the functions in the public API at pandas.testing instead.\n",
            "  import pandas.util.testing as tm\n"
          ],
          "name": "stderr"
        }
      ]
    },
    {
      "cell_type": "markdown",
      "metadata": {
        "id": "FAQDH4qQ8bQ6",
        "colab_type": "text"
      },
      "source": [
        "# **Step 2: Mount Google Drive and load the data**"
      ]
    },
    {
      "cell_type": "code",
      "metadata": {
        "id": "hZ0C6SbaMpYZ",
        "colab_type": "code",
        "outputId": "a5fd7675-559a-42e6-d865-7f6d648926eb",
        "colab": {
          "base_uri": "https://localhost:8080/",
          "height": 120
        }
      },
      "source": [
        "drive.mount('/content/drive/', force_remount=True)\n",
        "\n",
        "zip_ref = zipfile.ZipFile(\"/content/drive/My Drive/imagenette_6class.zip\", 'r')\n",
        "zip_ref.extractall(\"/tmp\")\n",
        "zip_ref.close()"
      ],
      "execution_count": 0,
      "outputs": [
        {
          "output_type": "stream",
          "text": [
            "Go to this URL in a browser: https://accounts.google.com/o/oauth2/auth?client_id=947318989803-6bn6qk8qdgf4n4g3pfee6491hc0brc4i.apps.googleusercontent.com&redirect_uri=urn%3aietf%3awg%3aoauth%3a2.0%3aoob&response_type=code&scope=email%20https%3a%2f%2fwww.googleapis.com%2fauth%2fdocs.test%20https%3a%2f%2fwww.googleapis.com%2fauth%2fdrive%20https%3a%2f%2fwww.googleapis.com%2fauth%2fdrive.photos.readonly%20https%3a%2f%2fwww.googleapis.com%2fauth%2fpeopleapi.readonly\n",
            "\n",
            "Enter your authorization code:\n",
            "··········\n",
            "Mounted at /content/drive/\n"
          ],
          "name": "stdout"
        }
      ]
    },
    {
      "cell_type": "markdown",
      "metadata": {
        "id": "42B5ohfXPs-D",
        "colab_type": "text"
      },
      "source": [
        "**Checking the availability of GPU for computing**"
      ]
    },
    {
      "cell_type": "code",
      "metadata": {
        "id": "3iuMP2lAMv2f",
        "colab_type": "code",
        "outputId": "62c1a171-5a65-4646-aff3-ca9913dff8b7",
        "colab": {
          "base_uri": "https://localhost:8080/",
          "height": 33
        }
      },
      "source": [
        "device_name = tf.test.gpu_device_name()\n",
        "if device_name != '/device:GPU:0':\n",
        "  raise SystemError('GPU device not found')\n",
        "print('Found GPU at: {}'.format(device_name))"
      ],
      "execution_count": 0,
      "outputs": [
        {
          "output_type": "stream",
          "text": [
            "Found GPU at: /device:GPU:0\n"
          ],
          "name": "stdout"
        }
      ]
    },
    {
      "cell_type": "markdown",
      "metadata": {
        "id": "ArCs0trlP0RC",
        "colab_type": "text"
      },
      "source": [
        "# **Step 3: Using ImageDataGenerator to feed the images into the neural network**"
      ]
    },
    {
      "cell_type": "code",
      "metadata": {
        "id": "VRrqiaM-M3nb",
        "colab_type": "code",
        "outputId": "4fceecd8-bd76-4cfc-8650-5304cc87cc7c",
        "colab": {
          "base_uri": "https://localhost:8080/",
          "height": 67
        }
      },
      "source": [
        "train_datagen = ImageDataGenerator(rescale=1./255)\n",
        "test_datagen = ImageDataGenerator(rescale=1./255)\n",
        "valid_datagen = ImageDataGenerator(rescale = 1./255)\n",
        "train_data = train_datagen.flow_from_directory('/tmp/train/', class_mode='categorical', target_size=(224,224), batch_size=32)\n",
        "test_data = test_datagen.flow_from_directory('/tmp/test/', class_mode='categorical', target_size=(224,224), batch_size=32,shuffle=False)\n",
        "valid_data = valid_datagen.flow_from_directory('/tmp/validation/', class_mode='categorical', target_size=(224,224), batch_size=32,shuffle=False)"
      ],
      "execution_count": 0,
      "outputs": [
        {
          "output_type": "stream",
          "text": [
            "Found 7200 images belonging to 6 classes.\n",
            "Found 300 images belonging to 6 classes.\n",
            "Found 600 images belonging to 6 classes.\n"
          ],
          "name": "stdout"
        }
      ]
    },
    {
      "cell_type": "markdown",
      "metadata": {
        "id": "Ox4DKksEQFVG",
        "colab_type": "text"
      },
      "source": [
        "**Displaying the number of classes**"
      ]
    },
    {
      "cell_type": "code",
      "metadata": {
        "id": "N_uRHHRcNRf9",
        "colab_type": "code",
        "outputId": "ec313906-2d5f-478d-b427-878060c7b57d",
        "colab": {
          "base_uri": "https://localhost:8080/",
          "height": 67
        }
      },
      "source": [
        "for data_batch, labels_batch in train_data:\n",
        "    print('Data batch:', data_batch.shape)\n",
        "    print('Labels batch:', labels_batch.shape)\n",
        "    print('Number of classes:',labels_batch.shape[1])\n",
        "    break"
      ],
      "execution_count": 0,
      "outputs": [
        {
          "output_type": "stream",
          "text": [
            "Data batch: (32, 224, 224, 3)\n",
            "Labels batch: (32, 6)\n",
            "Number of classes: 6\n"
          ],
          "name": "stdout"
        }
      ]
    },
    {
      "cell_type": "markdown",
      "metadata": {
        "id": "jIpQ0mSEQKqK",
        "colab_type": "text"
      },
      "source": [
        "**Displaying a sample image from one of the classes in Test Data**"
      ]
    },
    {
      "cell_type": "code",
      "metadata": {
        "id": "Xbs32hSsNaQp",
        "colab_type": "code",
        "outputId": "db4b11c0-e08a-4b08-a076-128ca0730bd1",
        "colab": {
          "base_uri": "https://localhost:8080/",
          "height": 286
        }
      },
      "source": [
        "#Loading the image by passing image filepath\n",
        "img = load_img(\"/tmp/test/church/ILSVRC2012_val_00034021.JPEG\")\n",
        "x = img_to_array(img)  \n",
        "plt.imshow(img)\n",
        "print('This is just a sample image from the test data.')"
      ],
      "execution_count": 0,
      "outputs": [
        {
          "output_type": "stream",
          "text": [
            "This is just a sample image from the test data.\n"
          ],
          "name": "stdout"
        },
        {
          "output_type": "display_data",
          "data": {
            "image/png": "[encoded data removed]",
            "text/plain": [
              "<Figure size 432x288 with 1 Axes>"
            ]
          },
          "metadata": {
            "tags": [],
            "needs_background": "light"
          }
        }
      ]
    },
    {
      "cell_type": "markdown",
      "metadata": {
        "id": "HS2XE0edemJz",
        "colab_type": "text"
      },
      "source": [
        "# **Step 4: Design the Convolutional Neural Network model**"
      ]
    },
    {
      "cell_type": "code",
      "metadata": {
        "id": "bFuCj6g9NnLO",
        "colab_type": "code",
        "outputId": "7e06f82f-b72a-42c1-8ed7-c99da212034e",
        "colab": {
          "base_uri": "https://localhost:8080/",
          "height": 517
        }
      },
      "source": [
        "print('Build the CNN model')\n",
        "model =models.Sequential()\n",
        "#Block 1\n",
        "model.add(layers.Conv2D(32, kernel_size=(3, 3), dilation_rate=(1,1), padding = 'same', strides=(1,1), kernel_initializer='glorot_uniform', activation='relu', input_shape=(224, 224, 3)))\n",
        "model.add(layers.Conv2D(32, kernel_size=(3, 3), dilation_rate=(1,1), padding = 'same', strides=(1,1), kernel_initializer='glorot_uniform', activation='relu'))\n",
        "model.add(layers.MaxPooling2D(pool_size=(2, 2), strides=(2, 2)))\n",
        "#Block 2\n",
        "model.add(layers.Conv2D(64, kernel_size=(3, 3), dilation_rate=(1,1), padding = 'same', strides=(1,1), kernel_initializer='glorot_uniform', activation='relu'))\n",
        "model.add(layers.Conv2D(64, kernel_size=(3, 3), dilation_rate=(1,1), padding = 'same', strides=(1,1), kernel_initializer='glorot_uniform', activation='relu'))\n",
        "model.add(layers.MaxPooling2D(pool_size=(2, 2), strides=(2, 2)))\n",
        "#Classification block\n",
        "model.add(layers.Flatten())\n",
        "model.add(layers.Dense(512, kernel_initializer='glorot_uniform',activation='relu'))\n",
        "model.add(layers.Dropout(0.5)) #Addition of Dropout to the classification block\n",
        "model.add(layers.Dense(6,activation='softmax'))\n",
        "model.summary()\n",
        "print('The CNN model is now ready for training the images. Go ahead and compile the model')"
      ],
      "execution_count": 0,
      "outputs": [
        {
          "output_type": "stream",
          "text": [
            "Build the CNN model\n",
            "Model: \"sequential\"\n",
            "_________________________________________________________________\n",
            "Layer (type)                 Output Shape              Param #   \n",
            "=================================================================\n",
            "conv2d (Conv2D)              (None, 224, 224, 32)      896       \n",
            "_________________________________________________________________\n",
            "conv2d_1 (Conv2D)            (None, 224, 224, 32)      9248      \n",
            "_________________________________________________________________\n",
            "max_pooling2d (MaxPooling2D) (None, 112, 112, 32)      0         \n",
            "_________________________________________________________________\n",
            "conv2d_2 (Conv2D)            (None, 112, 112, 64)      18496     \n",
            "_________________________________________________________________\n",
            "conv2d_3 (Conv2D)            (None, 112, 112, 64)      36928     \n",
            "_________________________________________________________________\n",
            "max_pooling2d_1 (MaxPooling2 (None, 56, 56, 64)        0         \n",
            "_________________________________________________________________\n",
            "flatten (Flatten)            (None, 200704)            0         \n",
            "_________________________________________________________________\n",
            "dense (Dense)                (None, 512)               102760960 \n",
            "_________________________________________________________________\n",
            "dropout (Dropout)            (None, 512)               0         \n",
            "_________________________________________________________________\n",
            "dense_1 (Dense)              (None, 6)                 3078      \n",
            "=================================================================\n",
            "Total params: 102,829,606\n",
            "Trainable params: 102,829,606\n",
            "Non-trainable params: 0\n",
            "_________________________________________________________________\n",
            "The CNN model is now ready for training the images. Go ahead and compile the model\n"
          ],
          "name": "stdout"
        }
      ]
    },
    {
      "cell_type": "markdown",
      "metadata": {
        "id": "2sLKZDkZe0Zn",
        "colab_type": "text"
      },
      "source": [
        "**Compile the designed CNN model**"
      ]
    },
    {
      "cell_type": "code",
      "metadata": {
        "id": "2TsGY2i7NrWj",
        "colab_type": "code",
        "outputId": "fc6ecec8-f6d7-4ec7-b3bc-35ccce7ee1c0",
        "colab": {
          "base_uri": "https://localhost:8080/",
          "height": 33
        }
      },
      "source": [
        "learning_rate= 1e-3  \n",
        "model.compile(loss='categorical_crossentropy',\n",
        "    optimizer=optimizers.RMSprop(lr=learning_rate),\n",
        "    metrics=['accuracy'])\n",
        "print('Model compiled')"
      ],
      "execution_count": 0,
      "outputs": [
        {
          "output_type": "stream",
          "text": [
            "Model compiled\n"
          ],
          "name": "stdout"
        }
      ]
    },
    {
      "cell_type": "code",
      "metadata": {
        "id": "MMGxgmH4OGdW",
        "colab_type": "code",
        "colab": {}
      },
      "source": [
        "callbacks_list = [\n",
        "    callbacks.ModelCheckpoint(\n",
        "        filepath = 'vgg-baseline-model.h5',\n",
        "        monitor = 'val_loss',\n",
        "        save_best_only = True)\n",
        "    #callbacks.ReduceLROnPlateau(\n",
        "     #   monitor = 'val_loss',\n",
        "      #  factor = 0.1,\n",
        "       # patience = 5),\n",
        "   # callbacks.CSVLogger(\n",
        "    #    filename='vgg-baseline-model.csv',\n",
        "      #  separator = ',',\n",
        "     #   append = False)\n",
        "]"
      ],
      "execution_count": 0,
      "outputs": []
    },
    {
      "cell_type": "markdown",
      "metadata": {
        "id": "ZX_L4XeZe6Vk",
        "colab_type": "text"
      },
      "source": [
        "# **Step 5: Train the model**\n",
        "\n",
        "> Feed the training data and evaluate the model on validation data.\n",
        "\n",
        "> Choose the number of epochs and calculate the time it takes for the model to learn the data.\n",
        "\n",
        "\n",
        "\n"
      ]
    },
    {
      "cell_type": "code",
      "metadata": {
        "id": "C3z-LlejNv6N",
        "colab_type": "code",
        "outputId": "88468134-d5af-4343-ee29-06fc5bbffaf2",
        "colab": {
          "base_uri": "https://localhost:8080/",
          "height": 1000
        }
      },
      "source": [
        "print('Fit the model...')\n",
        "t0 = time() #timing counter starts\n",
        "print('The model has started learning...')\n",
        "nepochs=30\n",
        "print('The model will be trained on',nepochs,'epochs')\n",
        "batch_size=32\n",
        "history=model.fit(train_data, #Learning process starts\n",
        "                  steps_per_epoch=7200//batch_size,\n",
        "                  epochs=nepochs,\n",
        "                  validation_data=valid_data,\n",
        "                  validation_steps=600//batch_size,\n",
        "                  callbacks=callbacks_list)\n",
        "print('Fit model took', int(time() - t0),'s') #time is calculated with the help of counter"
      ],
      "execution_count": 0,
      "outputs": [
        {
          "output_type": "stream",
          "text": [
            "Fit the model...\n",
            "The model has started learning...\n",
            "The model will be trained on 30 epochs\n",
            "Epoch 1/30\n",
            "225/225 [==============================] - 51s 226ms/step - loss: 2.0335 - accuracy: 0.4056 - val_loss: 1.2099 - val_accuracy: 0.5191\n",
            "Epoch 2/30\n",
            "225/225 [==============================] - 51s 225ms/step - loss: 0.9811 - accuracy: 0.6665 - val_loss: 0.9444 - val_accuracy: 0.6840\n",
            "Epoch 3/30\n",
            "225/225 [==============================] - 51s 225ms/step - loss: 0.6792 - accuracy: 0.7750 - val_loss: 0.7508 - val_accuracy: 0.7448\n",
            "Epoch 4/30\n",
            "225/225 [==============================] - 48s 213ms/step - loss: 0.4539 - accuracy: 0.8557 - val_loss: 0.8949 - val_accuracy: 0.7465\n",
            "Epoch 5/30\n",
            "225/225 [==============================] - 48s 213ms/step - loss: 0.2707 - accuracy: 0.9186 - val_loss: 1.0959 - val_accuracy: 0.7344\n",
            "Epoch 6/30\n",
            "225/225 [==============================] - 48s 212ms/step - loss: 0.2132 - accuracy: 0.9407 - val_loss: 1.3481 - val_accuracy: 0.7552\n",
            "Epoch 7/30\n",
            "225/225 [==============================] - 48s 211ms/step - loss: 0.1507 - accuracy: 0.9608 - val_loss: 1.5798 - val_accuracy: 0.7240\n",
            "Epoch 8/30\n",
            "225/225 [==============================] - 48s 213ms/step - loss: 0.1169 - accuracy: 0.9700 - val_loss: 2.5026 - val_accuracy: 0.7118\n",
            "Epoch 9/30\n",
            "225/225 [==============================] - 48s 212ms/step - loss: 0.1447 - accuracy: 0.9710 - val_loss: 2.4141 - val_accuracy: 0.7413\n",
            "Epoch 10/30\n",
            "225/225 [==============================] - 48s 213ms/step - loss: 0.1042 - accuracy: 0.9801 - val_loss: 3.9918 - val_accuracy: 0.6701\n",
            "Epoch 11/30\n",
            "225/225 [==============================] - 48s 212ms/step - loss: 0.1005 - accuracy: 0.9786 - val_loss: 3.2008 - val_accuracy: 0.7170\n",
            "Epoch 12/30\n",
            "225/225 [==============================] - 48s 212ms/step - loss: 0.1461 - accuracy: 0.9761 - val_loss: 2.9369 - val_accuracy: 0.6615\n",
            "Epoch 13/30\n",
            "225/225 [==============================] - 48s 212ms/step - loss: 0.1119 - accuracy: 0.9786 - val_loss: 3.5615 - val_accuracy: 0.7118\n",
            "Epoch 14/30\n",
            "225/225 [==============================] - 48s 212ms/step - loss: 0.1518 - accuracy: 0.9793 - val_loss: 7.5139 - val_accuracy: 0.6806\n",
            "Epoch 15/30\n",
            "225/225 [==============================] - 48s 211ms/step - loss: 0.1240 - accuracy: 0.9819 - val_loss: 5.6987 - val_accuracy: 0.6424\n",
            "Epoch 16/30\n",
            "225/225 [==============================] - 48s 212ms/step - loss: 0.0997 - accuracy: 0.9812 - val_loss: 5.6355 - val_accuracy: 0.6910\n",
            "Epoch 17/30\n",
            "225/225 [==============================] - 48s 212ms/step - loss: 0.1264 - accuracy: 0.9822 - val_loss: 4.6664 - val_accuracy: 0.7274\n",
            "Epoch 18/30\n",
            "225/225 [==============================] - 48s 212ms/step - loss: 0.1308 - accuracy: 0.9857 - val_loss: 9.4623 - val_accuracy: 0.6858\n",
            "Epoch 19/30\n",
            "225/225 [==============================] - 48s 211ms/step - loss: 0.1569 - accuracy: 0.9839 - val_loss: 6.2555 - val_accuracy: 0.7257\n",
            "Epoch 20/30\n",
            "225/225 [==============================] - 48s 212ms/step - loss: 0.2806 - accuracy: 0.9829 - val_loss: 8.2902 - val_accuracy: 0.6823\n",
            "Epoch 21/30\n",
            "225/225 [==============================] - 48s 212ms/step - loss: 0.1596 - accuracy: 0.9825 - val_loss: 7.1708 - val_accuracy: 0.7188\n",
            "Epoch 22/30\n",
            "225/225 [==============================] - 48s 212ms/step - loss: 0.1627 - accuracy: 0.9835 - val_loss: 6.7386 - val_accuracy: 0.7378\n",
            "Epoch 23/30\n",
            "225/225 [==============================] - 48s 211ms/step - loss: 0.1716 - accuracy: 0.9878 - val_loss: 8.6255 - val_accuracy: 0.7188\n",
            "Epoch 24/30\n",
            "225/225 [==============================] - 48s 212ms/step - loss: 0.1338 - accuracy: 0.9865 - val_loss: 10.6580 - val_accuracy: 0.7257\n",
            "Epoch 25/30\n",
            "225/225 [==============================] - 48s 211ms/step - loss: 0.1785 - accuracy: 0.9847 - val_loss: 9.1516 - val_accuracy: 0.7170\n",
            "Epoch 26/30\n",
            "225/225 [==============================] - 48s 211ms/step - loss: 0.1654 - accuracy: 0.9858 - val_loss: 9.9757 - val_accuracy: 0.6806\n",
            "Epoch 27/30\n",
            "225/225 [==============================] - 48s 212ms/step - loss: 0.1311 - accuracy: 0.9876 - val_loss: 6.8865 - val_accuracy: 0.7361\n",
            "Epoch 28/30\n",
            "225/225 [==============================] - 48s 212ms/step - loss: 0.1340 - accuracy: 0.9883 - val_loss: 12.7733 - val_accuracy: 0.7101\n",
            "Epoch 29/30\n",
            "225/225 [==============================] - 47s 211ms/step - loss: 0.1475 - accuracy: 0.9893 - val_loss: 12.2480 - val_accuracy: 0.7326\n",
            "Epoch 30/30\n",
            "225/225 [==============================] - 47s 211ms/step - loss: 0.1630 - accuracy: 0.9886 - val_loss: 12.5910 - val_accuracy: 0.7431\n",
            "Fit model took 1453 s\n"
          ],
          "name": "stdout"
        }
      ]
    },
    {
      "cell_type": "markdown",
      "metadata": {
        "id": "ROF2LTUMfqWL",
        "colab_type": "text"
      },
      "source": [
        "# **Step 6: Evaluate the model**\n",
        "\n",
        "> Plot the learning curves.\n",
        "\n",
        "> Produce a classification report that explains the performance of the model.\n",
        "\n",
        "\n",
        "\n"
      ]
    },
    {
      "cell_type": "code",
      "metadata": {
        "id": "e3eW73Z3fuS3",
        "colab_type": "code",
        "outputId": "82079750-5f3a-4b9c-ac73-4c6329c69fc7",
        "colab": {
          "base_uri": "https://localhost:8080/",
          "height": 573
        }
      },
      "source": [
        "plt.plot(history.history['accuracy'])\n",
        "plt.plot(history.history['val_accuracy'])\n",
        "plt.title('Training and validation accuracy')\n",
        "plt.ylabel('accuracy')\n",
        "plt.xlabel('epoch')\n",
        "plt.legend(['train', 'validation'], loc='upper left')\n",
        "# save image to disk\n",
        "plt.savefig('VGG-With Dropout Accuracy', dpi=250)\n",
        "plt.show()\n",
        "\n",
        "# summarize history for loss\n",
        "plt.plot(history.history['loss'])\n",
        "plt.plot(history.history['val_loss'])\n",
        "plt.title('Training and validation loss')\n",
        "plt.ylabel('loss')\n",
        "plt.xlabel('epoch')\n",
        "plt.legend(['train', 'validation'], loc='upper left')\n",
        "# save image to disk\n",
        "plt.savefig('VGG-With Dropout Loss', dpi=250)\n",
        "plt.show()"
      ],
      "execution_count": 0,
      "outputs": [
        {
          "output_type": "display_data",
          "data": {
            "image/png": "[encoded data removed]",
            "text/plain": [
              "<Figure size 432x288 with 1 Axes>"
            ]
          },
          "metadata": {
            "tags": [],
            "needs_background": "light"
          }
        },
        {
          "output_type": "display_data",
          "data": {
            "image/png": "[encoded data removed]",
            "text/plain": [
              "<Figure size 432x288 with 1 Axes>"
            ]
          },
          "metadata": {
            "tags": [],
            "needs_background": "light"
          }
        }
      ]
    },
    {
      "cell_type": "markdown",
      "metadata": {
        "id": "cmenGP_vgUbh",
        "colab_type": "text"
      },
      "source": [
        "**Evaluating the model.**"
      ]
    },
    {
      "cell_type": "code",
      "metadata": {
        "id": "VmvM18L_gYef",
        "colab_type": "code",
        "outputId": "0bb23277-cc3f-43d4-af1c-b704a9c8be17",
        "colab": {
          "base_uri": "https://localhost:8080/",
          "height": 33
        }
      },
      "source": [
        "validation_datagen = ImageDataGenerator(rescale = 1./255)\n",
        "evaluate_datagen = validation_datagen.flow_from_directory('/tmp/validation/', class_mode='categorical', target_size=(224,224), batch_size=1,shuffle=False)"
      ],
      "execution_count": 0,
      "outputs": [
        {
          "output_type": "stream",
          "text": [
            "Found 600 images belonging to 6 classes.\n"
          ],
          "name": "stdout"
        }
      ]
    },
    {
      "cell_type": "code",
      "metadata": {
        "id": "7ZPdsb9XguDx",
        "colab_type": "code",
        "outputId": "902851b5-d572-4418-df01-43a7f9f59f04",
        "colab": {
          "base_uri": "https://localhost:8080/",
          "height": 67
        }
      },
      "source": [
        "print('Evaluating the model')\n",
        "t0 = time()\n",
        "evaluate_datagen.reset()\n",
        "val_predict = model.predict(\n",
        "    evaluate_datagen,\n",
        "    steps = 600,\n",
        "    verbose = 1)\n",
        "print('Time taken to evaluate the model:',int(time()-t0),'seconds')"
      ],
      "execution_count": 0,
      "outputs": [
        {
          "output_type": "stream",
          "text": [
            "Evaluating the model\n",
            "600/600 [==============================] - 5s 8ms/step\n",
            "Time taken to evaluate the model: 4 seconds\n"
          ],
          "name": "stdout"
        }
      ]
    },
    {
      "cell_type": "code",
      "metadata": {
        "id": "SOsDampKjtu3",
        "colab_type": "code",
        "outputId": "0be227bf-5e7c-4e23-9d5b-6809c11d7729",
        "colab": {
          "base_uri": "https://localhost:8080/",
          "height": 33
        }
      },
      "source": [
        "validation_samples = val_predict.shape[0]\n",
        "print('Number of data points in validation set:',validation_samples)"
      ],
      "execution_count": 0,
      "outputs": [
        {
          "output_type": "stream",
          "text": [
            "Number of data points in validation set: 600\n"
          ],
          "name": "stdout"
        }
      ]
    },
    {
      "cell_type": "code",
      "metadata": {
        "id": "5kTPDVitkHXx",
        "colab_type": "code",
        "colab": {}
      },
      "source": [
        "val_predicted_classes = np.argmax(val_predict, axis = 1)\n",
        "val_true_classes = evaluate_datagen.classes\n",
        "val_class_labels = list(evaluate_datagen.class_indices.keys())"
      ],
      "execution_count": 0,
      "outputs": []
    },
    {
      "cell_type": "markdown",
      "metadata": {
        "id": "4dDFPKnvl61e",
        "colab_type": "text"
      },
      "source": [
        "**Validation Data Classification Report**"
      ]
    },
    {
      "cell_type": "code",
      "metadata": {
        "id": "Li_p2vcckNTR",
        "colab_type": "code",
        "outputId": "3615bd6f-ce64-4bc3-d50c-c3e667f1f8e3",
        "colab": {
          "base_uri": "https://localhost:8080/",
          "height": 250
        }
      },
      "source": [
        "validation_report = metrics.classification_report(val_true_classes, val_predicted_classes, target_names=val_class_labels)\n",
        "print('The validation report is as follows:')\n",
        "print(validation_report)"
      ],
      "execution_count": 0,
      "outputs": [
        {
          "output_type": "stream",
          "text": [
            "The validation report is as follows:\n",
            "                  precision    recall  f1-score   support\n",
            "\n",
            "English_springer       0.80      0.76      0.78       100\n",
            "          church       0.70      0.75      0.72       100\n",
            "   garbage_truck       0.72      0.78      0.75       100\n",
            "        gas_pump       0.63      0.66      0.65       100\n",
            "       parachute       0.81      0.83      0.82       100\n",
            "           tench       0.87      0.72      0.79       100\n",
            "\n",
            "        accuracy                           0.75       600\n",
            "       macro avg       0.76      0.75      0.75       600\n",
            "    weighted avg       0.76      0.75      0.75       600\n",
            "\n"
          ],
          "name": "stdout"
        }
      ]
    },
    {
      "cell_type": "code",
      "metadata": {
        "id": "dzlBJFEskaNN",
        "colab_type": "code",
        "colab": {}
      },
      "source": [
        "val_conf_matrix = tf.math.confusion_matrix(labels=val_true_classes, predictions=val_predicted_classes).numpy()"
      ],
      "execution_count": 0,
      "outputs": []
    },
    {
      "cell_type": "code",
      "metadata": {
        "id": "QD-C6hf0kpv2",
        "colab_type": "code",
        "outputId": "a58557a9-885a-4ba2-efc6-758f0935464d",
        "colab": {
          "base_uri": "https://localhost:8080/",
          "height": 311
        }
      },
      "source": [
        "import seaborn as sns\n",
        "figure1 = plt.figure()\n",
        "sns.heatmap(val_conf_matrix, annot = True, cmap=plt.cm.Greens)\n",
        "plt.tight_layout()\n",
        "plt.ylabel('True Label')\n",
        "plt.xlabel('Predicted label')\n",
        "plt.savefig('Validation data Confusion Matrix_v2', dpi=250)\n",
        "plt.show()"
      ],
      "execution_count": 0,
      "outputs": [
        {
          "output_type": "display_data",
          "data": {
            "image/png": "[encoded data removed]",
            "text/plain": [
              "<Figure size 432x288 with 2 Axes>"
            ]
          },
          "metadata": {
            "tags": [],
            "needs_background": "light"
          }
        }
      ]
    },
    {
      "cell_type": "markdown",
      "metadata": {
        "id": "Pf92yNTPmagq",
        "colab_type": "text"
      },
      "source": [
        "# **Step 7: Performance measurement on Test data**"
      ]
    },
    {
      "cell_type": "code",
      "metadata": {
        "id": "TOROpYvrlfKG",
        "colab_type": "code",
        "outputId": "567bb6b1-5769-4af0-a454-8d3f15c6396f",
        "colab": {
          "base_uri": "https://localhost:8080/",
          "height": 33
        }
      },
      "source": [
        "testing_datagen = ImageDataGenerator(rescale = 1./255)\n",
        "test_data_datagen = testing_datagen.flow_from_directory('/tmp/test/', class_mode='categorical', target_size=(224,224), batch_size=1,shuffle=False)"
      ],
      "execution_count": 0,
      "outputs": [
        {
          "output_type": "stream",
          "text": [
            "Found 300 images belonging to 6 classes.\n"
          ],
          "name": "stdout"
        }
      ]
    },
    {
      "cell_type": "code",
      "metadata": {
        "id": "7LsvsAjInBAN",
        "colab_type": "code",
        "outputId": "9064d78b-8394-43e5-d6fc-ee5c0d37c16f",
        "colab": {
          "base_uri": "https://localhost:8080/",
          "height": 50
        }
      },
      "source": [
        "print('Testing the model')\n",
        "final_result = model.evaluate(\n",
        "    test_data_datagen,\n",
        "    steps = 300)"
      ],
      "execution_count": 0,
      "outputs": [
        {
          "output_type": "stream",
          "text": [
            "Testing the model\n",
            "300/300 [==============================] - 2s 8ms/step - loss: 6.4176 - accuracy: 0.7933\n"
          ],
          "name": "stdout"
        }
      ]
    },
    {
      "cell_type": "code",
      "metadata": {
        "id": "IPBSFefpnlZ7",
        "colab_type": "code",
        "outputId": "50e0f80c-5bb4-4246-b840-138def430a9e",
        "colab": {
          "base_uri": "https://localhost:8080/",
          "height": 33
        }
      },
      "source": [
        "test_data_datagen.reset()\n",
        "predict_on_test_data = model.predict(\n",
        "    test_data_datagen,\n",
        "    steps = 300,\n",
        "    verbose = 1\n",
        ")"
      ],
      "execution_count": 0,
      "outputs": [
        {
          "output_type": "stream",
          "text": [
            "300/300 [==============================] - 2s 8ms/step\n"
          ],
          "name": "stdout"
        }
      ]
    },
    {
      "cell_type": "code",
      "metadata": {
        "id": "q92LM-biozxE",
        "colab_type": "code",
        "outputId": "8a62befc-741e-4323-e1db-32f9150a502b",
        "colab": {
          "base_uri": "https://localhost:8080/",
          "height": 33
        }
      },
      "source": [
        "print('Number of data points in test set:',predict_on_test_data.shape[0])"
      ],
      "execution_count": 0,
      "outputs": [
        {
          "output_type": "stream",
          "text": [
            "Number of data points in test set: 300\n"
          ],
          "name": "stdout"
        }
      ]
    },
    {
      "cell_type": "code",
      "metadata": {
        "id": "EtL3lZUepX9N",
        "colab_type": "code",
        "colab": {}
      },
      "source": [
        "predicted_classes = np.argmax(predict_on_test_data,axis=1)\n",
        "predict_true_classes = test_data_datagen.classes\n",
        "predict_class_labels = list(test_data_datagen.class_indices.keys())"
      ],
      "execution_count": 0,
      "outputs": []
    },
    {
      "cell_type": "code",
      "metadata": {
        "id": "qvHwlp46p7Tf",
        "colab_type": "code",
        "outputId": "c63280df-23aa-4a8b-fc16-7831c20151a8",
        "colab": {
          "base_uri": "https://localhost:8080/",
          "height": 233
        }
      },
      "source": [
        "test_report = metrics.classification_report(predict_true_classes, predicted_classes, target_names = predict_class_labels)\n",
        "print(test_report)"
      ],
      "execution_count": 0,
      "outputs": [
        {
          "output_type": "stream",
          "text": [
            "                  precision    recall  f1-score   support\n",
            "\n",
            "English_springer       0.88      0.86      0.87        50\n",
            "          church       0.76      0.68      0.72        50\n",
            "   garbage_truck       0.72      0.88      0.79        50\n",
            "        gas_pump       0.68      0.72      0.70        50\n",
            "       parachute       0.90      0.86      0.88        50\n",
            "           tench       0.86      0.76      0.81        50\n",
            "\n",
            "        accuracy                           0.79       300\n",
            "       macro avg       0.80      0.79      0.79       300\n",
            "    weighted avg       0.80      0.79      0.79       300\n",
            "\n"
          ],
          "name": "stdout"
        }
      ]
    },
    {
      "cell_type": "code",
      "metadata": {
        "id": "hrWpSzHbroQ6",
        "colab_type": "code",
        "colab": {}
      },
      "source": [
        "test_confusion_matrix = tf.math.confusion_matrix(labels=predict_true_classes,predictions = predicted_classes).numpy()"
      ],
      "execution_count": 0,
      "outputs": []
    },
    {
      "cell_type": "code",
      "metadata": {
        "id": "W8TNTo-Tr9NG",
        "colab_type": "code",
        "outputId": "fb3e1bd3-fac3-4748-e539-4b2bceb7dcfc",
        "colab": {
          "base_uri": "https://localhost:8080/",
          "height": 311
        }
      },
      "source": [
        "figure1 = plt.figure()\n",
        "sns.heatmap(test_confusion_matrix, annot = True, cmap=plt.cm.Greens)\n",
        "plt.tight_layout()\n",
        "plt.ylabel('True Label')\n",
        "plt.xlabel('Predicted label')\n",
        "plt.savefig('Test data Confusion Matrix_v2', dpi=250)\n",
        "plt.show()"
      ],
      "execution_count": 0,
      "outputs": [
        {
          "output_type": "display_data",
          "data": {
            "image/png": "[encoded data removed]",
            "text/plain": [
              "<Figure size 432x288 with 2 Axes>"
            ]
          },
          "metadata": {
            "tags": [],
            "needs_background": "light"
          }
        }
      ]
    },
    {
      "cell_type": "markdown",
      "metadata": {
        "id": "UEthKiRDxvSg",
        "colab_type": "text"
      },
      "source": [
        "# **Step 8: Save and load the model**"
      ]
    },
    {
      "cell_type": "code",
      "metadata": {
        "id": "Olo9uAKZsP4a",
        "colab_type": "code",
        "outputId": "083634fc-cc95-45e1-f02d-c4db0571ac27",
        "colab": {
          "base_uri": "https://localhost:8080/",
          "height": 33
        }
      },
      "source": [
        "model_json = model.to_json()\n",
        "with open(\"model.json\",\"w\") as json_file:\n",
        "  json_file.write(model_json)\n",
        "  #serializing the weights to HDF5\n",
        "model.save('VGG-CNN-Dropout-Model.h5')\n",
        "print('Model saved to the disk')"
      ],
      "execution_count": 0,
      "outputs": [
        {
          "output_type": "stream",
          "text": [
            "Model saved to the disk\n"
          ],
          "name": "stdout"
        }
      ]
    },
    {
      "cell_type": "code",
      "metadata": {
        "id": "tfwX42YnsXnO",
        "colab_type": "code",
        "outputId": "0937085c-86f8-497b-8c16-e527d816ee4a",
        "colab": {
          "base_uri": "https://localhost:8080/",
          "height": 33
        }
      },
      "source": [
        "json_file = open('model.json','r')\n",
        "loaded_json_model = json_file.read()\n",
        "json_file.close()\n",
        "loaded_model=model_from_json(loaded_json_model)\n",
        "loaded_model.load_weights(\"VGG-CNN-Dropout-Model.h5\")\n",
        "print(\"Loaded the model from disk\")"
      ],
      "execution_count": 0,
      "outputs": [
        {
          "output_type": "stream",
          "text": [
            "Loaded the model from disk\n"
          ],
          "name": "stdout"
        }
      ]
    },
    {
      "cell_type": "markdown",
      "metadata": {
        "id": "13ud0tghmAEn",
        "colab_type": "text"
      },
      "source": [
        "# **Author: Japesh Methuku**"
      ]
    }
  ]
}
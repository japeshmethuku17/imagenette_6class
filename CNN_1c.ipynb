{
  "nbformat": 4,
  "nbformat_minor": 0,
  "metadata": {
    "colab": {
      "name": "CNN_1c.ipynb",
      "provenance": [],
      "collapsed_sections": [],
      "authorship_tag": "ABX9TyOf8/29Q5Q09/TDTXOiqM89",
      "include_colab_link": true
    },
    "kernelspec": {
      "name": "python3",
      "display_name": "Python 3"
    },
    "accelerator": "GPU"
  },
  "cells": [
    {
      "cell_type": "markdown",
      "metadata": {
        "id": "view-in-github",
        "colab_type": "text"
      },
      "source": [
        "<a href=\"https://colab.research.google.com/github/japeshmethuku17/imagenette_6class/blob/master/CNN_1c.ipynb\" target=\"_parent\"><img src=\"https://colab.research.google.com/assets/colab-badge.svg\" alt=\"Open In Colab\"/></a>"
      ]
    },
    {
      "cell_type": "markdown",
      "metadata": {
        "id": "kE6VJZBiKfNb",
        "colab_type": "text"
      },
      "source": [
        "## **Development of a VGG-Baseline Convolutional Neural Network Model to classify images from Imagenette_6class dataset.**\n",
        "\n",
        "\n",
        "\n"
      ]
    },
    {
      "cell_type": "markdown",
      "metadata": {
        "id": "Vk1NOGck8mbo",
        "colab_type": "text"
      },
      "source": [
        "# **Step 1: Import the required libraries**"
      ]
    },
    {
      "cell_type": "code",
      "metadata": {
        "id": "zO81wA3gKVj6",
        "colab_type": "code",
        "outputId": "44fabd88-66c5-428b-9d31-2d51bca4eff2",
        "colab": {
          "base_uri": "https://localhost:8080/",
          "height": 33
        }
      },
      "source": [
        "import tensorflow as tf\n",
        "from tensorflow import keras\n",
        "from sklearn.model_selection import train_test_split\n",
        "from tensorflow.keras import utils\n",
        "from tensorflow.keras import datasets, layers, models, callbacks\n",
        "from tensorflow.keras.layers import Conv2D, MaxPooling2D, Dense, Dropout, Flatten, Activation, BatchNormalization\n",
        "from tensorflow.keras.preprocessing.image import ImageDataGenerator, img_to_array, load_img\n",
        "from tensorflow.keras import optimizers\n",
        "from tensorflow.python.keras.models import Sequential, Model, load_model\n",
        "from tensorflow.keras.callbacks import TensorBoard, ReduceLROnPlateau, ModelCheckpoint, EarlyStopping, CSVLogger\n",
        "from tensorflow.keras.layers import Input, Add, AveragePooling2D, GlobalMaxPooling2D\n",
        "from tensorflow.keras.initializers import glorot_uniform\n",
        "from tensorflow.keras.utils import to_categorical\n",
        "from tensorflow.keras.models import model_from_json\n",
        "import pydot\n",
        "from matplotlib.pyplot import imshow\n",
        "import scipy.misc\n",
        "import os \n",
        "import glob\n",
        "import gc\n",
        "import numpy as np\n",
        "import pandas as pd\n",
        "from joblib import Parallel, delayed\n",
        "import matplotlib.pyplot as plt\n",
        "import sklearn.metrics as metrics\n",
        "import os\n",
        "import zipfile\n",
        "from google.colab import drive\n",
        "import seaborn as sns\n",
        "from time import time\n",
        "print(\"tensorflow version:\",tf.__version__)"
      ],
      "execution_count": 0,
      "outputs": [
        {
          "output_type": "stream",
          "text": [
            "tensorflow version: 2.2.0-rc2\n"
          ],
          "name": "stdout"
        }
      ]
    },
    {
      "cell_type": "markdown",
      "metadata": {
        "id": "FAQDH4qQ8bQ6",
        "colab_type": "text"
      },
      "source": [
        "# **Step 2: Mount Google Drive and load the data**"
      ]
    },
    {
      "cell_type": "code",
      "metadata": {
        "id": "hZ0C6SbaMpYZ",
        "colab_type": "code",
        "outputId": "81b4ddf1-e4af-4706-c66d-99b08ecc106f",
        "colab": {
          "base_uri": "https://localhost:8080/",
          "height": 120
        }
      },
      "source": [
        "drive.mount('/content/drive/', force_remount=True)\n",
        "\n",
        "zip_ref = zipfile.ZipFile(\"/content/drive/My Drive/imagenette_6class.zip\", 'r')\n",
        "zip_ref.extractall(\"/tmp\")\n",
        "zip_ref.close()"
      ],
      "execution_count": 0,
      "outputs": [
        {
          "output_type": "stream",
          "text": [
            "Go to this URL in a browser: https://accounts.google.com/o/oauth2/auth?client_id=947318989803-6bn6qk8qdgf4n4g3pfee6491hc0brc4i.apps.googleusercontent.com&redirect_uri=urn%3aietf%3awg%3aoauth%3a2.0%3aoob&response_type=code&scope=email%20https%3a%2f%2fwww.googleapis.com%2fauth%2fdocs.test%20https%3a%2f%2fwww.googleapis.com%2fauth%2fdrive%20https%3a%2f%2fwww.googleapis.com%2fauth%2fdrive.photos.readonly%20https%3a%2f%2fwww.googleapis.com%2fauth%2fpeopleapi.readonly\n",
            "\n",
            "Enter your authorization code:\n",
            "··········\n",
            "Mounted at /content/drive/\n"
          ],
          "name": "stdout"
        }
      ]
    },
    {
      "cell_type": "markdown",
      "metadata": {
        "id": "42B5ohfXPs-D",
        "colab_type": "text"
      },
      "source": [
        "**Checking the availability of GPU for computing**"
      ]
    },
    {
      "cell_type": "code",
      "metadata": {
        "id": "3iuMP2lAMv2f",
        "colab_type": "code",
        "outputId": "7b9a7e54-32b6-44d6-f21a-579d33d83499",
        "colab": {
          "base_uri": "https://localhost:8080/",
          "height": 33
        }
      },
      "source": [
        "device_name = tf.test.gpu_device_name()\n",
        "if device_name != '/device:GPU:0':\n",
        "  raise SystemError('GPU device not found')\n",
        "print('Found GPU at: {}'.format(device_name))"
      ],
      "execution_count": 0,
      "outputs": [
        {
          "output_type": "stream",
          "text": [
            "Found GPU at: /device:GPU:0\n"
          ],
          "name": "stdout"
        }
      ]
    },
    {
      "cell_type": "markdown",
      "metadata": {
        "id": "ArCs0trlP0RC",
        "colab_type": "text"
      },
      "source": [
        "# **Step 3: Using ImageDataGenerator to feed the images into the neural network**"
      ]
    },
    {
      "cell_type": "code",
      "metadata": {
        "id": "VRrqiaM-M3nb",
        "colab_type": "code",
        "outputId": "5b620af8-dcb0-47cb-b530-225bfe2c8b4c",
        "colab": {
          "base_uri": "https://localhost:8080/",
          "height": 67
        }
      },
      "source": [
        "train_datagen = ImageDataGenerator(rescale=1./255)\n",
        "test_datagen = ImageDataGenerator(rescale=1./255)\n",
        "valid_datagen = ImageDataGenerator(rescale = 1./255)\n",
        "train_data = train_datagen.flow_from_directory('/tmp/train/', class_mode='categorical', target_size=(224,224), batch_size=32)\n",
        "test_data = test_datagen.flow_from_directory('/tmp/test/', class_mode='categorical', target_size=(224,224), batch_size=32,shuffle=False)\n",
        "valid_data = valid_datagen.flow_from_directory('/tmp/validation/', class_mode='categorical', target_size=(224,224), batch_size=32,shuffle=False)"
      ],
      "execution_count": 0,
      "outputs": [
        {
          "output_type": "stream",
          "text": [
            "Found 7200 images belonging to 6 classes.\n",
            "Found 300 images belonging to 6 classes.\n",
            "Found 600 images belonging to 6 classes.\n"
          ],
          "name": "stdout"
        }
      ]
    },
    {
      "cell_type": "markdown",
      "metadata": {
        "id": "Ox4DKksEQFVG",
        "colab_type": "text"
      },
      "source": [
        "**Displaying the number of classes**"
      ]
    },
    {
      "cell_type": "code",
      "metadata": {
        "id": "N_uRHHRcNRf9",
        "colab_type": "code",
        "outputId": "ce25716a-2699-4a93-cb51-aecf4eedb2dc",
        "colab": {
          "base_uri": "https://localhost:8080/",
          "height": 67
        }
      },
      "source": [
        "for data_batch, labels_batch in train_data:\n",
        "    print('Data batch:', data_batch.shape)\n",
        "    print('Labels batch:', labels_batch.shape)\n",
        "    print('Number of classes:',labels_batch.shape[1])\n",
        "    break"
      ],
      "execution_count": 0,
      "outputs": [
        {
          "output_type": "stream",
          "text": [
            "Data batch: (32, 224, 224, 3)\n",
            "Labels batch: (32, 6)\n",
            "Number of classes: 6\n"
          ],
          "name": "stdout"
        }
      ]
    },
    {
      "cell_type": "markdown",
      "metadata": {
        "id": "jIpQ0mSEQKqK",
        "colab_type": "text"
      },
      "source": [
        "**Displaying a sample image from one of the classes in Test Data**"
      ]
    },
    {
      "cell_type": "code",
      "metadata": {
        "id": "Xbs32hSsNaQp",
        "colab_type": "code",
        "outputId": "a326160e-8d94-420e-e737-1ff4da45f9d1",
        "colab": {
          "base_uri": "https://localhost:8080/",
          "height": 286
        }
      },
      "source": [
        "#Loading the image by passing image filepath\n",
        "img = load_img(\"/tmp/test/church/ILSVRC2012_val_00034021.JPEG\")\n",
        "x = img_to_array(img)  \n",
        "plt.imshow(img)\n",
        "print('This is just a sample image from the test data.')"
      ],
      "execution_count": 0,
      "outputs": [
        {
          "output_type": "stream",
          "text": [
            "This is just a sample image from the test data.\n"
          ],
          "name": "stdout"
        },
        {
          "output_type": "display_data",
          "data": {
            "image/png": "[encoded data removed]",
            "text/plain": [
              "<Figure size 432x288 with 1 Axes>"
            ]
          },
          "metadata": {
            "tags": [],
            "needs_background": "light"
          }
        }
      ]
    },
    {
      "cell_type": "markdown",
      "metadata": {
        "id": "HS2XE0edemJz",
        "colab_type": "text"
      },
      "source": [
        "# **Step 4: Design the Convolutional Neural Network model**"
      ]
    },
    {
      "cell_type": "code",
      "metadata": {
        "id": "bFuCj6g9NnLO",
        "colab_type": "code",
        "outputId": "926ee712-4d97-4280-f877-81b049063883",
        "colab": {
          "base_uri": "https://localhost:8080/",
          "height": 483
        }
      },
      "source": [
        "print('Build the CNN model')\n",
        "model =models.Sequential()\n",
        "#Block 1\n",
        "model.add(layers.Conv2D(32, kernel_size=(3, 3), dilation_rate=(1,1), padding = 'same', strides=(1,1), kernel_initializer='glorot_uniform', activation='relu', input_shape=(224, 224, 3)))\n",
        "model.add(layers.Conv2D(32, kernel_size=(3, 3), dilation_rate=(1,1), padding = 'same', strides=(1,1), kernel_initializer='glorot_uniform', activation='relu'))\n",
        "model.add(layers.MaxPooling2D(pool_size=(2, 2), strides=(2, 2)))\n",
        "#Block 2\n",
        "model.add(layers.Conv2D(64, kernel_size=(3, 3), dilation_rate=(1,1), padding = 'same', strides=(1,1), kernel_initializer='glorot_uniform', activation='relu'))\n",
        "model.add(layers.Conv2D(64, kernel_size=(3, 3), dilation_rate=(1,1), padding = 'same', strides=(1,1), kernel_initializer='glorot_uniform', activation='relu'))\n",
        "model.add(layers.MaxPooling2D(pool_size=(2, 2), strides=(2, 2)))\n",
        "#Classification block\n",
        "model.add(layers.Flatten())\n",
        "model.add(layers.Dense(512, kernel_initializer='glorot_uniform',activation='relu'))\n",
        "model.add(layers.Dense(6,activation='softmax'))\n",
        "model.summary()\n",
        "print('The CNN model is now ready for training the images. Go ahead and compile the model')"
      ],
      "execution_count": 0,
      "outputs": [
        {
          "output_type": "stream",
          "text": [
            "Build the CNN model\n",
            "Model: \"sequential\"\n",
            "_________________________________________________________________\n",
            "Layer (type)                 Output Shape              Param #   \n",
            "=================================================================\n",
            "conv2d (Conv2D)              (None, 224, 224, 32)      896       \n",
            "_________________________________________________________________\n",
            "conv2d_1 (Conv2D)            (None, 224, 224, 32)      9248      \n",
            "_________________________________________________________________\n",
            "max_pooling2d (MaxPooling2D) (None, 112, 112, 32)      0         \n",
            "_________________________________________________________________\n",
            "conv2d_2 (Conv2D)            (None, 112, 112, 64)      18496     \n",
            "_________________________________________________________________\n",
            "conv2d_3 (Conv2D)            (None, 112, 112, 64)      36928     \n",
            "_________________________________________________________________\n",
            "max_pooling2d_1 (MaxPooling2 (None, 56, 56, 64)        0         \n",
            "_________________________________________________________________\n",
            "flatten (Flatten)            (None, 200704)            0         \n",
            "_________________________________________________________________\n",
            "dense (Dense)                (None, 512)               102760960 \n",
            "_________________________________________________________________\n",
            "dense_1 (Dense)              (None, 6)                 3078      \n",
            "=================================================================\n",
            "Total params: 102,829,606\n",
            "Trainable params: 102,829,606\n",
            "Non-trainable params: 0\n",
            "_________________________________________________________________\n",
            "The CNN model is now ready for training the images. Go ahead and compile the model\n"
          ],
          "name": "stdout"
        }
      ]
    },
    {
      "cell_type": "markdown",
      "metadata": {
        "id": "2sLKZDkZe0Zn",
        "colab_type": "text"
      },
      "source": [
        "**Compile the designed CNN model**"
      ]
    },
    {
      "cell_type": "code",
      "metadata": {
        "id": "2TsGY2i7NrWj",
        "colab_type": "code",
        "outputId": "10f757b0-b1fc-48e3-ea2c-95d92e072a83",
        "colab": {
          "base_uri": "https://localhost:8080/",
          "height": 33
        }
      },
      "source": [
        "learning_rate= 1e-3  \n",
        "model.compile(loss='categorical_crossentropy',\n",
        "    optimizer=optimizers.RMSprop(lr=learning_rate),\n",
        "    metrics=['accuracy'])\n",
        "print('Model compiled')"
      ],
      "execution_count": 0,
      "outputs": [
        {
          "output_type": "stream",
          "text": [
            "Model compiled\n"
          ],
          "name": "stdout"
        }
      ]
    },
    {
      "cell_type": "code",
      "metadata": {
        "id": "MMGxgmH4OGdW",
        "colab_type": "code",
        "colab": {}
      },
      "source": [
        "callbacks_list = [\n",
        "    callbacks.ModelCheckpoint(\n",
        "        filepath = 'vgg-augment-model.h5',\n",
        "        monitor = 'val_loss',\n",
        "        save_best_only = True)\n",
        "    #callbacks.ReduceLROnPlateau(\n",
        "     #   monitor = 'val_loss',\n",
        "      #  factor = 0.1,\n",
        "       # patience = 5),\n",
        "   # callbacks.CSVLogger(\n",
        "    #    filename='vgg-baseline-model.csv',\n",
        "      #  separator = ',',\n",
        "     #   append = False)\n",
        "]"
      ],
      "execution_count": 0,
      "outputs": []
    },
    {
      "cell_type": "markdown",
      "metadata": {
        "id": "ZX_L4XeZe6Vk",
        "colab_type": "text"
      },
      "source": [
        "# **Step 5: Train the model**\n",
        "\n",
        "> Feed the training data and evaluate the model on validation data.\n",
        "\n",
        "> Choose the number of epochs and calculate the time it takes for the model to learn the data.\n",
        "\n",
        "> Augment the training data before fitting the model.\n",
        "\n",
        "\n",
        "\n",
        "\n"
      ]
    },
    {
      "cell_type": "code",
      "metadata": {
        "id": "_tGC4LqjOkBO",
        "colab_type": "code",
        "outputId": "f0102a3c-23da-45e1-b486-40e092a8fe93",
        "colab": {
          "base_uri": "https://localhost:8080/",
          "height": 50
        }
      },
      "source": [
        "augment_data = ImageDataGenerator(\n",
        "    rescale=1./255,\n",
        "    rotation_range=40,\n",
        "    width_shift_range=0.2,\n",
        "    height_shift_range=0.2,\n",
        "    shear_range=0.2,\n",
        "    zoom_range=0.2,\n",
        "    horizontal_flip=True\n",
        ")\n",
        "training_dir = '/tmp/train/'\n",
        "testing_dir = '/tmp/test/'\n",
        "validation_dir = '/tmp/validation/'\n",
        "augmented_train_data = augment_data.flow_from_directory(\n",
        "    training_dir,\n",
        "    target_size = (224,224),\n",
        "    batch_size = 32,\n",
        "    class_mode = 'categorical')\n",
        "print('Training data has been augmented!!')"
      ],
      "execution_count": 0,
      "outputs": [
        {
          "output_type": "stream",
          "text": [
            "Found 7200 images belonging to 6 classes.\n",
            "Training data has been augmented!!\n"
          ],
          "name": "stdout"
        }
      ]
    },
    {
      "cell_type": "code",
      "metadata": {
        "id": "C3z-LlejNv6N",
        "colab_type": "code",
        "outputId": "1abafe9b-0c86-4473-f9f3-218e2d587985",
        "colab": {
          "base_uri": "https://localhost:8080/",
          "height": 1000
        }
      },
      "source": [
        "print('Fit the model...')\n",
        "t0 = time() #timing counter starts\n",
        "print('The model has started learning...')\n",
        "nepochs=30\n",
        "print('The model will be trained on',nepochs,'epochs')\n",
        "batch_size=32\n",
        "history=model.fit(augmented_train_data, #Learning process starts\n",
        "                  steps_per_epoch=7200//batch_size,\n",
        "                  epochs=nepochs,\n",
        "                  validation_data=valid_data,\n",
        "                  validation_steps=600//batch_size,\n",
        "                  callbacks=callbacks_list)\n",
        "print('Fit model took', int(time() - t0),'s') #time is calculated with the help of counter"
      ],
      "execution_count": 0,
      "outputs": [
        {
          "output_type": "stream",
          "text": [
            "Fit the model...\n",
            "The model has started learning...\n",
            "The model will be trained on 30 epochs\n",
            "Epoch 1/30\n",
            "225/225 [==============================] - 106s 472ms/step - loss: 2.1913 - accuracy: 0.3450 - val_loss: 1.3789 - val_accuracy: 0.4722\n",
            "Epoch 2/30\n",
            "225/225 [==============================] - 106s 472ms/step - loss: 1.3298 - accuracy: 0.5096 - val_loss: 1.1164 - val_accuracy: 0.5851\n",
            "Epoch 3/30\n",
            "225/225 [==============================] - 106s 472ms/step - loss: 1.1635 - accuracy: 0.5807 - val_loss: 0.9232 - val_accuracy: 0.6719\n",
            "Epoch 4/30\n",
            "225/225 [==============================] - 107s 474ms/step - loss: 1.0499 - accuracy: 0.6219 - val_loss: 0.8402 - val_accuracy: 0.7083\n",
            "Epoch 5/30\n",
            "225/225 [==============================] - 104s 461ms/step - loss: 0.9561 - accuracy: 0.6610 - val_loss: 0.8846 - val_accuracy: 0.6892\n",
            "Epoch 6/30\n",
            "225/225 [==============================] - 104s 460ms/step - loss: 0.9089 - accuracy: 0.6829 - val_loss: 1.3141 - val_accuracy: 0.5521\n",
            "Epoch 7/30\n",
            "225/225 [==============================] - 104s 460ms/step - loss: 0.8749 - accuracy: 0.6993 - val_loss: 1.0580 - val_accuracy: 0.6510\n",
            "Epoch 8/30\n",
            "225/225 [==============================] - 106s 472ms/step - loss: 0.8445 - accuracy: 0.7072 - val_loss: 0.7332 - val_accuracy: 0.7361\n",
            "Epoch 9/30\n",
            "225/225 [==============================] - 104s 461ms/step - loss: 0.8188 - accuracy: 0.7167 - val_loss: 0.7635 - val_accuracy: 0.7344\n",
            "Epoch 10/30\n",
            "225/225 [==============================] - 106s 473ms/step - loss: 0.8206 - accuracy: 0.7188 - val_loss: 0.6605 - val_accuracy: 0.7691\n",
            "Epoch 11/30\n",
            "225/225 [==============================] - 107s 474ms/step - loss: 0.8108 - accuracy: 0.7243 - val_loss: 0.6242 - val_accuracy: 0.7899\n",
            "Epoch 12/30\n",
            "225/225 [==============================] - 107s 474ms/step - loss: 0.7968 - accuracy: 0.7251 - val_loss: 0.6080 - val_accuracy: 0.8160\n",
            "Epoch 13/30\n",
            "225/225 [==============================] - 103s 459ms/step - loss: 0.7599 - accuracy: 0.7382 - val_loss: 0.7019 - val_accuracy: 0.7830\n",
            "Epoch 14/30\n",
            "225/225 [==============================] - 104s 461ms/step - loss: 0.8054 - accuracy: 0.7410 - val_loss: 0.7461 - val_accuracy: 0.7674\n",
            "Epoch 15/30\n",
            "225/225 [==============================] - 104s 461ms/step - loss: 0.7582 - accuracy: 0.7396 - val_loss: 0.7985 - val_accuracy: 0.7378\n",
            "Epoch 16/30\n",
            "225/225 [==============================] - 103s 459ms/step - loss: 0.7630 - accuracy: 0.7483 - val_loss: 0.7047 - val_accuracy: 0.7865\n",
            "Epoch 17/30\n",
            "225/225 [==============================] - 106s 471ms/step - loss: 0.7492 - accuracy: 0.7507 - val_loss: 0.5868 - val_accuracy: 0.7847\n",
            "Epoch 18/30\n",
            "225/225 [==============================] - 103s 456ms/step - loss: 0.7608 - accuracy: 0.7472 - val_loss: 0.6483 - val_accuracy: 0.7743\n",
            "Epoch 19/30\n",
            "225/225 [==============================] - 103s 459ms/step - loss: 0.7491 - accuracy: 0.7456 - val_loss: 0.7464 - val_accuracy: 0.7743\n",
            "Epoch 20/30\n",
            "225/225 [==============================] - 104s 460ms/step - loss: 0.7610 - accuracy: 0.7483 - val_loss: 0.6998 - val_accuracy: 0.7622\n",
            "Epoch 21/30\n",
            "225/225 [==============================] - 103s 458ms/step - loss: 0.7495 - accuracy: 0.7485 - val_loss: 0.7051 - val_accuracy: 0.7587\n",
            "Epoch 22/30\n",
            "225/225 [==============================] - 103s 457ms/step - loss: 0.7595 - accuracy: 0.7531 - val_loss: 0.7360 - val_accuracy: 0.7639\n",
            "Epoch 23/30\n",
            "225/225 [==============================] - 103s 459ms/step - loss: 0.7742 - accuracy: 0.7454 - val_loss: 0.9269 - val_accuracy: 0.7188\n",
            "Epoch 24/30\n",
            "225/225 [==============================] - 103s 456ms/step - loss: 0.7575 - accuracy: 0.7499 - val_loss: 0.8616 - val_accuracy: 0.7031\n",
            "Epoch 25/30\n",
            "225/225 [==============================] - 102s 455ms/step - loss: 0.7596 - accuracy: 0.7500 - val_loss: 1.2012 - val_accuracy: 0.6545\n",
            "Epoch 26/30\n",
            "225/225 [==============================] - 103s 457ms/step - loss: 0.7474 - accuracy: 0.7540 - val_loss: 0.9710 - val_accuracy: 0.6997\n",
            "Epoch 27/30\n",
            "225/225 [==============================] - 102s 455ms/step - loss: 0.7855 - accuracy: 0.7462 - val_loss: 0.9988 - val_accuracy: 0.7378\n",
            "Epoch 28/30\n",
            "225/225 [==============================] - 101s 450ms/step - loss: 0.9708 - accuracy: 0.7429 - val_loss: 0.9542 - val_accuracy: 0.7500\n",
            "Epoch 29/30\n",
            "225/225 [==============================] - 101s 449ms/step - loss: 0.8009 - accuracy: 0.7479 - val_loss: 0.7270 - val_accuracy: 0.7674\n",
            "Epoch 30/30\n",
            "225/225 [==============================] - 100s 444ms/step - loss: 0.8105 - accuracy: 0.7435 - val_loss: 1.0345 - val_accuracy: 0.7483\n",
            "Fit model took 3131 s\n"
          ],
          "name": "stdout"
        }
      ]
    },
    {
      "cell_type": "markdown",
      "metadata": {
        "id": "ROF2LTUMfqWL",
        "colab_type": "text"
      },
      "source": [
        "# **Step 6: Evaluate the model**\n",
        "\n",
        "> Plot the learning curves.\n",
        "\n",
        "> Produce a classification report that explains the performance of the model.\n",
        "\n",
        "\n",
        "\n"
      ]
    },
    {
      "cell_type": "code",
      "metadata": {
        "id": "e3eW73Z3fuS3",
        "colab_type": "code",
        "outputId": "e25797ab-7a75-436b-e341-c7ae19ab3616",
        "colab": {
          "base_uri": "https://localhost:8080/",
          "height": 573
        }
      },
      "source": [
        "plt.plot(history.history['accuracy'])\n",
        "plt.plot(history.history['val_accuracy'])\n",
        "plt.title('Training and validation accuracy')\n",
        "plt.ylabel('accuracy')\n",
        "plt.xlabel('epoch')\n",
        "plt.legend(['train', 'validation'], loc='upper left')\n",
        "# save image to disk\n",
        "plt.savefig('VGG-With Augmentation Accuracy', dpi=250)\n",
        "plt.show()\n",
        "\n",
        "# summarize history for loss\n",
        "plt.plot(history.history['loss'])\n",
        "plt.plot(history.history['val_loss'])\n",
        "plt.title('Training and validation loss')\n",
        "plt.ylabel('loss')\n",
        "plt.xlabel('epoch')\n",
        "plt.legend(['train', 'validation'], loc='upper left')\n",
        "# save image to disk\n",
        "plt.savefig('VGG-With Augmentation Loss', dpi=250)\n",
        "plt.show()"
      ],
      "execution_count": 0,
      "outputs": [
        {
          "output_type": "display_data",
          "data": {
            "image/png": "[encoded data removed]",
            "text/plain": [
              "<Figure size 432x288 with 1 Axes>"
            ]
          },
          "metadata": {
            "tags": [],
            "needs_background": "light"
          }
        },
        {
          "output_type": "display_data",
          "data": {
            "image/png": "[encoded data removed]",
            "text/plain": [
              "<Figure size 432x288 with 1 Axes>"
            ]
          },
          "metadata": {
            "tags": [],
            "needs_background": "light"
          }
        }
      ]
    },
    {
      "cell_type": "markdown",
      "metadata": {
        "id": "cmenGP_vgUbh",
        "colab_type": "text"
      },
      "source": [
        "**Evaluating the model.**"
      ]
    },
    {
      "cell_type": "code",
      "metadata": {
        "id": "VmvM18L_gYef",
        "colab_type": "code",
        "outputId": "7129c1c9-334f-4542-e0b6-07724cd79b56",
        "colab": {
          "base_uri": "https://localhost:8080/",
          "height": 33
        }
      },
      "source": [
        "validation_datagen = ImageDataGenerator(rescale = 1./255)\n",
        "evaluate_datagen = validation_datagen.flow_from_directory(validation_dir, class_mode='categorical', target_size=(224,224), batch_size=1,shuffle=False)"
      ],
      "execution_count": 0,
      "outputs": [
        {
          "output_type": "stream",
          "text": [
            "Found 600 images belonging to 6 classes.\n"
          ],
          "name": "stdout"
        }
      ]
    },
    {
      "cell_type": "code",
      "metadata": {
        "id": "7ZPdsb9XguDx",
        "colab_type": "code",
        "outputId": "080f2e14-92c0-462a-ff94-52a1974dd840",
        "colab": {
          "base_uri": "https://localhost:8080/",
          "height": 67
        }
      },
      "source": [
        "print('Evaluating the model')\n",
        "t0 = time()\n",
        "evaluate_datagen.reset()\n",
        "val_predict = model.predict(\n",
        "    evaluate_datagen,\n",
        "    steps = 600,\n",
        "    verbose = 1)\n",
        "print('Time taken to evaluate the model:',int(time()-t0),'seconds')"
      ],
      "execution_count": 0,
      "outputs": [
        {
          "output_type": "stream",
          "text": [
            "Evaluating the model\n",
            "600/600 [==============================] - 3s 5ms/step\n",
            "Time taken to evaluate the model: 3 seconds\n"
          ],
          "name": "stdout"
        }
      ]
    },
    {
      "cell_type": "code",
      "metadata": {
        "id": "SOsDampKjtu3",
        "colab_type": "code",
        "outputId": "fc8c1136-ba4d-453f-dab0-fc832ff751b7",
        "colab": {
          "base_uri": "https://localhost:8080/",
          "height": 33
        }
      },
      "source": [
        "validation_samples = val_predict.shape[0]\n",
        "print('Number of data points in validation set:',validation_samples)"
      ],
      "execution_count": 0,
      "outputs": [
        {
          "output_type": "stream",
          "text": [
            "Number of data points in validation set: 600\n"
          ],
          "name": "stdout"
        }
      ]
    },
    {
      "cell_type": "code",
      "metadata": {
        "id": "5kTPDVitkHXx",
        "colab_type": "code",
        "colab": {}
      },
      "source": [
        "val_predicted_classes = np.argmax(val_predict, axis = 1)\n",
        "val_true_classes = evaluate_datagen.classes\n",
        "val_class_labels = list(evaluate_datagen.class_indices.keys())"
      ],
      "execution_count": 0,
      "outputs": []
    },
    {
      "cell_type": "markdown",
      "metadata": {
        "id": "4dDFPKnvl61e",
        "colab_type": "text"
      },
      "source": [
        "**Validation Data Classification Report**"
      ]
    },
    {
      "cell_type": "code",
      "metadata": {
        "id": "Li_p2vcckNTR",
        "colab_type": "code",
        "outputId": "6c5b679d-f98b-49c7-eb80-6efff9a67379",
        "colab": {
          "base_uri": "https://localhost:8080/",
          "height": 250
        }
      },
      "source": [
        "validation_report = metrics.classification_report(val_true_classes, val_predicted_classes, target_names=val_class_labels)\n",
        "print('The validation report is as follows:')\n",
        "print(validation_report)"
      ],
      "execution_count": 0,
      "outputs": [
        {
          "output_type": "stream",
          "text": [
            "The validation report is as follows:\n",
            "                  precision    recall  f1-score   support\n",
            "\n",
            "English_springer       0.82      0.81      0.81       100\n",
            "          church       0.51      0.93      0.65       100\n",
            "   garbage_truck       0.89      0.54      0.67       100\n",
            "        gas_pump       0.74      0.63      0.68       100\n",
            "       parachute       0.92      0.84      0.88       100\n",
            "           tench       0.91      0.73      0.81       100\n",
            "\n",
            "        accuracy                           0.75       600\n",
            "       macro avg       0.80      0.75      0.75       600\n",
            "    weighted avg       0.80      0.75      0.75       600\n",
            "\n"
          ],
          "name": "stdout"
        }
      ]
    },
    {
      "cell_type": "code",
      "metadata": {
        "id": "dzlBJFEskaNN",
        "colab_type": "code",
        "colab": {}
      },
      "source": [
        "val_conf_matrix = tf.math.confusion_matrix(labels=val_true_classes, predictions=val_predicted_classes).numpy()"
      ],
      "execution_count": 0,
      "outputs": []
    },
    {
      "cell_type": "code",
      "metadata": {
        "id": "QD-C6hf0kpv2",
        "colab_type": "code",
        "outputId": "96ce97cf-94ee-4ce8-9b3a-126bda4b9c12",
        "colab": {
          "base_uri": "https://localhost:8080/",
          "height": 311
        }
      },
      "source": [
        "import seaborn as sns\n",
        "figure1 = plt.figure()\n",
        "sns.heatmap(val_conf_matrix, annot = True, cmap=plt.cm.Greens)\n",
        "plt.tight_layout()\n",
        "plt.ylabel('True Label')\n",
        "plt.xlabel('Predicted label')\n",
        "plt.savefig('Validation data Confusion Matrix_v3', dpi=250)\n",
        "plt.show()"
      ],
      "execution_count": 0,
      "outputs": [
        {
          "output_type": "display_data",
          "data": {
            "image/png": "[encoded data removed]",
            "text/plain": [
              "<Figure size 432x288 with 2 Axes>"
            ]
          },
          "metadata": {
            "tags": [],
            "needs_background": "light"
          }
        }
      ]
    },
    {
      "cell_type": "markdown",
      "metadata": {
        "id": "Pf92yNTPmagq",
        "colab_type": "text"
      },
      "source": [
        "# **Step 7: Performance measurement on Test data**"
      ]
    },
    {
      "cell_type": "code",
      "metadata": {
        "id": "TOROpYvrlfKG",
        "colab_type": "code",
        "outputId": "c7be130f-a035-45a5-8356-ff558bb1f0b0",
        "colab": {
          "base_uri": "https://localhost:8080/",
          "height": 33
        }
      },
      "source": [
        "testing_datagen = ImageDataGenerator(rescale = 1./255)\n",
        "test_data_datagen = testing_datagen.flow_from_directory(testing_dir, class_mode='categorical', target_size=(224,224), batch_size=1,shuffle=False)"
      ],
      "execution_count": 0,
      "outputs": [
        {
          "output_type": "stream",
          "text": [
            "Found 300 images belonging to 6 classes.\n"
          ],
          "name": "stdout"
        }
      ]
    },
    {
      "cell_type": "code",
      "metadata": {
        "id": "7LsvsAjInBAN",
        "colab_type": "code",
        "outputId": "1cb1cf08-61a0-4a19-e5b4-db0c5f33ce63",
        "colab": {
          "base_uri": "https://localhost:8080/",
          "height": 50
        }
      },
      "source": [
        "print('Testing the model')\n",
        "final_result = model.evaluate(\n",
        "    test_data_datagen,\n",
        "    steps = 300)"
      ],
      "execution_count": 0,
      "outputs": [
        {
          "output_type": "stream",
          "text": [
            "Testing the model\n",
            "300/300 [==============================] - 2s 5ms/step - loss: 0.7873 - accuracy: 0.8167\n"
          ],
          "name": "stdout"
        }
      ]
    },
    {
      "cell_type": "code",
      "metadata": {
        "id": "IPBSFefpnlZ7",
        "colab_type": "code",
        "outputId": "9cd3914f-8871-4342-c1d8-8eca543c3058",
        "colab": {
          "base_uri": "https://localhost:8080/",
          "height": 33
        }
      },
      "source": [
        "test_data_datagen.reset()\n",
        "predict_on_test_data = model.predict(\n",
        "    test_data_datagen,\n",
        "    steps = 300,\n",
        "    verbose = 1\n",
        ")"
      ],
      "execution_count": 0,
      "outputs": [
        {
          "output_type": "stream",
          "text": [
            "300/300 [==============================] - 1s 5ms/step\n"
          ],
          "name": "stdout"
        }
      ]
    },
    {
      "cell_type": "code",
      "metadata": {
        "id": "q92LM-biozxE",
        "colab_type": "code",
        "outputId": "3b6fb25a-d80a-4d6b-a953-7bf00e78420a",
        "colab": {
          "base_uri": "https://localhost:8080/",
          "height": 33
        }
      },
      "source": [
        "print('Number of data points in test set:',predict_on_test_data.shape[0])"
      ],
      "execution_count": 0,
      "outputs": [
        {
          "output_type": "stream",
          "text": [
            "Number of data points in test set: 300\n"
          ],
          "name": "stdout"
        }
      ]
    },
    {
      "cell_type": "code",
      "metadata": {
        "id": "EtL3lZUepX9N",
        "colab_type": "code",
        "colab": {}
      },
      "source": [
        "predicted_classes = np.argmax(predict_on_test_data,axis=1)\n",
        "predict_true_classes = test_data_datagen.classes\n",
        "predict_class_labels = list(test_data_datagen.class_indices.keys())"
      ],
      "execution_count": 0,
      "outputs": []
    },
    {
      "cell_type": "code",
      "metadata": {
        "id": "qvHwlp46p7Tf",
        "colab_type": "code",
        "outputId": "37391112-c635-4c4a-b036-f98b03ab2352",
        "colab": {
          "base_uri": "https://localhost:8080/",
          "height": 233
        }
      },
      "source": [
        "test_report = metrics.classification_report(predict_true_classes, predicted_classes, target_names = predict_class_labels)\n",
        "print(test_report)"
      ],
      "execution_count": 0,
      "outputs": [
        {
          "output_type": "stream",
          "text": [
            "                  precision    recall  f1-score   support\n",
            "\n",
            "English_springer       0.83      0.90      0.87        50\n",
            "          church       0.61      0.86      0.72        50\n",
            "   garbage_truck       0.92      0.70      0.80        50\n",
            "        gas_pump       0.83      0.76      0.79        50\n",
            "       parachute       0.88      0.88      0.88        50\n",
            "           tench       0.95      0.80      0.87        50\n",
            "\n",
            "        accuracy                           0.82       300\n",
            "       macro avg       0.84      0.82      0.82       300\n",
            "    weighted avg       0.84      0.82      0.82       300\n",
            "\n"
          ],
          "name": "stdout"
        }
      ]
    },
    {
      "cell_type": "code",
      "metadata": {
        "id": "hrWpSzHbroQ6",
        "colab_type": "code",
        "colab": {}
      },
      "source": [
        "test_confusion_matrix = tf.math.confusion_matrix(labels=predict_true_classes,predictions = predicted_classes).numpy()"
      ],
      "execution_count": 0,
      "outputs": []
    },
    {
      "cell_type": "code",
      "metadata": {
        "id": "W8TNTo-Tr9NG",
        "colab_type": "code",
        "outputId": "9012c599-ec2f-4f10-ae3f-95eb4f68f42b",
        "colab": {
          "base_uri": "https://localhost:8080/",
          "height": 311
        }
      },
      "source": [
        "figure1 = plt.figure()\n",
        "sns.heatmap(test_confusion_matrix, annot = True, cmap=plt.cm.Greens)\n",
        "plt.tight_layout()\n",
        "plt.ylabel('True Label')\n",
        "plt.xlabel('Predicted label')\n",
        "plt.savefig('Test data Confusion Matrix_v3', dpi=250)\n",
        "plt.show()"
      ],
      "execution_count": 0,
      "outputs": [
        {
          "output_type": "display_data",
          "data": {
            "image/png": "[encoded data removed]",
            "text/plain": [
              "<Figure size 432x288 with 2 Axes>"
            ]
          },
          "metadata": {
            "tags": [],
            "needs_background": "light"
          }
        }
      ]
    },
    {
      "cell_type": "markdown",
      "metadata": {
        "id": "UEthKiRDxvSg",
        "colab_type": "text"
      },
      "source": [
        "# **Step 8: Save and load the model**"
      ]
    },
    {
      "cell_type": "code",
      "metadata": {
        "id": "Olo9uAKZsP4a",
        "colab_type": "code",
        "outputId": "6332a32f-a888-4700-f7b6-d0d6b5892151",
        "colab": {
          "base_uri": "https://localhost:8080/",
          "height": 33
        }
      },
      "source": [
        "model_json = model.to_json()\n",
        "with open(\"model.json\",\"w\") as json_file:\n",
        "  json_file.write(model_json)\n",
        "  #serializing the weights to HDF5\n",
        "model.save('VGG-CNN-Augmentation-Model.h5')\n",
        "print('Model saved to the disk')"
      ],
      "execution_count": 0,
      "outputs": [
        {
          "output_type": "stream",
          "text": [
            "Model saved to the disk\n"
          ],
          "name": "stdout"
        }
      ]
    },
    {
      "cell_type": "code",
      "metadata": {
        "id": "tfwX42YnsXnO",
        "colab_type": "code",
        "outputId": "cd48121e-f423-4948-dba6-b5ae516e60c0",
        "colab": {
          "base_uri": "https://localhost:8080/",
          "height": 33
        }
      },
      "source": [
        "json_file = open('model.json','r')\n",
        "loaded_json_model = json_file.read()\n",
        "json_file.close()\n",
        "loaded_model=model_from_json(loaded_json_model)\n",
        "loaded_model.load_weights(\"VGG-CNN-Augmentation-Model.h5\")\n",
        "print(\"Loaded the model from disk\")"
      ],
      "execution_count": 0,
      "outputs": [
        {
          "output_type": "stream",
          "text": [
            "Loaded the model from disk\n"
          ],
          "name": "stdout"
        }
      ]
    },
    {
      "cell_type": "markdown",
      "metadata": {
        "id": "djsGxNwjlx9-",
        "colab_type": "text"
      },
      "source": [
        "# **Author: Japesh Methuku**"
      ]
    }
  ]
}
{
  "nbformat": 4,
  "nbformat_minor": 0,
  "metadata": {
    "colab": {
      "name": "CNN_1a.ipynb",
      "provenance": [],
      "collapsed_sections": [],
      "authorship_tag": "ABX9TyOGEuKvHkwTse9Dh7xnZS1F",
      "include_colab_link": true
    },
    "kernelspec": {
      "name": "python3",
      "display_name": "Python 3"
    },
    "accelerator": "GPU"
  },
  "cells": [
    {
      "cell_type": "markdown",
      "metadata": {
        "id": "view-in-github",
        "colab_type": "text"
      },
      "source": [
        "<a href=\"https://colab.research.google.com/github/japeshmethuku17/imagenette_6class/blob/master/CNN_1a.ipynb\" target=\"_parent\"><img src=\"https://colab.research.google.com/assets/colab-badge.svg\" alt=\"Open In Colab\"/></a>"
      ]
    },
    {
      "cell_type": "markdown",
      "metadata": {
        "id": "kE6VJZBiKfNb",
        "colab_type": "text"
      },
      "source": [
        "## **Development of a VGG-Baseline Convolutional Neural Network Model to classify images from Imagenette_6class dataset.**\n",
        "\n",
        "\n",
        "\n"
      ]
    },
    {
      "cell_type": "markdown",
      "metadata": {
        "id": "Vk1NOGck8mbo",
        "colab_type": "text"
      },
      "source": [
        "# **Step 1: Import the required libraries**"
      ]
    },
    {
      "cell_type": "code",
      "metadata": {
        "id": "zO81wA3gKVj6",
        "colab_type": "code",
        "outputId": "6cc91e26-b447-4f77-81ae-5da5df317ce1",
        "colab": {
          "base_uri": "https://localhost:8080/",
          "height": 33
        }
      },
      "source": [
        "import tensorflow as tf\n",
        "from tensorflow import keras\n",
        "from sklearn.model_selection import train_test_split\n",
        "from tensorflow.keras import utils\n",
        "from tensorflow.keras import datasets, layers, models, callbacks\n",
        "from tensorflow.keras.layers import Conv2D, MaxPooling2D, Dense, Dropout, Flatten, Activation, BatchNormalization\n",
        "from tensorflow.keras.preprocessing.image import ImageDataGenerator, img_to_array, load_img\n",
        "from tensorflow.keras import optimizers\n",
        "from tensorflow.python.keras.models import Sequential, Model, load_model\n",
        "from tensorflow.keras.callbacks import TensorBoard, ReduceLROnPlateau, ModelCheckpoint, EarlyStopping, CSVLogger\n",
        "from tensorflow.keras.layers import Input, Add, AveragePooling2D, GlobalMaxPooling2D\n",
        "from tensorflow.keras.initializers import glorot_uniform\n",
        "from tensorflow.keras.utils import to_categorical\n",
        "from tensorflow.keras.models import model_from_json\n",
        "import pydot\n",
        "from matplotlib.pyplot import imshow\n",
        "import scipy.misc\n",
        "import os \n",
        "import glob\n",
        "import gc\n",
        "import numpy as np\n",
        "import pandas as pd\n",
        "from joblib import Parallel, delayed\n",
        "import matplotlib.pyplot as plt\n",
        "import sklearn.metrics as metrics\n",
        "import os\n",
        "import zipfile\n",
        "from google.colab import drive\n",
        "import seaborn as sns\n",
        "from time import time\n",
        "print(\"tensorflow version:\",tf.__version__)"
      ],
      "execution_count": 0,
      "outputs": [
        {
          "output_type": "stream",
          "text": [
            "tensorflow version: 2.2.0-rc2\n"
          ],
          "name": "stdout"
        }
      ]
    },
    {
      "cell_type": "markdown",
      "metadata": {
        "id": "FAQDH4qQ8bQ6",
        "colab_type": "text"
      },
      "source": [
        "# **Step 2: Mount Google Drive and load the data**"
      ]
    },
    {
      "cell_type": "code",
      "metadata": {
        "id": "hZ0C6SbaMpYZ",
        "colab_type": "code",
        "outputId": "253762f1-1517-4c88-cde2-4ce2c0e3765b",
        "colab": {
          "base_uri": "https://localhost:8080/",
          "height": 120
        }
      },
      "source": [
        "drive.mount('/content/drive/', force_remount=True)\n",
        "\n",
        "zip_ref = zipfile.ZipFile(\"/content/drive/My Drive/imagenette_6class.zip\", 'r')\n",
        "zip_ref.extractall(\"/tmp\")\n",
        "zip_ref.close()"
      ],
      "execution_count": 0,
      "outputs": [
        {
          "output_type": "stream",
          "text": [
            "Go to this URL in a browser: https://accounts.google.com/o/oauth2/auth?client_id=947318989803-6bn6qk8qdgf4n4g3pfee6491hc0brc4i.apps.googleusercontent.com&redirect_uri=urn%3aietf%3awg%3aoauth%3a2.0%3aoob&response_type=code&scope=email%20https%3a%2f%2fwww.googleapis.com%2fauth%2fdocs.test%20https%3a%2f%2fwww.googleapis.com%2fauth%2fdrive%20https%3a%2f%2fwww.googleapis.com%2fauth%2fdrive.photos.readonly%20https%3a%2f%2fwww.googleapis.com%2fauth%2fpeopleapi.readonly\n",
            "\n",
            "Enter your authorization code:\n",
            "··········\n",
            "Mounted at /content/drive/\n"
          ],
          "name": "stdout"
        }
      ]
    },
    {
      "cell_type": "markdown",
      "metadata": {
        "id": "42B5ohfXPs-D",
        "colab_type": "text"
      },
      "source": [
        "**Checking the availability of GPU for computing**"
      ]
    },
    {
      "cell_type": "code",
      "metadata": {
        "id": "3iuMP2lAMv2f",
        "colab_type": "code",
        "outputId": "32a9bf8a-5e7c-4c37-9cbf-efb3a10e10d9",
        "colab": {
          "base_uri": "https://localhost:8080/",
          "height": 33
        }
      },
      "source": [
        "device_name = tf.test.gpu_device_name()\n",
        "if device_name != '/device:GPU:0':\n",
        "  raise SystemError('GPU device not found')\n",
        "print('Found GPU at: {}'.format(device_name))"
      ],
      "execution_count": 0,
      "outputs": [
        {
          "output_type": "stream",
          "text": [
            "Found GPU at: /device:GPU:0\n"
          ],
          "name": "stdout"
        }
      ]
    },
    {
      "cell_type": "markdown",
      "metadata": {
        "id": "ArCs0trlP0RC",
        "colab_type": "text"
      },
      "source": [
        "# **Step 3: Using ImageDataGenerator to feed the images into the neural network**"
      ]
    },
    {
      "cell_type": "code",
      "metadata": {
        "id": "VRrqiaM-M3nb",
        "colab_type": "code",
        "outputId": "d9553252-467b-45e4-a7f3-d0d0fda69373",
        "colab": {
          "base_uri": "https://localhost:8080/",
          "height": 67
        }
      },
      "source": [
        "train_datagen = ImageDataGenerator(rescale=1./255)\n",
        "test_datagen = ImageDataGenerator(rescale=1./255)\n",
        "valid_datagen = ImageDataGenerator(rescale = 1./255)\n",
        "train_data = train_datagen.flow_from_directory('/tmp/train/', class_mode='categorical', target_size=(224,224), batch_size=32)\n",
        "test_data = test_datagen.flow_from_directory('/tmp/test/', class_mode='categorical', target_size=(224,224), batch_size=32,shuffle=False)\n",
        "valid_data = valid_datagen.flow_from_directory('/tmp/validation/', class_mode='categorical', target_size=(224,224), batch_size=32,shuffle=False)"
      ],
      "execution_count": 0,
      "outputs": [
        {
          "output_type": "stream",
          "text": [
            "Found 7200 images belonging to 6 classes.\n",
            "Found 300 images belonging to 6 classes.\n",
            "Found 600 images belonging to 6 classes.\n"
          ],
          "name": "stdout"
        }
      ]
    },
    {
      "cell_type": "markdown",
      "metadata": {
        "id": "Ox4DKksEQFVG",
        "colab_type": "text"
      },
      "source": [
        "**Displaying the number of classes**"
      ]
    },
    {
      "cell_type": "code",
      "metadata": {
        "id": "N_uRHHRcNRf9",
        "colab_type": "code",
        "outputId": "ecb68bef-c2e3-4009-9eaf-7843f57c433f",
        "colab": {
          "base_uri": "https://localhost:8080/",
          "height": 67
        }
      },
      "source": [
        "for data_batch, labels_batch in train_data:\n",
        "    print('Data batch:', data_batch.shape)\n",
        "    print('Labels batch:', labels_batch.shape)\n",
        "    print('Number of classes:',labels_batch.shape[1])\n",
        "    break"
      ],
      "execution_count": 0,
      "outputs": [
        {
          "output_type": "stream",
          "text": [
            "Data batch: (32, 224, 224, 3)\n",
            "Labels batch: (32, 6)\n",
            "Number of classes: 6\n"
          ],
          "name": "stdout"
        }
      ]
    },
    {
      "cell_type": "markdown",
      "metadata": {
        "id": "jIpQ0mSEQKqK",
        "colab_type": "text"
      },
      "source": [
        "**Displaying a sample image from one of the classes in Test Data**"
      ]
    },
    {
      "cell_type": "code",
      "metadata": {
        "id": "Xbs32hSsNaQp",
        "colab_type": "code",
        "outputId": "35c0f476-4c5e-4f66-fa7e-7a4a36684cf2",
        "colab": {
          "base_uri": "https://localhost:8080/",
          "height": 286
        }
      },
      "source": [
        "#Loading the image by passing image filepath\n",
        "img = load_img(\"/tmp/test/church/ILSVRC2012_val_00034021.JPEG\")\n",
        "x = img_to_array(img)  \n",
        "plt.imshow(img)\n",
        "print('This is just a sample image from the test data.')"
      ],
      "execution_count": 0,
      "outputs": [
        {
          "output_type": "stream",
          "text": [
            "This is just a sample image from the test data.\n"
          ],
          "name": "stdout"
        },
        {
          "output_type": "display_data",
          "data": {
            "image/png": "[encoded data removed]",
            "text/plain": [
              "<Figure size 432x288 with 1 Axes>"
            ]
          },
          "metadata": {
            "tags": [],
            "needs_background": "light"
          }
        }
      ]
    },
    {
      "cell_type": "markdown",
      "metadata": {
        "id": "HS2XE0edemJz",
        "colab_type": "text"
      },
      "source": [
        "# **Step 4: Design the Convolutional Neural Network model**"
      ]
    },
    {
      "cell_type": "code",
      "metadata": {
        "id": "bFuCj6g9NnLO",
        "colab_type": "code",
        "outputId": "bc596337-c79c-41de-f15c-7b7bac0a36c8",
        "colab": {
          "base_uri": "https://localhost:8080/",
          "height": 483
        }
      },
      "source": [
        "print('Build the CNN model')\n",
        "model =models.Sequential()\n",
        "#Block 1\n",
        "model.add(layers.Conv2D(32, kernel_size=(3, 3), dilation_rate=(1,1), padding = 'same', strides=(1,1), kernel_initializer='glorot_uniform', activation='relu', input_shape=(224, 224, 3)))\n",
        "model.add(layers.Conv2D(32, kernel_size=(3, 3), dilation_rate=(1,1), padding = 'same', strides=(1,1), kernel_initializer='glorot_uniform', activation='relu'))\n",
        "model.add(layers.MaxPooling2D(pool_size=(2, 2), strides=(2, 2)))\n",
        "#Block 2\n",
        "model.add(layers.Conv2D(64, kernel_size=(3, 3), dilation_rate=(1,1), padding = 'same', strides=(1,1), kernel_initializer='glorot_uniform', activation='relu'))\n",
        "model.add(layers.Conv2D(64, kernel_size=(3, 3), dilation_rate=(1,1), padding = 'same', strides=(1,1), kernel_initializer='glorot_uniform', activation='relu'))\n",
        "model.add(layers.MaxPooling2D(pool_size=(2, 2), strides=(2, 2)))\n",
        "#Classification block\n",
        "model.add(layers.Flatten())\n",
        "model.add(layers.Dense(512, kernel_initializer='glorot_uniform',activation='relu'))\n",
        "model.add(layers.Dense(6,activation='softmax'))\n",
        "model.summary()\n",
        "print('The CNN model is now ready for training the images. Go ahead and compile the model')"
      ],
      "execution_count": 0,
      "outputs": [
        {
          "output_type": "stream",
          "text": [
            "Build the CNN model\n",
            "Model: \"sequential\"\n",
            "_________________________________________________________________\n",
            "Layer (type)                 Output Shape              Param #   \n",
            "=================================================================\n",
            "conv2d (Conv2D)              (None, 224, 224, 32)      896       \n",
            "_________________________________________________________________\n",
            "conv2d_1 (Conv2D)            (None, 224, 224, 32)      9248      \n",
            "_________________________________________________________________\n",
            "max_pooling2d (MaxPooling2D) (None, 112, 112, 32)      0         \n",
            "_________________________________________________________________\n",
            "conv2d_2 (Conv2D)            (None, 112, 112, 64)      18496     \n",
            "_________________________________________________________________\n",
            "conv2d_3 (Conv2D)            (None, 112, 112, 64)      36928     \n",
            "_________________________________________________________________\n",
            "max_pooling2d_1 (MaxPooling2 (None, 56, 56, 64)        0         \n",
            "_________________________________________________________________\n",
            "flatten (Flatten)            (None, 200704)            0         \n",
            "_________________________________________________________________\n",
            "dense (Dense)                (None, 512)               102760960 \n",
            "_________________________________________________________________\n",
            "dense_1 (Dense)              (None, 6)                 3078      \n",
            "=================================================================\n",
            "Total params: 102,829,606\n",
            "Trainable params: 102,829,606\n",
            "Non-trainable params: 0\n",
            "_________________________________________________________________\n",
            "The CNN model is now ready for training the images. Go ahead and compile the model\n"
          ],
          "name": "stdout"
        }
      ]
    },
    {
      "cell_type": "markdown",
      "metadata": {
        "id": "2sLKZDkZe0Zn",
        "colab_type": "text"
      },
      "source": [
        "**Compile the designed CNN model**"
      ]
    },
    {
      "cell_type": "code",
      "metadata": {
        "id": "2TsGY2i7NrWj",
        "colab_type": "code",
        "outputId": "abd9ce27-d52a-49cf-aac8-7d6114d35d6b",
        "colab": {
          "base_uri": "https://localhost:8080/",
          "height": 33
        }
      },
      "source": [
        "learning_rate= 1e-3  \n",
        "model.compile(loss='categorical_crossentropy',\n",
        "    optimizer=optimizers.RMSprop(lr=learning_rate),\n",
        "    metrics=['accuracy'])\n",
        "print('Model compiled')"
      ],
      "execution_count": 0,
      "outputs": [
        {
          "output_type": "stream",
          "text": [
            "Model compiled\n"
          ],
          "name": "stdout"
        }
      ]
    },
    {
      "cell_type": "code",
      "metadata": {
        "id": "MMGxgmH4OGdW",
        "colab_type": "code",
        "colab": {}
      },
      "source": [
        "callbacks_list = [\n",
        "    callbacks.ModelCheckpoint(\n",
        "        filepath = 'vgg-baseline-model.h5',\n",
        "        monitor = 'val_loss',\n",
        "        save_best_only = True)\n",
        "    #callbacks.ReduceLROnPlateau(\n",
        "     #   monitor = 'val_loss',\n",
        "      #  factor = 0.1,\n",
        "       # patience = 5),\n",
        "   # callbacks.CSVLogger(\n",
        "    #    filename='vgg-baseline-model.csv',\n",
        "      #  separator = ',',\n",
        "     #   append = False)\n",
        "]"
      ],
      "execution_count": 0,
      "outputs": []
    },
    {
      "cell_type": "markdown",
      "metadata": {
        "id": "ZX_L4XeZe6Vk",
        "colab_type": "text"
      },
      "source": [
        "# **Step 5: Train the model**\n",
        "\n",
        "> Feed the training data and evaluate the model on validation data.\n",
        "\n",
        "> Choose the number of epochs and calculate the time it takes for the model to learn the data.\n",
        "\n",
        "\n",
        "\n"
      ]
    },
    {
      "cell_type": "code",
      "metadata": {
        "id": "C3z-LlejNv6N",
        "colab_type": "code",
        "outputId": "5ba05541-efa4-4b6d-b84a-08a65d2081a5",
        "colab": {
          "base_uri": "https://localhost:8080/",
          "height": 1000
        }
      },
      "source": [
        "print('Fit the model...')\n",
        "t0 = time() #timing counter starts\n",
        "print('The model has started learning...')\n",
        "nepochs=30\n",
        "print('The model will be trained on',nepochs,'epochs')\n",
        "batch_size=32\n",
        "history=model.fit(train_data, #Learning process starts\n",
        "                  steps_per_epoch=7200//batch_size,\n",
        "                  epochs=nepochs,\n",
        "                  validation_data=valid_data,\n",
        "                  validation_steps=600//batch_size,\n",
        "                  callbacks=callbacks_list)\n",
        "print('Fit model took', int(time() - t0),'s')"
      ],
      "execution_count": 0,
      "outputs": [
        {
          "output_type": "stream",
          "text": [
            "Fit the model...\n",
            "The model has started learning...\n",
            "The model will be trained on 30 epochs\n",
            "Epoch 1/30\n",
            "225/225 [==============================] - 38s 169ms/step - loss: 1.8086 - accuracy: 0.4810 - val_loss: 1.3348 - val_accuracy: 0.5816\n",
            "Epoch 2/30\n",
            "225/225 [==============================] - 38s 168ms/step - loss: 0.8001 - accuracy: 0.7374 - val_loss: 0.7572 - val_accuracy: 0.7378\n",
            "Epoch 3/30\n",
            "225/225 [==============================] - 35s 158ms/step - loss: 0.4175 - accuracy: 0.8637 - val_loss: 0.7629 - val_accuracy: 0.7587\n",
            "Epoch 4/30\n",
            "225/225 [==============================] - 36s 158ms/step - loss: 0.1817 - accuracy: 0.9406 - val_loss: 1.3261 - val_accuracy: 0.7240\n",
            "Epoch 5/30\n",
            "225/225 [==============================] - 36s 158ms/step - loss: 0.1374 - accuracy: 0.9669 - val_loss: 1.8218 - val_accuracy: 0.7378\n",
            "Epoch 6/30\n",
            "225/225 [==============================] - 36s 158ms/step - loss: 0.0877 - accuracy: 0.9799 - val_loss: 2.4163 - val_accuracy: 0.7431\n",
            "Epoch 7/30\n",
            "225/225 [==============================] - 35s 158ms/step - loss: 0.0904 - accuracy: 0.9811 - val_loss: 2.4061 - val_accuracy: 0.6910\n",
            "Epoch 8/30\n",
            "225/225 [==============================] - 35s 158ms/step - loss: 0.1504 - accuracy: 0.9818 - val_loss: 6.4378 - val_accuracy: 0.6615\n",
            "Epoch 9/30\n",
            "225/225 [==============================] - 36s 158ms/step - loss: 0.1116 - accuracy: 0.9806 - val_loss: 4.4439 - val_accuracy: 0.6979\n",
            "Epoch 10/30\n",
            "225/225 [==============================] - 35s 157ms/step - loss: 0.1092 - accuracy: 0.9862 - val_loss: 4.5618 - val_accuracy: 0.6806\n",
            "Epoch 11/30\n",
            "225/225 [==============================] - 36s 158ms/step - loss: 0.0733 - accuracy: 0.9874 - val_loss: 6.1770 - val_accuracy: 0.6215\n",
            "Epoch 12/30\n",
            "225/225 [==============================] - 36s 158ms/step - loss: 0.0973 - accuracy: 0.9896 - val_loss: 5.2962 - val_accuracy: 0.6927\n",
            "Epoch 13/30\n",
            "225/225 [==============================] - 36s 158ms/step - loss: 0.0847 - accuracy: 0.9889 - val_loss: 5.1857 - val_accuracy: 0.6736\n",
            "Epoch 14/30\n",
            "225/225 [==============================] - 36s 158ms/step - loss: 0.1478 - accuracy: 0.9885 - val_loss: 6.0746 - val_accuracy: 0.6858\n",
            "Epoch 15/30\n",
            "225/225 [==============================] - 35s 157ms/step - loss: 0.0655 - accuracy: 0.9915 - val_loss: 7.4246 - val_accuracy: 0.7066\n",
            "Epoch 16/30\n",
            "225/225 [==============================] - 35s 157ms/step - loss: 0.1294 - accuracy: 0.9897 - val_loss: 11.7909 - val_accuracy: 0.6927\n",
            "Epoch 17/30\n",
            "225/225 [==============================] - 35s 157ms/step - loss: 0.1103 - accuracy: 0.9917 - val_loss: 8.2648 - val_accuracy: 0.6667\n",
            "Epoch 18/30\n",
            "225/225 [==============================] - 35s 157ms/step - loss: 0.0625 - accuracy: 0.9946 - val_loss: 10.7423 - val_accuracy: 0.6892\n",
            "Epoch 19/30\n",
            "225/225 [==============================] - 35s 158ms/step - loss: 0.1423 - accuracy: 0.9914 - val_loss: 10.9197 - val_accuracy: 0.6962\n",
            "Epoch 20/30\n",
            "225/225 [==============================] - 35s 157ms/step - loss: 0.1004 - accuracy: 0.9924 - val_loss: 10.4734 - val_accuracy: 0.6944\n",
            "Epoch 21/30\n",
            "225/225 [==============================] - 35s 157ms/step - loss: 0.1837 - accuracy: 0.9896 - val_loss: 8.8795 - val_accuracy: 0.7066\n",
            "Epoch 22/30\n",
            "225/225 [==============================] - 35s 157ms/step - loss: 0.1664 - accuracy: 0.9922 - val_loss: 17.2775 - val_accuracy: 0.7101\n",
            "Epoch 23/30\n",
            "225/225 [==============================] - 35s 157ms/step - loss: 0.1232 - accuracy: 0.9921 - val_loss: 15.4299 - val_accuracy: 0.6840\n",
            "Epoch 24/30\n",
            "225/225 [==============================] - 35s 156ms/step - loss: 0.1129 - accuracy: 0.9936 - val_loss: 19.8367 - val_accuracy: 0.6753\n",
            "Epoch 25/30\n",
            "225/225 [==============================] - 35s 155ms/step - loss: 0.1468 - accuracy: 0.9924 - val_loss: 19.3158 - val_accuracy: 0.6927\n",
            "Epoch 26/30\n",
            "225/225 [==============================] - 35s 156ms/step - loss: 0.1113 - accuracy: 0.9944 - val_loss: 15.3679 - val_accuracy: 0.6858\n",
            "Epoch 27/30\n",
            "225/225 [==============================] - 35s 156ms/step - loss: 0.0967 - accuracy: 0.9924 - val_loss: 16.8020 - val_accuracy: 0.6997\n",
            "Epoch 28/30\n",
            "225/225 [==============================] - 35s 156ms/step - loss: 0.1052 - accuracy: 0.9940 - val_loss: 22.0863 - val_accuracy: 0.7101\n",
            "Epoch 29/30\n",
            "225/225 [==============================] - 35s 155ms/step - loss: 0.1492 - accuracy: 0.9929 - val_loss: 21.1358 - val_accuracy: 0.6927\n",
            "Epoch 30/30\n",
            "225/225 [==============================] - 35s 155ms/step - loss: 0.1174 - accuracy: 0.9968 - val_loss: 27.4007 - val_accuracy: 0.6753\n",
            "Fit model took 1078 s\n"
          ],
          "name": "stdout"
        }
      ]
    },
    {
      "cell_type": "markdown",
      "metadata": {
        "id": "ROF2LTUMfqWL",
        "colab_type": "text"
      },
      "source": [
        "# **Step 6: Evaluate the model**\n",
        "\n",
        "> Plot the learning curves.\n",
        "\n",
        "> Produce a classification report that explains the performance of the model.\n",
        "\n",
        "\n",
        "\n"
      ]
    },
    {
      "cell_type": "code",
      "metadata": {
        "id": "e3eW73Z3fuS3",
        "colab_type": "code",
        "outputId": "d81baf96-150e-4c19-8eb0-fedf8abb98d5",
        "colab": {
          "base_uri": "https://localhost:8080/",
          "height": 573
        }
      },
      "source": [
        "plt.plot(history.history['accuracy'])\n",
        "plt.plot(history.history['val_accuracy'])\n",
        "plt.title('Training and validation accuracy')\n",
        "plt.ylabel('accuracy')\n",
        "plt.xlabel('epoch')\n",
        "plt.legend(['train', 'validation'], loc='upper left')\n",
        "# save image to disk\n",
        "plt.savefig('VGG-Baseline Accuracy', dpi=250)\n",
        "plt.show()\n",
        "\n",
        "# summarize history for loss\n",
        "plt.plot(history.history['loss'])\n",
        "plt.plot(history.history['val_loss'])\n",
        "plt.title('Training and validation loss')\n",
        "plt.ylabel('loss')\n",
        "plt.xlabel('epoch')\n",
        "plt.legend(['train', 'validation'], loc='upper left')\n",
        "# save image to disk\n",
        "plt.savefig('VGG-Baseline Loss', dpi=250)\n",
        "plt.show()"
      ],
      "execution_count": 0,
      "outputs": [
        {
          "output_type": "display_data",
          "data": {
            "image/png": "[encoded data removed]",
            "text/plain": [
              "<Figure size 432x288 with 1 Axes>"
            ]
          },
          "metadata": {
            "tags": [],
            "needs_background": "light"
          }
        },
        {
          "output_type": "display_data",
          "data": {
            "image/png": "[encoded data removed]",
            "text/plain": [
              "<Figure size 432x288 with 1 Axes>"
            ]
          },
          "metadata": {
            "tags": [],
            "needs_background": "light"
          }
        }
      ]
    },
    {
      "cell_type": "markdown",
      "metadata": {
        "id": "cmenGP_vgUbh",
        "colab_type": "text"
      },
      "source": [
        "**Evaluating the model.**"
      ]
    },
    {
      "cell_type": "code",
      "metadata": {
        "id": "VmvM18L_gYef",
        "colab_type": "code",
        "outputId": "4a184e2a-df61-425a-b1cd-a2c503170669",
        "colab": {
          "base_uri": "https://localhost:8080/",
          "height": 33
        }
      },
      "source": [
        "validation_datagen = ImageDataGenerator(rescale = 1./255)\n",
        "evaluate_datagen = validation_datagen.flow_from_directory('/tmp/validation/', class_mode='categorical', target_size=(224,224), batch_size=1,shuffle=False)"
      ],
      "execution_count": 0,
      "outputs": [
        {
          "output_type": "stream",
          "text": [
            "Found 600 images belonging to 6 classes.\n"
          ],
          "name": "stdout"
        }
      ]
    },
    {
      "cell_type": "code",
      "metadata": {
        "id": "7ZPdsb9XguDx",
        "colab_type": "code",
        "outputId": "e2dc821b-247a-4861-d0ed-61b1fc727d25",
        "colab": {
          "base_uri": "https://localhost:8080/",
          "height": 67
        }
      },
      "source": [
        "print('Evaluating the model')\n",
        "t0 = time()\n",
        "evaluate_datagen.reset()\n",
        "val_predict = model.predict(\n",
        "    evaluate_datagen,\n",
        "    steps = 600,\n",
        "    verbose = 1)\n",
        "print('Time taken to evaluate the model:',int(time()-t0),'s')"
      ],
      "execution_count": 0,
      "outputs": [
        {
          "output_type": "stream",
          "text": [
            "Evaluating the model\n",
            "600/600 [==============================] - 3s 5ms/step\n",
            "Time taken to evaluate the model: 3 s\n"
          ],
          "name": "stdout"
        }
      ]
    },
    {
      "cell_type": "code",
      "metadata": {
        "id": "SOsDampKjtu3",
        "colab_type": "code",
        "outputId": "ad2564cf-d4ae-42b4-fb9b-d1589572eaff",
        "colab": {
          "base_uri": "https://localhost:8080/",
          "height": 33
        }
      },
      "source": [
        "validation_samples = val_predict.shape[0]\n",
        "print('Number of data points in validation set:',validation_samples)"
      ],
      "execution_count": 0,
      "outputs": [
        {
          "output_type": "stream",
          "text": [
            "Number of data points in validation set: 600\n"
          ],
          "name": "stdout"
        }
      ]
    },
    {
      "cell_type": "code",
      "metadata": {
        "id": "5kTPDVitkHXx",
        "colab_type": "code",
        "colab": {}
      },
      "source": [
        "val_predicted_classes = np.argmax(val_predict, axis = 1)\n",
        "val_true_classes = evaluate_datagen.classes\n",
        "val_class_labels = list(evaluate_datagen.class_indices.keys())"
      ],
      "execution_count": 0,
      "outputs": []
    },
    {
      "cell_type": "markdown",
      "metadata": {
        "id": "4dDFPKnvl61e",
        "colab_type": "text"
      },
      "source": [
        "**Validation Data Classification Report**"
      ]
    },
    {
      "cell_type": "code",
      "metadata": {
        "id": "Li_p2vcckNTR",
        "colab_type": "code",
        "outputId": "af4bc370-7574-4e1c-d97a-fa603372cce8",
        "colab": {
          "base_uri": "https://localhost:8080/",
          "height": 250
        }
      },
      "source": [
        "validation_report = metrics.classification_report(val_true_classes, val_predicted_classes, target_names=val_class_labels)\n",
        "print('The validation report is as follows:')\n",
        "print(validation_report)"
      ],
      "execution_count": 0,
      "outputs": [
        {
          "output_type": "stream",
          "text": [
            "The validation report is as follows:\n",
            "                  precision    recall  f1-score   support\n",
            "\n",
            "English_springer       0.79      0.70      0.74       100\n",
            "          church       0.65      0.65      0.65       100\n",
            "   garbage_truck       0.70      0.65      0.67       100\n",
            "        gas_pump       0.49      0.63      0.55       100\n",
            "       parachute       0.80      0.66      0.73       100\n",
            "           tench       0.77      0.83      0.80       100\n",
            "\n",
            "        accuracy                           0.69       600\n",
            "       macro avg       0.70      0.69      0.69       600\n",
            "    weighted avg       0.70      0.69      0.69       600\n",
            "\n"
          ],
          "name": "stdout"
        }
      ]
    },
    {
      "cell_type": "code",
      "metadata": {
        "id": "dzlBJFEskaNN",
        "colab_type": "code",
        "colab": {}
      },
      "source": [
        "val_conf_matrix = tf.math.confusion_matrix(labels=val_true_classes, predictions=val_predicted_classes).numpy()"
      ],
      "execution_count": 0,
      "outputs": []
    },
    {
      "cell_type": "code",
      "metadata": {
        "id": "QD-C6hf0kpv2",
        "colab_type": "code",
        "outputId": "73ca35dc-e1cf-426f-a738-814c26d623a8",
        "colab": {
          "base_uri": "https://localhost:8080/",
          "height": 311
        }
      },
      "source": [
        "import seaborn as sns\n",
        "figure1 = plt.figure()\n",
        "sns.heatmap(val_conf_matrix, annot = True, cmap=plt.cm.Greens)\n",
        "plt.tight_layout()\n",
        "plt.ylabel('True Label')\n",
        "plt.xlabel('Predicted label')\n",
        "plt.savefig('Validation data Confusion Matrix', dpi=250)\n",
        "plt.show()"
      ],
      "execution_count": 0,
      "outputs": [
        {
          "output_type": "display_data",
          "data": {
            "image/png": "[encoded data removed]",
            "text/plain": [
              "<Figure size 432x288 with 2 Axes>"
            ]
          },
          "metadata": {
            "tags": [],
            "needs_background": "light"
          }
        }
      ]
    },
    {
      "cell_type": "markdown",
      "metadata": {
        "id": "Pf92yNTPmagq",
        "colab_type": "text"
      },
      "source": [
        "# **Step 7: Performance measurement on Test data**"
      ]
    },
    {
      "cell_type": "code",
      "metadata": {
        "id": "TOROpYvrlfKG",
        "colab_type": "code",
        "outputId": "4fef96b7-f08c-4694-a864-83100538c115",
        "colab": {
          "base_uri": "https://localhost:8080/",
          "height": 33
        }
      },
      "source": [
        "testing_datagen = ImageDataGenerator(rescale = 1./255)\n",
        "test_data_datagen = testing_datagen.flow_from_directory('/tmp/test/', class_mode='categorical', target_size=(224,224), batch_size=1,shuffle=False)"
      ],
      "execution_count": 0,
      "outputs": [
        {
          "output_type": "stream",
          "text": [
            "Found 300 images belonging to 6 classes.\n"
          ],
          "name": "stdout"
        }
      ]
    },
    {
      "cell_type": "code",
      "metadata": {
        "id": "7LsvsAjInBAN",
        "colab_type": "code",
        "outputId": "4faa27a6-9787-46ea-a636-84d5c2dba764",
        "colab": {
          "base_uri": "https://localhost:8080/",
          "height": 50
        }
      },
      "source": [
        "print('Testing the model')\n",
        "final_result = model.evaluate(\n",
        "    test_data_datagen,\n",
        "    steps = 300)"
      ],
      "execution_count": 0,
      "outputs": [
        {
          "output_type": "stream",
          "text": [
            "Testing the model\n",
            "300/300 [==============================] - 2s 6ms/step - loss: 18.3243 - accuracy: 0.7467\n"
          ],
          "name": "stdout"
        }
      ]
    },
    {
      "cell_type": "code",
      "metadata": {
        "id": "IPBSFefpnlZ7",
        "colab_type": "code",
        "outputId": "d5d55772-f16d-404f-81d4-35a9d751a0ae",
        "colab": {
          "base_uri": "https://localhost:8080/",
          "height": 33
        }
      },
      "source": [
        "test_data_datagen.reset()\n",
        "predict_on_test_data = model.predict(\n",
        "    test_data_datagen,\n",
        "    steps = 300,\n",
        "    verbose = 1\n",
        ")"
      ],
      "execution_count": 0,
      "outputs": [
        {
          "output_type": "stream",
          "text": [
            "300/300 [==============================] - 1s 5ms/step\n"
          ],
          "name": "stdout"
        }
      ]
    },
    {
      "cell_type": "code",
      "metadata": {
        "id": "q92LM-biozxE",
        "colab_type": "code",
        "outputId": "fbb24250-d65f-4f32-ca86-77ac87d60fa0",
        "colab": {
          "base_uri": "https://localhost:8080/",
          "height": 33
        }
      },
      "source": [
        "print('Number of data points in test set:',predict_on_test_data.shape[0])"
      ],
      "execution_count": 0,
      "outputs": [
        {
          "output_type": "stream",
          "text": [
            "Number of data points in test set: 300\n"
          ],
          "name": "stdout"
        }
      ]
    },
    {
      "cell_type": "code",
      "metadata": {
        "id": "EtL3lZUepX9N",
        "colab_type": "code",
        "colab": {}
      },
      "source": [
        "predicted_classes = np.argmax(predict_on_test_data,axis=1)\n",
        "predict_true_classes = test_data_datagen.classes\n",
        "predict_class_labels = list(test_data_datagen.class_indices.keys())"
      ],
      "execution_count": 0,
      "outputs": []
    },
    {
      "cell_type": "code",
      "metadata": {
        "id": "qvHwlp46p7Tf",
        "colab_type": "code",
        "outputId": "838f46bd-5297-4569-a616-dbb9a792ee72",
        "colab": {
          "base_uri": "https://localhost:8080/",
          "height": 233
        }
      },
      "source": [
        "test_report = metrics.classification_report(predict_true_classes, predicted_classes, target_names = predict_class_labels)\n",
        "print(test_report)"
      ],
      "execution_count": 0,
      "outputs": [
        {
          "output_type": "stream",
          "text": [
            "                  precision    recall  f1-score   support\n",
            "\n",
            "English_springer       0.87      0.78      0.82        50\n",
            "          church       0.63      0.64      0.63        50\n",
            "   garbage_truck       0.87      0.78      0.82        50\n",
            "        gas_pump       0.54      0.74      0.63        50\n",
            "       parachute       0.93      0.80      0.86        50\n",
            "           tench       0.77      0.74      0.76        50\n",
            "\n",
            "        accuracy                           0.75       300\n",
            "       macro avg       0.77      0.75      0.75       300\n",
            "    weighted avg       0.77      0.75      0.75       300\n",
            "\n"
          ],
          "name": "stdout"
        }
      ]
    },
    {
      "cell_type": "code",
      "metadata": {
        "id": "hrWpSzHbroQ6",
        "colab_type": "code",
        "colab": {}
      },
      "source": [
        "test_confusion_matrix = tf.math.confusion_matrix(labels=predict_true_classes,predictions = predicted_classes).numpy()"
      ],
      "execution_count": 0,
      "outputs": []
    },
    {
      "cell_type": "code",
      "metadata": {
        "id": "W8TNTo-Tr9NG",
        "colab_type": "code",
        "outputId": "43313672-e268-4622-a6ed-5cf90ce599e2",
        "colab": {
          "base_uri": "https://localhost:8080/",
          "height": 311
        }
      },
      "source": [
        "figure1 = plt.figure()\n",
        "sns.heatmap(test_confusion_matrix, annot = True, cmap=plt.cm.Greens)\n",
        "plt.tight_layout()\n",
        "plt.ylabel('True Label')\n",
        "plt.xlabel('Predicted label')\n",
        "plt.savefig('Test data Confusion Matrix', dpi=250)\n",
        "plt.show()"
      ],
      "execution_count": 0,
      "outputs": [
        {
          "output_type": "display_data",
          "data": {
            "image/png": "[encoded data removed]",
            "text/plain": [
              "<Figure size 432x288 with 2 Axes>"
            ]
          },
          "metadata": {
            "tags": [],
            "needs_background": "light"
          }
        }
      ]
    },
    {
      "cell_type": "markdown",
      "metadata": {
        "id": "UEthKiRDxvSg",
        "colab_type": "text"
      },
      "source": [
        "# **Step 8: Save and load the model**"
      ]
    },
    {
      "cell_type": "code",
      "metadata": {
        "id": "Olo9uAKZsP4a",
        "colab_type": "code",
        "outputId": "92e90cf2-0c95-476b-80ba-001e57b12c33",
        "colab": {
          "base_uri": "https://localhost:8080/",
          "height": 33
        }
      },
      "source": [
        "model_json = model.to_json()\n",
        "with open(\"model.json\",\"w\") as json_file:\n",
        "  json_file.write(model_json)\n",
        "  #serializing the weights to HDF5\n",
        "model.save('VGG-BaselineCNN-Model.h5')\n",
        "print('Model saved to the disk')"
      ],
      "execution_count": 0,
      "outputs": [
        {
          "output_type": "stream",
          "text": [
            "Model saved to the disk\n"
          ],
          "name": "stdout"
        }
      ]
    },
    {
      "cell_type": "code",
      "metadata": {
        "id": "tfwX42YnsXnO",
        "colab_type": "code",
        "outputId": "d0b95516-73b0-4041-ee5f-3999f654da12",
        "colab": {
          "base_uri": "https://localhost:8080/",
          "height": 33
        }
      },
      "source": [
        "json_file = open('model.json','r')\n",
        "loaded_json_model = json_file.read()\n",
        "json_file.close()\n",
        "loaded_model=model_from_json(loaded_json_model)\n",
        "loaded_model.load_weights(\"VGG-BaselineCNN-Model.h5\")\n",
        "print(\"Loaded the model from disk\")"
      ],
      "execution_count": 0,
      "outputs": [
        {
          "output_type": "stream",
          "text": [
            "Loaded the model from disk\n"
          ],
          "name": "stdout"
        }
      ]
    },
    {
      "cell_type": "markdown",
      "metadata": {
        "id": "aEpGueFEmNLw",
        "colab_type": "text"
      },
      "source": [
        "# **Author: Japesh Methuku**"
      ]
    }
  ]
}
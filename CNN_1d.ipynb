{
  "nbformat": 4,
  "nbformat_minor": 0,
  "metadata": {
    "colab": {
      "name": "CNN_1d.ipynb",
      "provenance": [],
      "collapsed_sections": [],
      "authorship_tag": "ABX9TyNGR9GjsN1TlEAykPja/gBF",
      "include_colab_link": true
    },
    "kernelspec": {
      "name": "python3",
      "display_name": "Python 3"
    },
    "accelerator": "GPU"
  },
  "cells": [
    {
      "cell_type": "markdown",
      "metadata": {
        "id": "view-in-github",
        "colab_type": "text"
      },
      "source": [
        "<a href=\"https://colab.research.google.com/github/japeshmethuku17/imagenette_6class/blob/master/CNN_1d.ipynb\" target=\"_parent\"><img src=\"https://colab.research.google.com/assets/colab-badge.svg\" alt=\"Open In Colab\"/></a>"
      ]
    },
    {
      "cell_type": "markdown",
      "metadata": {
        "id": "kE6VJZBiKfNb",
        "colab_type": "text"
      },
      "source": [
        "## **Development of a VGG-Baseline Convolutional Neural Network Model to classify images from Imagenette_6class dataset.**\n",
        "\n",
        "\n",
        "\n"
      ]
    },
    {
      "cell_type": "markdown",
      "metadata": {
        "id": "Vk1NOGck8mbo",
        "colab_type": "text"
      },
      "source": [
        "# **Step 1: Import the required libraries**"
      ]
    },
    {
      "cell_type": "code",
      "metadata": {
        "id": "zO81wA3gKVj6",
        "colab_type": "code",
        "outputId": "9efb9f22-3965-4c5d-a50f-cc6ae9a39d53",
        "colab": {
          "base_uri": "https://localhost:8080/",
          "height": 67
        }
      },
      "source": [
        "import tensorflow as tf\n",
        "from tensorflow import keras\n",
        "from sklearn.model_selection import train_test_split\n",
        "from tensorflow.keras import utils\n",
        "from tensorflow.keras import datasets, layers, models, callbacks\n",
        "from tensorflow.keras.layers import Conv2D, MaxPooling2D, Dense, Dropout, Flatten, Activation, BatchNormalization\n",
        "from tensorflow.keras.preprocessing.image import ImageDataGenerator, img_to_array, load_img\n",
        "from tensorflow.keras import optimizers\n",
        "from tensorflow.python.keras.models import Sequential, Model, load_model\n",
        "from tensorflow.keras.callbacks import TensorBoard, ReduceLROnPlateau, ModelCheckpoint, EarlyStopping, CSVLogger\n",
        "from tensorflow.keras.layers import Input, Add, AveragePooling2D, GlobalMaxPooling2D\n",
        "from tensorflow.keras.initializers import glorot_uniform\n",
        "from tensorflow.keras.utils import to_categorical\n",
        "from tensorflow.keras.models import model_from_json\n",
        "import pydot\n",
        "from matplotlib.pyplot import imshow\n",
        "import scipy.misc\n",
        "import os \n",
        "import glob\n",
        "import gc\n",
        "import numpy as np\n",
        "import pandas as pd\n",
        "from joblib import Parallel, delayed\n",
        "import matplotlib.pyplot as plt\n",
        "import sklearn.metrics as metrics\n",
        "import os\n",
        "import zipfile\n",
        "from google.colab import drive\n",
        "import seaborn as sns\n",
        "from time import time\n",
        "print(\"tensorflow version:\",tf.__version__)"
      ],
      "execution_count": 0,
      "outputs": [
        {
          "output_type": "stream",
          "text": [
            "tensorflow version: 2.2.0-rc2\n"
          ],
          "name": "stdout"
        },
        {
          "output_type": "stream",
          "text": [
            "/usr/local/lib/python3.6/dist-packages/statsmodels/tools/_testing.py:19: FutureWarning: pandas.util.testing is deprecated. Use the functions in the public API at pandas.testing instead.\n",
            "  import pandas.util.testing as tm\n"
          ],
          "name": "stderr"
        }
      ]
    },
    {
      "cell_type": "markdown",
      "metadata": {
        "id": "FAQDH4qQ8bQ6",
        "colab_type": "text"
      },
      "source": [
        "# **Step 2: Mount Google Drive and load the data**"
      ]
    },
    {
      "cell_type": "code",
      "metadata": {
        "id": "hZ0C6SbaMpYZ",
        "colab_type": "code",
        "outputId": "c66dd14e-85b6-4a0b-91ab-305810b51e2d",
        "colab": {
          "base_uri": "https://localhost:8080/",
          "height": 33
        }
      },
      "source": [
        "drive.mount('/content/drive/', force_remount=True)\n",
        "\n",
        "zip_ref = zipfile.ZipFile(\"/content/drive/My Drive/imagenette_6class.zip\", 'r')\n",
        "zip_ref.extractall(\"/tmp\")\n",
        "zip_ref.close()"
      ],
      "execution_count": 0,
      "outputs": [
        {
          "output_type": "stream",
          "text": [
            "Mounted at /content/drive/\n"
          ],
          "name": "stdout"
        }
      ]
    },
    {
      "cell_type": "markdown",
      "metadata": {
        "id": "42B5ohfXPs-D",
        "colab_type": "text"
      },
      "source": [
        "**Checking the availability of GPU for computing**"
      ]
    },
    {
      "cell_type": "code",
      "metadata": {
        "id": "3iuMP2lAMv2f",
        "colab_type": "code",
        "outputId": "559ae275-97b9-42f3-cfc9-fbe81f7d0e29",
        "colab": {
          "base_uri": "https://localhost:8080/",
          "height": 33
        }
      },
      "source": [
        "device_name = tf.test.gpu_device_name()\n",
        "if device_name != '/device:GPU:0':\n",
        "  raise SystemError('GPU device not found')\n",
        "print('Found GPU at: {}'.format(device_name))"
      ],
      "execution_count": 0,
      "outputs": [
        {
          "output_type": "stream",
          "text": [
            "Found GPU at: /device:GPU:0\n"
          ],
          "name": "stdout"
        }
      ]
    },
    {
      "cell_type": "markdown",
      "metadata": {
        "id": "ArCs0trlP0RC",
        "colab_type": "text"
      },
      "source": [
        "# **Step 3: Using ImageDataGenerator to feed the images into the neural network**"
      ]
    },
    {
      "cell_type": "code",
      "metadata": {
        "id": "VRrqiaM-M3nb",
        "colab_type": "code",
        "outputId": "6c874848-5a02-4dca-ef51-14616cfbd501",
        "colab": {
          "base_uri": "https://localhost:8080/",
          "height": 67
        }
      },
      "source": [
        "train_datagen = ImageDataGenerator(rescale=1./255)\n",
        "test_datagen = ImageDataGenerator(rescale=1./255)\n",
        "valid_datagen = ImageDataGenerator(rescale = 1./255)\n",
        "train_data = train_datagen.flow_from_directory('/tmp/train/', class_mode='categorical', target_size=(224,224), batch_size=32)\n",
        "test_data = test_datagen.flow_from_directory('/tmp/test/', class_mode='categorical', target_size=(224,224), batch_size=32,shuffle=False)\n",
        "valid_data = valid_datagen.flow_from_directory('/tmp/validation/', class_mode='categorical', target_size=(224,224), batch_size=32,shuffle=False)"
      ],
      "execution_count": 0,
      "outputs": [
        {
          "output_type": "stream",
          "text": [
            "Found 7200 images belonging to 6 classes.\n",
            "Found 300 images belonging to 6 classes.\n",
            "Found 600 images belonging to 6 classes.\n"
          ],
          "name": "stdout"
        }
      ]
    },
    {
      "cell_type": "markdown",
      "metadata": {
        "id": "Ox4DKksEQFVG",
        "colab_type": "text"
      },
      "source": [
        "**Displaying the number of classes**"
      ]
    },
    {
      "cell_type": "code",
      "metadata": {
        "id": "N_uRHHRcNRf9",
        "colab_type": "code",
        "outputId": "58b3b7f5-ac72-48f9-b1ea-4b1a19915fc1",
        "colab": {
          "base_uri": "https://localhost:8080/",
          "height": 67
        }
      },
      "source": [
        "for data_batch, labels_batch in train_data:\n",
        "    print('Data batch:', data_batch.shape)\n",
        "    print('Labels batch:', labels_batch.shape)\n",
        "    print('Number of classes:',labels_batch.shape[1])\n",
        "    break"
      ],
      "execution_count": 0,
      "outputs": [
        {
          "output_type": "stream",
          "text": [
            "Data batch: (32, 224, 224, 3)\n",
            "Labels batch: (32, 6)\n",
            "Number of classes: 6\n"
          ],
          "name": "stdout"
        }
      ]
    },
    {
      "cell_type": "markdown",
      "metadata": {
        "id": "jIpQ0mSEQKqK",
        "colab_type": "text"
      },
      "source": [
        "**Displaying a sample image from one of the classes in Test Data**"
      ]
    },
    {
      "cell_type": "code",
      "metadata": {
        "id": "Xbs32hSsNaQp",
        "colab_type": "code",
        "outputId": "b7efe7a2-2320-4f0e-e9fc-6a33ab9dadcf",
        "colab": {
          "base_uri": "https://localhost:8080/",
          "height": 286
        }
      },
      "source": [
        "#Loading the image by passing image filepath\n",
        "img = load_img(\"/tmp/test/church/ILSVRC2012_val_00034021.JPEG\")\n",
        "x = img_to_array(img)  \n",
        "plt.imshow(img)\n",
        "print('This is just a sample image from the test data.')"
      ],
      "execution_count": 0,
      "outputs": [
        {
          "output_type": "stream",
          "text": [
            "This is just a sample image from the test data.\n"
          ],
          "name": "stdout"
        },
        {
          "output_type": "display_data",
          "data": {
            "image/png": "[encoded data removed]",
            "text/plain": [
              "<Figure size 432x288 with 1 Axes>"
            ]
          },
          "metadata": {
            "tags": [],
            "needs_background": "light"
          }
        }
      ]
    },
    {
      "cell_type": "markdown",
      "metadata": {
        "id": "HS2XE0edemJz",
        "colab_type": "text"
      },
      "source": [
        "# **Step 4: Design the Convolutional Neural Network model**\n",
        "\n",
        "> Addtiton of BatchNormaliztion to the CNN model.\n",
        "\n"
      ]
    },
    {
      "cell_type": "code",
      "metadata": {
        "id": "bFuCj6g9NnLO",
        "colab_type": "code",
        "outputId": "9a50f2b1-369f-43d1-c28f-a489219019be",
        "colab": {
          "base_uri": "https://localhost:8080/",
          "height": 550
        }
      },
      "source": [
        "print('Build the CNN model')\n",
        "model =models.Sequential()\n",
        "#Block 1\n",
        "model.add(layers.Conv2D(32, kernel_size=(3, 3), dilation_rate=(1,1), padding = 'same', strides=(1,1), kernel_initializer='glorot_uniform', activation='relu', input_shape=(224, 224, 3)))\n",
        "model.add(layers.Conv2D(32, kernel_size=(3, 3), dilation_rate=(1,1), padding = 'same', strides=(1,1), kernel_initializer='glorot_uniform', activation='relu'))\n",
        "model.add(layers.BatchNormalization()) #Addition of BatchNormalization to the VGG-Baseline-CNN model developed in EE544_Assignment_1a.ipynb\n",
        "model.add(layers.MaxPooling2D(pool_size=(2, 2), strides=(2, 2)))\n",
        "#Block 2\n",
        "model.add(layers.Conv2D(64, kernel_size=(3, 3), dilation_rate=(1,1), padding = 'same', strides=(1,1), kernel_initializer='glorot_uniform', activation='relu'))\n",
        "model.add(layers.Conv2D(64, kernel_size=(3, 3), dilation_rate=(1,1), padding = 'same', strides=(1,1), kernel_initializer='glorot_uniform', activation='relu'))\n",
        "model.add(layers.BatchNormalization())\n",
        "model.add(layers.MaxPooling2D(pool_size=(2, 2), strides=(2, 2)))\n",
        "#Classification block\n",
        "model.add(layers.Flatten())\n",
        "model.add(layers.Dense(512, kernel_initializer='glorot_uniform',activation='relu'))\n",
        "model.add(layers.Dense(6,activation='softmax'))\n",
        "model.summary()\n",
        "print('The CNN model is now ready for training the images. Go ahead and compile the model')"
      ],
      "execution_count": 0,
      "outputs": [
        {
          "output_type": "stream",
          "text": [
            "Build the CNN model\n",
            "Model: \"sequential\"\n",
            "_________________________________________________________________\n",
            "Layer (type)                 Output Shape              Param #   \n",
            "=================================================================\n",
            "conv2d (Conv2D)              (None, 224, 224, 32)      896       \n",
            "_________________________________________________________________\n",
            "conv2d_1 (Conv2D)            (None, 224, 224, 32)      9248      \n",
            "_________________________________________________________________\n",
            "batch_normalization (BatchNo (None, 224, 224, 32)      128       \n",
            "_________________________________________________________________\n",
            "max_pooling2d (MaxPooling2D) (None, 112, 112, 32)      0         \n",
            "_________________________________________________________________\n",
            "conv2d_2 (Conv2D)            (None, 112, 112, 64)      18496     \n",
            "_________________________________________________________________\n",
            "conv2d_3 (Conv2D)            (None, 112, 112, 64)      36928     \n",
            "_________________________________________________________________\n",
            "batch_normalization_1 (Batch (None, 112, 112, 64)      256       \n",
            "_________________________________________________________________\n",
            "max_pooling2d_1 (MaxPooling2 (None, 56, 56, 64)        0         \n",
            "_________________________________________________________________\n",
            "flatten (Flatten)            (None, 200704)            0         \n",
            "_________________________________________________________________\n",
            "dense (Dense)                (None, 512)               102760960 \n",
            "_________________________________________________________________\n",
            "dense_1 (Dense)              (None, 6)                 3078      \n",
            "=================================================================\n",
            "Total params: 102,829,990\n",
            "Trainable params: 102,829,798\n",
            "Non-trainable params: 192\n",
            "_________________________________________________________________\n",
            "The CNN model is now ready for training the images. Go ahead and compile the model\n"
          ],
          "name": "stdout"
        }
      ]
    },
    {
      "cell_type": "markdown",
      "metadata": {
        "id": "2sLKZDkZe0Zn",
        "colab_type": "text"
      },
      "source": [
        "**Compile the designed CNN model**"
      ]
    },
    {
      "cell_type": "code",
      "metadata": {
        "id": "2TsGY2i7NrWj",
        "colab_type": "code",
        "outputId": "fc69f4dd-dd0a-4d34-d10f-5bb15fe3f566",
        "colab": {
          "base_uri": "https://localhost:8080/",
          "height": 33
        }
      },
      "source": [
        "learning_rate= 1e-3  \n",
        "model.compile(loss='categorical_crossentropy',\n",
        "    optimizer=optimizers.RMSprop(lr=learning_rate),\n",
        "    metrics=['accuracy'])\n",
        "print('Model compiled')"
      ],
      "execution_count": 0,
      "outputs": [
        {
          "output_type": "stream",
          "text": [
            "Model compiled\n"
          ],
          "name": "stdout"
        }
      ]
    },
    {
      "cell_type": "code",
      "metadata": {
        "id": "MMGxgmH4OGdW",
        "colab_type": "code",
        "colab": {}
      },
      "source": [
        "callbacks_list = [\n",
        "    callbacks.ModelCheckpoint(\n",
        "        filepath = 'vgg-batch-norm-model.h5',\n",
        "        monitor = 'val_loss',\n",
        "        save_best_only = True)\n",
        "    #callbacks.ReduceLROnPlateau(\n",
        "     #   monitor = 'val_loss',\n",
        "      #  factor = 0.1,\n",
        "       # patience = 5),\n",
        "   # callbacks.CSVLogger(\n",
        "    #    filename='vgg-baseline-model.csv',\n",
        "      #  separator = ',',\n",
        "     #   append = False)\n",
        "]"
      ],
      "execution_count": 0,
      "outputs": []
    },
    {
      "cell_type": "markdown",
      "metadata": {
        "id": "ZX_L4XeZe6Vk",
        "colab_type": "text"
      },
      "source": [
        "# **Step 5: Train the model**\n",
        "\n",
        "> Feed the training data and evaluate the model on validation data.\n",
        "\n",
        "> Choose the number of epochs and calculate the time it takes for the model to learn the data.\n",
        "\n",
        "\n",
        "\n"
      ]
    },
    {
      "cell_type": "code",
      "metadata": {
        "id": "C3z-LlejNv6N",
        "colab_type": "code",
        "outputId": "6dc31a8b-2c00-4413-dc7b-810b7bb7f0b5",
        "colab": {
          "base_uri": "https://localhost:8080/",
          "height": 1000
        }
      },
      "source": [
        "print('Fit the model...')\n",
        "t0 = time() #timing counter starts\n",
        "print('The model has started learning...')\n",
        "nepochs=30\n",
        "print('The model will be trained on',nepochs,'epochs')\n",
        "batch_size=32\n",
        "history=model.fit(train_data, #Learning process starts\n",
        "                  steps_per_epoch=7200//batch_size,\n",
        "                  epochs=nepochs,\n",
        "                  validation_data=valid_data,\n",
        "                  validation_steps=600//batch_size,\n",
        "                  callbacks=callbacks_list)\n",
        "print('Fit model took', int(time() - t0),'s')"
      ],
      "execution_count": 0,
      "outputs": [
        {
          "output_type": "stream",
          "text": [
            "Fit the model...\n",
            "The model has started learning...\n",
            "The model will be trained on 30 epochs\n",
            "Epoch 1/30\n",
            "225/225 [==============================] - 31s 140ms/step - loss: 12.7066 - accuracy: 0.4283 - val_loss: 10.2749 - val_accuracy: 0.3333\n",
            "Epoch 2/30\n",
            "225/225 [==============================] - 32s 143ms/step - loss: 1.0791 - accuracy: 0.6404 - val_loss: 1.9171 - val_accuracy: 0.3976\n",
            "Epoch 3/30\n",
            "225/225 [==============================] - 32s 141ms/step - loss: 0.6505 - accuracy: 0.7844 - val_loss: 1.3384 - val_accuracy: 0.4965\n",
            "Epoch 4/30\n",
            "225/225 [==============================] - 29s 128ms/step - loss: 0.4032 - accuracy: 0.8726 - val_loss: 1.4045 - val_accuracy: 0.7031\n",
            "Epoch 5/30\n",
            "225/225 [==============================] - 31s 140ms/step - loss: 0.2845 - accuracy: 0.9085 - val_loss: 1.1498 - val_accuracy: 0.7205\n",
            "Epoch 6/30\n",
            "225/225 [==============================] - 29s 128ms/step - loss: 0.2041 - accuracy: 0.9340 - val_loss: 1.9943 - val_accuracy: 0.6319\n",
            "Epoch 7/30\n",
            "225/225 [==============================] - 29s 128ms/step - loss: 0.1658 - accuracy: 0.9474 - val_loss: 1.9616 - val_accuracy: 0.6667\n",
            "Epoch 8/30\n",
            "225/225 [==============================] - 29s 128ms/step - loss: 0.1296 - accuracy: 0.9581 - val_loss: 1.7825 - val_accuracy: 0.6806\n",
            "Epoch 9/30\n",
            "225/225 [==============================] - 29s 128ms/step - loss: 0.1647 - accuracy: 0.9608 - val_loss: 3.3893 - val_accuracy: 0.6753\n",
            "Epoch 10/30\n",
            "225/225 [==============================] - 29s 128ms/step - loss: 0.1468 - accuracy: 0.9642 - val_loss: 2.0051 - val_accuracy: 0.7135\n",
            "Epoch 11/30\n",
            "225/225 [==============================] - 29s 127ms/step - loss: 0.0967 - accuracy: 0.9715 - val_loss: 1.9455 - val_accuracy: 0.7083\n",
            "Epoch 12/30\n",
            "225/225 [==============================] - 29s 128ms/step - loss: 0.0874 - accuracy: 0.9764 - val_loss: 2.1761 - val_accuracy: 0.6701\n",
            "Epoch 13/30\n",
            "225/225 [==============================] - 29s 128ms/step - loss: 0.0917 - accuracy: 0.9743 - val_loss: 4.4371 - val_accuracy: 0.6701\n",
            "Epoch 14/30\n",
            "225/225 [==============================] - 28s 126ms/step - loss: 0.0907 - accuracy: 0.9768 - val_loss: 12.7097 - val_accuracy: 0.5694\n",
            "Epoch 15/30\n",
            "225/225 [==============================] - 28s 127ms/step - loss: 0.1015 - accuracy: 0.9771 - val_loss: 2.9219 - val_accuracy: 0.6944\n",
            "Epoch 16/30\n",
            "225/225 [==============================] - 29s 128ms/step - loss: 0.0762 - accuracy: 0.9818 - val_loss: 3.4083 - val_accuracy: 0.7101\n",
            "Epoch 17/30\n",
            "225/225 [==============================] - 29s 127ms/step - loss: 0.0600 - accuracy: 0.9851 - val_loss: 6.6415 - val_accuracy: 0.6424\n",
            "Epoch 18/30\n",
            "225/225 [==============================] - 29s 128ms/step - loss: 0.0810 - accuracy: 0.9833 - val_loss: 3.5566 - val_accuracy: 0.6372\n",
            "Epoch 19/30\n",
            "225/225 [==============================] - 29s 127ms/step - loss: 0.0747 - accuracy: 0.9787 - val_loss: 2.6449 - val_accuracy: 0.6753\n",
            "Epoch 20/30\n",
            "225/225 [==============================] - 29s 127ms/step - loss: 0.0597 - accuracy: 0.9860 - val_loss: 37.5421 - val_accuracy: 0.4358\n",
            "Epoch 21/30\n",
            "225/225 [==============================] - 29s 128ms/step - loss: 0.0815 - accuracy: 0.9853 - val_loss: 3.6225 - val_accuracy: 0.6875\n",
            "Epoch 22/30\n",
            "225/225 [==============================] - 29s 127ms/step - loss: 0.0587 - accuracy: 0.9861 - val_loss: 6.4048 - val_accuracy: 0.6094\n",
            "Epoch 23/30\n",
            "225/225 [==============================] - 29s 127ms/step - loss: 0.1261 - accuracy: 0.9832 - val_loss: 4.4644 - val_accuracy: 0.7326\n",
            "Epoch 24/30\n",
            "225/225 [==============================] - 29s 127ms/step - loss: 0.0655 - accuracy: 0.9869 - val_loss: 4.9109 - val_accuracy: 0.6649\n",
            "Epoch 25/30\n",
            "225/225 [==============================] - 28s 125ms/step - loss: 0.0654 - accuracy: 0.9890 - val_loss: 6.3225 - val_accuracy: 0.6771\n",
            "Epoch 26/30\n",
            "225/225 [==============================] - 28s 125ms/step - loss: 0.0650 - accuracy: 0.9892 - val_loss: 4.6452 - val_accuracy: 0.6771\n",
            "Epoch 27/30\n",
            "225/225 [==============================] - 28s 125ms/step - loss: 0.0484 - accuracy: 0.9907 - val_loss: 7.1256 - val_accuracy: 0.5972\n",
            "Epoch 28/30\n",
            "225/225 [==============================] - 28s 124ms/step - loss: 0.0689 - accuracy: 0.9885 - val_loss: 6.8284 - val_accuracy: 0.5903\n",
            "Epoch 29/30\n",
            "225/225 [==============================] - 28s 124ms/step - loss: 0.0771 - accuracy: 0.9903 - val_loss: 5.7961 - val_accuracy: 0.7118\n",
            "Epoch 30/30\n",
            "225/225 [==============================] - 28s 124ms/step - loss: 0.0957 - accuracy: 0.9860 - val_loss: 4.3350 - val_accuracy: 0.7309\n",
            "Fit model took 874 s\n"
          ],
          "name": "stdout"
        }
      ]
    },
    {
      "cell_type": "markdown",
      "metadata": {
        "id": "ROF2LTUMfqWL",
        "colab_type": "text"
      },
      "source": [
        "# **Step 6: Evaluate the model**\n",
        "\n",
        "> Plot the learning curves.\n",
        "\n",
        "> Produce a classification report that explains the performance of the model.\n",
        "\n",
        "\n",
        "\n"
      ]
    },
    {
      "cell_type": "code",
      "metadata": {
        "id": "e3eW73Z3fuS3",
        "colab_type": "code",
        "outputId": "cfdeaff8-9ca9-40f5-8e9c-7ffe9eb151a4",
        "colab": {
          "base_uri": "https://localhost:8080/",
          "height": 573
        }
      },
      "source": [
        "plt.plot(history.history['accuracy'])\n",
        "plt.plot(history.history['val_accuracy'])\n",
        "plt.title('Training and validation accuracy')\n",
        "plt.ylabel('accuracy')\n",
        "plt.xlabel('epoch')\n",
        "plt.legend(['train', 'validation'], loc='upper left')\n",
        "# save image to disk\n",
        "plt.savefig('VGG-batch-norm Accuracy', dpi=250)\n",
        "plt.show()\n",
        "\n",
        "# summarize history for loss\n",
        "plt.plot(history.history['loss'])\n",
        "plt.plot(history.history['val_loss'])\n",
        "plt.title('Training and validation loss')\n",
        "plt.ylabel('loss')\n",
        "plt.xlabel('epoch')\n",
        "plt.legend(['train', 'validation'], loc='upper left')\n",
        "# save image to disk\n",
        "plt.savefig('VGG-batch-norm Loss', dpi=250)\n",
        "plt.show()"
      ],
      "execution_count": 0,
      "outputs": [
        {
          "output_type": "display_data",
          "data": {
            "image/png": "[encoded data removed]",
            "text/plain": [
              "<Figure size 432x288 with 1 Axes>"
            ]
          },
          "metadata": {
            "tags": [],
            "needs_background": "light"
          }
        },
        {
          "output_type": "display_data",
          "data": {
            "image/png": "[encoded data removed]",
            "text/plain": [
              "<Figure size 432x288 with 1 Axes>"
            ]
          },
          "metadata": {
            "tags": [],
            "needs_background": "light"
          }
        }
      ]
    },
    {
      "cell_type": "markdown",
      "metadata": {
        "id": "cmenGP_vgUbh",
        "colab_type": "text"
      },
      "source": [
        "**Evaluating the model.**"
      ]
    },
    {
      "cell_type": "code",
      "metadata": {
        "id": "VmvM18L_gYef",
        "colab_type": "code",
        "outputId": "91c8fc46-844e-4b6b-ef2a-4a464111e792",
        "colab": {
          "base_uri": "https://localhost:8080/",
          "height": 33
        }
      },
      "source": [
        "validation_datagen = ImageDataGenerator(rescale = 1./255)\n",
        "evaluate_datagen = validation_datagen.flow_from_directory('/tmp/validation/', class_mode='categorical', target_size=(224,224), batch_size=1,shuffle=False)"
      ],
      "execution_count": 0,
      "outputs": [
        {
          "output_type": "stream",
          "text": [
            "Found 600 images belonging to 6 classes.\n"
          ],
          "name": "stdout"
        }
      ]
    },
    {
      "cell_type": "code",
      "metadata": {
        "id": "7ZPdsb9XguDx",
        "colab_type": "code",
        "outputId": "3e498aec-ed5b-43f7-a50a-789ca5d94c80",
        "colab": {
          "base_uri": "https://localhost:8080/",
          "height": 67
        }
      },
      "source": [
        "print('Evaluating the model')\n",
        "t0 = time()\n",
        "evaluate_datagen.reset()\n",
        "val_predict = model.predict(\n",
        "    evaluate_datagen,\n",
        "    steps = 600,\n",
        "    verbose = 1)\n",
        "print('Time taken to evaluate the model:',int(time()-t0),'s')"
      ],
      "execution_count": 0,
      "outputs": [
        {
          "output_type": "stream",
          "text": [
            "Evaluating the model\n",
            "600/600 [==============================] - 3s 4ms/step\n",
            "Time taken to evaluate the model: 2 s\n"
          ],
          "name": "stdout"
        }
      ]
    },
    {
      "cell_type": "code",
      "metadata": {
        "id": "SOsDampKjtu3",
        "colab_type": "code",
        "outputId": "9fb8d729-d5d0-45d1-f00e-c610394d020b",
        "colab": {
          "base_uri": "https://localhost:8080/",
          "height": 33
        }
      },
      "source": [
        "validation_samples = val_predict.shape[0]\n",
        "print('Number of data points in validation set:',validation_samples)"
      ],
      "execution_count": 0,
      "outputs": [
        {
          "output_type": "stream",
          "text": [
            "Number of data points in validation set: 600\n"
          ],
          "name": "stdout"
        }
      ]
    },
    {
      "cell_type": "code",
      "metadata": {
        "id": "5kTPDVitkHXx",
        "colab_type": "code",
        "colab": {}
      },
      "source": [
        "val_predicted_classes = np.argmax(val_predict, axis = 1)\n",
        "val_true_classes = evaluate_datagen.classes\n",
        "val_class_labels = list(evaluate_datagen.class_indices.keys())"
      ],
      "execution_count": 0,
      "outputs": []
    },
    {
      "cell_type": "markdown",
      "metadata": {
        "id": "4dDFPKnvl61e",
        "colab_type": "text"
      },
      "source": [
        "**Validation Data Classification Report**"
      ]
    },
    {
      "cell_type": "code",
      "metadata": {
        "id": "Li_p2vcckNTR",
        "colab_type": "code",
        "outputId": "140f2aef-94d4-47b4-ae11-fffce6748e9c",
        "colab": {
          "base_uri": "https://localhost:8080/",
          "height": 250
        }
      },
      "source": [
        "validation_report = metrics.classification_report(val_true_classes, val_predicted_classes, target_names=val_class_labels)\n",
        "print('The validation report is as follows:')\n",
        "print(validation_report)"
      ],
      "execution_count": 0,
      "outputs": [
        {
          "output_type": "stream",
          "text": [
            "The validation report is as follows:\n",
            "                  precision    recall  f1-score   support\n",
            "\n",
            "English_springer       0.84      0.74      0.79       100\n",
            "          church       0.61      0.73      0.66       100\n",
            "   garbage_truck       0.75      0.62      0.68       100\n",
            "        gas_pump       0.73      0.61      0.66       100\n",
            "       parachute       0.84      0.87      0.85       100\n",
            "           tench       0.71      0.86      0.78       100\n",
            "\n",
            "        accuracy                           0.74       600\n",
            "       macro avg       0.74      0.74      0.74       600\n",
            "    weighted avg       0.74      0.74      0.74       600\n",
            "\n"
          ],
          "name": "stdout"
        }
      ]
    },
    {
      "cell_type": "code",
      "metadata": {
        "id": "dzlBJFEskaNN",
        "colab_type": "code",
        "colab": {}
      },
      "source": [
        "val_conf_matrix = tf.math.confusion_matrix(labels=val_true_classes, predictions=val_predicted_classes).numpy()"
      ],
      "execution_count": 0,
      "outputs": []
    },
    {
      "cell_type": "code",
      "metadata": {
        "id": "QD-C6hf0kpv2",
        "colab_type": "code",
        "outputId": "c3649048-44ff-436a-8d9f-5e263d257c76",
        "colab": {
          "base_uri": "https://localhost:8080/",
          "height": 311
        }
      },
      "source": [
        "import seaborn as sns\n",
        "figure1 = plt.figure()\n",
        "sns.heatmap(val_conf_matrix, annot = True, cmap=plt.cm.Greens)\n",
        "plt.tight_layout()\n",
        "plt.ylabel('True Label')\n",
        "plt.xlabel('Predicted label')\n",
        "plt.savefig('Validation data Confusion Matrix_v4', dpi=250)\n",
        "plt.show()"
      ],
      "execution_count": 0,
      "outputs": [
        {
          "output_type": "display_data",
          "data": {
            "image/png": "[encoded data removed]",
            "text/plain": [
              "<Figure size 432x288 with 2 Axes>"
            ]
          },
          "metadata": {
            "tags": [],
            "needs_background": "light"
          }
        }
      ]
    },
    {
      "cell_type": "markdown",
      "metadata": {
        "id": "Pf92yNTPmagq",
        "colab_type": "text"
      },
      "source": [
        "# **Step 7: Performance measurement on Test data**"
      ]
    },
    {
      "cell_type": "code",
      "metadata": {
        "id": "TOROpYvrlfKG",
        "colab_type": "code",
        "outputId": "87952f29-27ea-4a6f-e9c2-af0b12d43554",
        "colab": {
          "base_uri": "https://localhost:8080/",
          "height": 33
        }
      },
      "source": [
        "testing_datagen = ImageDataGenerator(rescale = 1./255)\n",
        "test_data_datagen = testing_datagen.flow_from_directory('/tmp/test/', class_mode='categorical', target_size=(224,224), batch_size=1,shuffle=False)"
      ],
      "execution_count": 0,
      "outputs": [
        {
          "output_type": "stream",
          "text": [
            "Found 300 images belonging to 6 classes.\n"
          ],
          "name": "stdout"
        }
      ]
    },
    {
      "cell_type": "code",
      "metadata": {
        "id": "7LsvsAjInBAN",
        "colab_type": "code",
        "outputId": "19a85f10-a29b-4025-d4a1-151e2c8d88bd",
        "colab": {
          "base_uri": "https://localhost:8080/",
          "height": 50
        }
      },
      "source": [
        "print('Testing the model')\n",
        "final_result = model.evaluate(\n",
        "    test_data_datagen,\n",
        "    steps = 300)"
      ],
      "execution_count": 0,
      "outputs": [
        {
          "output_type": "stream",
          "text": [
            "Testing the model\n",
            "300/300 [==============================] - 1s 5ms/step - loss: 2.5642 - accuracy: 0.7867\n"
          ],
          "name": "stdout"
        }
      ]
    },
    {
      "cell_type": "code",
      "metadata": {
        "id": "IPBSFefpnlZ7",
        "colab_type": "code",
        "outputId": "ff39cc9d-6efa-49c4-a9d7-7b64f2b53015",
        "colab": {
          "base_uri": "https://localhost:8080/",
          "height": 33
        }
      },
      "source": [
        "test_data_datagen.reset()\n",
        "predict_on_test_data = model.predict(\n",
        "    test_data_datagen,\n",
        "    steps = 300,\n",
        "    verbose = 1\n",
        ")"
      ],
      "execution_count": 0,
      "outputs": [
        {
          "output_type": "stream",
          "text": [
            "300/300 [==============================] - 1s 4ms/step\n"
          ],
          "name": "stdout"
        }
      ]
    },
    {
      "cell_type": "code",
      "metadata": {
        "id": "q92LM-biozxE",
        "colab_type": "code",
        "outputId": "97591214-2097-4108-b055-02d627530d51",
        "colab": {
          "base_uri": "https://localhost:8080/",
          "height": 33
        }
      },
      "source": [
        "print('Number of data points in test set:',predict_on_test_data.shape[0])"
      ],
      "execution_count": 0,
      "outputs": [
        {
          "output_type": "stream",
          "text": [
            "Number of data points in test set: 300\n"
          ],
          "name": "stdout"
        }
      ]
    },
    {
      "cell_type": "code",
      "metadata": {
        "id": "EtL3lZUepX9N",
        "colab_type": "code",
        "colab": {}
      },
      "source": [
        "predicted_classes = np.argmax(predict_on_test_data,axis=1)\n",
        "predict_true_classes = test_data_datagen.classes\n",
        "predict_class_labels = list(test_data_datagen.class_indices.keys())"
      ],
      "execution_count": 0,
      "outputs": []
    },
    {
      "cell_type": "code",
      "metadata": {
        "id": "qvHwlp46p7Tf",
        "colab_type": "code",
        "outputId": "92243786-1db8-47e4-8a31-989647f564e5",
        "colab": {
          "base_uri": "https://localhost:8080/",
          "height": 233
        }
      },
      "source": [
        "test_report = metrics.classification_report(predict_true_classes, predicted_classes, target_names = predict_class_labels)\n",
        "print(test_report)"
      ],
      "execution_count": 0,
      "outputs": [
        {
          "output_type": "stream",
          "text": [
            "                  precision    recall  f1-score   support\n",
            "\n",
            "English_springer       0.88      0.74      0.80        50\n",
            "          church       0.67      0.76      0.71        50\n",
            "   garbage_truck       0.81      0.78      0.80        50\n",
            "        gas_pump       0.78      0.62      0.69        50\n",
            "       parachute       0.88      0.92      0.90        50\n",
            "           tench       0.74      0.90      0.81        50\n",
            "\n",
            "        accuracy                           0.79       300\n",
            "       macro avg       0.79      0.79      0.79       300\n",
            "    weighted avg       0.79      0.79      0.79       300\n",
            "\n"
          ],
          "name": "stdout"
        }
      ]
    },
    {
      "cell_type": "code",
      "metadata": {
        "id": "hrWpSzHbroQ6",
        "colab_type": "code",
        "colab": {}
      },
      "source": [
        "test_confusion_matrix = tf.math.confusion_matrix(labels=predict_true_classes,predictions = predicted_classes).numpy()"
      ],
      "execution_count": 0,
      "outputs": []
    },
    {
      "cell_type": "code",
      "metadata": {
        "id": "W8TNTo-Tr9NG",
        "colab_type": "code",
        "outputId": "dda73e66-d6dd-40b7-a5b0-2d7aa7f27809",
        "colab": {
          "base_uri": "https://localhost:8080/",
          "height": 311
        }
      },
      "source": [
        "figure1 = plt.figure()\n",
        "sns.heatmap(test_confusion_matrix, annot = True, cmap=plt.cm.Greens)\n",
        "plt.tight_layout()\n",
        "plt.ylabel('True Label')\n",
        "plt.xlabel('Predicted label')\n",
        "plt.savefig('Test data Confusion Matrix_v4', dpi=250)\n",
        "plt.show()"
      ],
      "execution_count": 0,
      "outputs": [
        {
          "output_type": "display_data",
          "data": {
            "image/png": "[encoded data removed]",
            "text/plain": [
              "<Figure size 432x288 with 2 Axes>"
            ]
          },
          "metadata": {
            "tags": [],
            "needs_background": "light"
          }
        }
      ]
    },
    {
      "cell_type": "markdown",
      "metadata": {
        "id": "UEthKiRDxvSg",
        "colab_type": "text"
      },
      "source": [
        "# **Step 8: Save and load the model**"
      ]
    },
    {
      "cell_type": "code",
      "metadata": {
        "id": "Olo9uAKZsP4a",
        "colab_type": "code",
        "outputId": "6c6af980-9641-4f50-cafb-1e402f622382",
        "colab": {
          "base_uri": "https://localhost:8080/",
          "height": 33
        }
      },
      "source": [
        "model_json = model.to_json()\n",
        "with open(\"model.json\",\"w\") as json_file:\n",
        "  json_file.write(model_json)\n",
        "  #serializing the weights to HDF5\n",
        "model.save('VGG-batch-norm-CNN-Model.h5')\n",
        "print('Model saved to the disk')"
      ],
      "execution_count": 0,
      "outputs": [
        {
          "output_type": "stream",
          "text": [
            "Model saved to the disk\n"
          ],
          "name": "stdout"
        }
      ]
    },
    {
      "cell_type": "code",
      "metadata": {
        "id": "tfwX42YnsXnO",
        "colab_type": "code",
        "outputId": "ad3f6bbc-c688-4f93-e575-dade70e75280",
        "colab": {
          "base_uri": "https://localhost:8080/",
          "height": 33
        }
      },
      "source": [
        "json_file = open('model.json','r')\n",
        "loaded_json_model = json_file.read()\n",
        "json_file.close()\n",
        "loaded_model=model_from_json(loaded_json_model)\n",
        "loaded_model.load_weights(\"VGG-batch-norm-CNN-Model.h5\")\n",
        "print(\"Loaded the model from disk\")"
      ],
      "execution_count": 0,
      "outputs": [
        {
          "output_type": "stream",
          "text": [
            "Loaded the model from disk\n"
          ],
          "name": "stdout"
        }
      ]
    },
    {
      "cell_type": "markdown",
      "metadata": {
        "id": "Y1TaTznkljZE",
        "colab_type": "text"
      },
      "source": [
        "# **Author: Japesh Methuku**"
      ]
    }
  ]
}